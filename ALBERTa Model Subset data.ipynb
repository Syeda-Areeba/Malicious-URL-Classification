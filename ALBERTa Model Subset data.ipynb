{
 "cells": [
  {
   "cell_type": "markdown",
   "id": "e24dd3b8-e89b-40d5-8584-3cd0f5a63d5f",
   "metadata": {},
   "source": [
    "### LIBRARIES"
   ]
  },
  {
   "cell_type": "code",
   "execution_count": 18,
   "id": "c378ee72-9bf6-4b36-8dab-8b4bb3fae182",
   "metadata": {},
   "outputs": [],
   "source": [
    "import torch\n",
    "import pandas as pd\n",
    "from transformers import AutoModelForSequenceClassification, AutoTokenizer, TrainingArguments, Trainer\n",
    "import numpy as np\n",
    "from collections import Counter\n",
    "from transformers import AutoTokenizer, AutoModelForSequenceClassification, TrainingArguments, Trainer\n",
    "from sklearn.metrics import accuracy_score, precision_recall_fscore_support\n",
    "from torch.utils.data import Dataset, DataLoader"
   ]
  },
  {
   "cell_type": "markdown",
   "id": "6ae4a386-2ee6-4da1-91ab-294a4fd6d696",
   "metadata": {},
   "source": [
    "### DATA LOADING AND VISUALISATION"
   ]
  },
  {
   "cell_type": "code",
   "execution_count": 2,
   "id": "38ffeb8a-35d7-4a3a-a2d3-077e5ff28cd6",
   "metadata": {},
   "outputs": [
    {
     "name": "stdout",
     "output_type": "stream",
     "text": [
      "                                                 url    type scheme  \\\n",
      "0    https://ethnicelebs.com/eddie-anderson-comedian  benign  https   \n",
      "1  https://closinglogos.com/page/Sony+Pictures+Ho...  benign  https   \n",
      "2  https://terezowens.com/golfer-greg-norman-tryi...  benign  https   \n",
      "3                        https://americannortel.com/  benign  https   \n",
      "4                               https://welding.org/  benign  https   \n",
      "\n",
      "               domain subdomain top_level_domain  \\\n",
      "0     ethnicelebs.com      none              com   \n",
      "1    closinglogos.com      none              com   \n",
      "2      terezowens.com      none              com   \n",
      "3  americannortel.com      none              com   \n",
      "4         welding.org      none              org   \n",
      "\n",
      "                                                path  path_length  \\\n",
      "0                           /eddie-anderson-comedian           24   \n",
      "1  /page/Sony+Pictures+Home+Entertainment+Warning...           53   \n",
      "2  /golfer-greg-norman-trying-to-unload-55-millio...           54   \n",
      "3                                                  /            1   \n",
      "4                                                  /            1   \n",
      "\n",
      "   num_path_segments  query_params  num_query_params  has_https  \\\n",
      "0                  1             0                 0          1   \n",
      "1                  2             0                 0          1   \n",
      "2                  1             0                 0          1   \n",
      "3                  0             0                 0          1   \n",
      "4                  0             0                 0          1   \n",
      "\n",
      "  file_extension  has_fragment  has_special_chars_in_path  has_port  \\\n",
      "0           none             0                          0         0   \n",
      "1           none             0                          0         0   \n",
      "2           none             0                          0         0   \n",
      "3           none             0                          0         0   \n",
      "4           none             0                          0         0   \n",
      "\n",
      "   port_number  is_ip_address  \n",
      "0            0              0  \n",
      "1            0              0  \n",
      "2            0              0  \n",
      "3            0              0  \n",
      "4            0              0  \n",
      "<class 'pandas.core.frame.DataFrame'>\n",
      "RangeIndex: 59605 entries, 0 to 59604\n",
      "Data columns (total 18 columns):\n",
      " #   Column                     Non-Null Count  Dtype \n",
      "---  ------                     --------------  ----- \n",
      " 0   url                        59605 non-null  object\n",
      " 1   type                       59605 non-null  object\n",
      " 2   scheme                     59605 non-null  object\n",
      " 3   domain                     59605 non-null  object\n",
      " 4   subdomain                  59605 non-null  object\n",
      " 5   top_level_domain           59605 non-null  object\n",
      " 6   path                       59605 non-null  object\n",
      " 7   path_length                59605 non-null  int64 \n",
      " 8   num_path_segments          59605 non-null  int64 \n",
      " 9   query_params               59605 non-null  int64 \n",
      " 10  num_query_params           59605 non-null  int64 \n",
      " 11  has_https                  59605 non-null  int64 \n",
      " 12  file_extension             59599 non-null  object\n",
      " 13  has_fragment               59605 non-null  int64 \n",
      " 14  has_special_chars_in_path  59605 non-null  int64 \n",
      " 15  has_port                   59605 non-null  int64 \n",
      " 16  port_number                59605 non-null  int64 \n",
      " 17  is_ip_address              59605 non-null  int64 \n",
      "dtypes: int64(10), object(8)\n",
      "memory usage: 8.2+ MB\n",
      "None\n"
     ]
    }
   ],
   "source": [
    "df = pd.read_csv(\"Balanced_dataset.csv\")\n",
    "print(df.head())  # Show first 5 rows\n",
    "print(df.info())  # Get data types and non-null values\n"
   ]
  },
  {
   "cell_type": "code",
   "execution_count": 3,
   "id": "0b14f9b7-b3f7-4123-abee-51bf818c83b8",
   "metadata": {},
   "outputs": [
    {
     "data": {
      "text/html": [
       "<div>\n",
       "<style scoped>\n",
       "    .dataframe tbody tr th:only-of-type {\n",
       "        vertical-align: middle;\n",
       "    }\n",
       "\n",
       "    .dataframe tbody tr th {\n",
       "        vertical-align: top;\n",
       "    }\n",
       "\n",
       "    .dataframe thead th {\n",
       "        text-align: right;\n",
       "    }\n",
       "</style>\n",
       "<table border=\"1\" class=\"dataframe\">\n",
       "  <thead>\n",
       "    <tr style=\"text-align: right;\">\n",
       "      <th></th>\n",
       "      <th>url</th>\n",
       "      <th>type</th>\n",
       "      <th>scheme</th>\n",
       "      <th>domain</th>\n",
       "      <th>subdomain</th>\n",
       "      <th>top_level_domain</th>\n",
       "      <th>path</th>\n",
       "      <th>path_length</th>\n",
       "      <th>num_path_segments</th>\n",
       "      <th>query_params</th>\n",
       "      <th>num_query_params</th>\n",
       "      <th>has_https</th>\n",
       "      <th>file_extension</th>\n",
       "      <th>has_fragment</th>\n",
       "      <th>has_special_chars_in_path</th>\n",
       "      <th>has_port</th>\n",
       "      <th>port_number</th>\n",
       "      <th>is_ip_address</th>\n",
       "    </tr>\n",
       "  </thead>\n",
       "  <tbody>\n",
       "    <tr>\n",
       "      <th>0</th>\n",
       "      <td>https://ethnicelebs.com/eddie-anderson-comedian</td>\n",
       "      <td>benign</td>\n",
       "      <td>https</td>\n",
       "      <td>ethnicelebs.com</td>\n",
       "      <td>none</td>\n",
       "      <td>com</td>\n",
       "      <td>/eddie-anderson-comedian</td>\n",
       "      <td>24</td>\n",
       "      <td>1</td>\n",
       "      <td>0</td>\n",
       "      <td>0</td>\n",
       "      <td>1</td>\n",
       "      <td>none</td>\n",
       "      <td>0</td>\n",
       "      <td>0</td>\n",
       "      <td>0</td>\n",
       "      <td>0</td>\n",
       "      <td>0</td>\n",
       "    </tr>\n",
       "    <tr>\n",
       "      <th>1</th>\n",
       "      <td>https://closinglogos.com/page/Sony+Pictures+Ho...</td>\n",
       "      <td>benign</td>\n",
       "      <td>https</td>\n",
       "      <td>closinglogos.com</td>\n",
       "      <td>none</td>\n",
       "      <td>com</td>\n",
       "      <td>/page/Sony+Pictures+Home+Entertainment+Warning...</td>\n",
       "      <td>53</td>\n",
       "      <td>2</td>\n",
       "      <td>0</td>\n",
       "      <td>0</td>\n",
       "      <td>1</td>\n",
       "      <td>none</td>\n",
       "      <td>0</td>\n",
       "      <td>0</td>\n",
       "      <td>0</td>\n",
       "      <td>0</td>\n",
       "      <td>0</td>\n",
       "    </tr>\n",
       "    <tr>\n",
       "      <th>2</th>\n",
       "      <td>https://terezowens.com/golfer-greg-norman-tryi...</td>\n",
       "      <td>benign</td>\n",
       "      <td>https</td>\n",
       "      <td>terezowens.com</td>\n",
       "      <td>none</td>\n",
       "      <td>com</td>\n",
       "      <td>/golfer-greg-norman-trying-to-unload-55-millio...</td>\n",
       "      <td>54</td>\n",
       "      <td>1</td>\n",
       "      <td>0</td>\n",
       "      <td>0</td>\n",
       "      <td>1</td>\n",
       "      <td>none</td>\n",
       "      <td>0</td>\n",
       "      <td>0</td>\n",
       "      <td>0</td>\n",
       "      <td>0</td>\n",
       "      <td>0</td>\n",
       "    </tr>\n",
       "    <tr>\n",
       "      <th>3</th>\n",
       "      <td>https://americannortel.com/</td>\n",
       "      <td>benign</td>\n",
       "      <td>https</td>\n",
       "      <td>americannortel.com</td>\n",
       "      <td>none</td>\n",
       "      <td>com</td>\n",
       "      <td>/</td>\n",
       "      <td>1</td>\n",
       "      <td>0</td>\n",
       "      <td>0</td>\n",
       "      <td>0</td>\n",
       "      <td>1</td>\n",
       "      <td>none</td>\n",
       "      <td>0</td>\n",
       "      <td>0</td>\n",
       "      <td>0</td>\n",
       "      <td>0</td>\n",
       "      <td>0</td>\n",
       "    </tr>\n",
       "    <tr>\n",
       "      <th>4</th>\n",
       "      <td>https://welding.org/</td>\n",
       "      <td>benign</td>\n",
       "      <td>https</td>\n",
       "      <td>welding.org</td>\n",
       "      <td>none</td>\n",
       "      <td>org</td>\n",
       "      <td>/</td>\n",
       "      <td>1</td>\n",
       "      <td>0</td>\n",
       "      <td>0</td>\n",
       "      <td>0</td>\n",
       "      <td>1</td>\n",
       "      <td>none</td>\n",
       "      <td>0</td>\n",
       "      <td>0</td>\n",
       "      <td>0</td>\n",
       "      <td>0</td>\n",
       "      <td>0</td>\n",
       "    </tr>\n",
       "    <tr>\n",
       "      <th>...</th>\n",
       "      <td>...</td>\n",
       "      <td>...</td>\n",
       "      <td>...</td>\n",
       "      <td>...</td>\n",
       "      <td>...</td>\n",
       "      <td>...</td>\n",
       "      <td>...</td>\n",
       "      <td>...</td>\n",
       "      <td>...</td>\n",
       "      <td>...</td>\n",
       "      <td>...</td>\n",
       "      <td>...</td>\n",
       "      <td>...</td>\n",
       "      <td>...</td>\n",
       "      <td>...</td>\n",
       "      <td>...</td>\n",
       "      <td>...</td>\n",
       "      <td>...</td>\n",
       "    </tr>\n",
       "    <tr>\n",
       "      <th>59600</th>\n",
       "      <td>http://archives.li.man.ac.uk/ead/search/?opera...</td>\n",
       "      <td>spam</td>\n",
       "      <td>http</td>\n",
       "      <td>archives.li.man.ac.uk</td>\n",
       "      <td>archives</td>\n",
       "      <td>uk</td>\n",
       "      <td>/ead/search/</td>\n",
       "      <td>12</td>\n",
       "      <td>2</td>\n",
       "      <td>6</td>\n",
       "      <td>6</td>\n",
       "      <td>0</td>\n",
       "      <td>none</td>\n",
       "      <td>0</td>\n",
       "      <td>0</td>\n",
       "      <td>0</td>\n",
       "      <td>0</td>\n",
       "      <td>0</td>\n",
       "    </tr>\n",
       "    <tr>\n",
       "      <th>59601</th>\n",
       "      <td>http://amber.ch.ic.ac.uk/archive/all/10253.html</td>\n",
       "      <td>spam</td>\n",
       "      <td>http</td>\n",
       "      <td>amber.ch.ic.ac.uk</td>\n",
       "      <td>amber</td>\n",
       "      <td>uk</td>\n",
       "      <td>/archive/all/10253.html</td>\n",
       "      <td>23</td>\n",
       "      <td>3</td>\n",
       "      <td>0</td>\n",
       "      <td>0</td>\n",
       "      <td>0</td>\n",
       "      <td>html</td>\n",
       "      <td>0</td>\n",
       "      <td>0</td>\n",
       "      <td>0</td>\n",
       "      <td>0</td>\n",
       "      <td>0</td>\n",
       "    </tr>\n",
       "    <tr>\n",
       "      <th>59602</th>\n",
       "      <td>http://archive.thisischeshire.co.uk/2000/1/28/...</td>\n",
       "      <td>spam</td>\n",
       "      <td>http</td>\n",
       "      <td>archive.thisischeshire.co.uk</td>\n",
       "      <td>archive</td>\n",
       "      <td>uk</td>\n",
       "      <td>/2000/1/28/225238.html</td>\n",
       "      <td>22</td>\n",
       "      <td>4</td>\n",
       "      <td>0</td>\n",
       "      <td>0</td>\n",
       "      <td>0</td>\n",
       "      <td>html</td>\n",
       "      <td>0</td>\n",
       "      <td>0</td>\n",
       "      <td>0</td>\n",
       "      <td>0</td>\n",
       "      <td>0</td>\n",
       "    </tr>\n",
       "    <tr>\n",
       "      <th>59603</th>\n",
       "      <td>http://ads.guardian.co.uk/click.ng/Params.rich...</td>\n",
       "      <td>spam</td>\n",
       "      <td>http</td>\n",
       "      <td>ads.guardian.co.uk</td>\n",
       "      <td>ads</td>\n",
       "      <td>uk</td>\n",
       "      <td>/click.ng/Params.richmedia=yes&amp;location=middle...</td>\n",
       "      <td>128</td>\n",
       "      <td>2</td>\n",
       "      <td>0</td>\n",
       "      <td>0</td>\n",
       "      <td>0</td>\n",
       "      <td>richmedia=yes&amp;location=middle&amp;spacedesc=06&amp;sit...</td>\n",
       "      <td>0</td>\n",
       "      <td>1</td>\n",
       "      <td>0</td>\n",
       "      <td>0</td>\n",
       "      <td>0</td>\n",
       "    </tr>\n",
       "    <tr>\n",
       "      <th>59604</th>\n",
       "      <td>http://ancestry.co.uk/search/db.aspx?dbid=22261</td>\n",
       "      <td>spam</td>\n",
       "      <td>http</td>\n",
       "      <td>ancestry.co.uk</td>\n",
       "      <td>ancestry</td>\n",
       "      <td>uk</td>\n",
       "      <td>/search/db.aspx</td>\n",
       "      <td>15</td>\n",
       "      <td>2</td>\n",
       "      <td>1</td>\n",
       "      <td>1</td>\n",
       "      <td>0</td>\n",
       "      <td>aspx</td>\n",
       "      <td>0</td>\n",
       "      <td>0</td>\n",
       "      <td>0</td>\n",
       "      <td>0</td>\n",
       "      <td>0</td>\n",
       "    </tr>\n",
       "  </tbody>\n",
       "</table>\n",
       "<p>59605 rows × 18 columns</p>\n",
       "</div>"
      ],
      "text/plain": [
       "                                                     url    type scheme  \\\n",
       "0        https://ethnicelebs.com/eddie-anderson-comedian  benign  https   \n",
       "1      https://closinglogos.com/page/Sony+Pictures+Ho...  benign  https   \n",
       "2      https://terezowens.com/golfer-greg-norman-tryi...  benign  https   \n",
       "3                            https://americannortel.com/  benign  https   \n",
       "4                                   https://welding.org/  benign  https   \n",
       "...                                                  ...     ...    ...   \n",
       "59600  http://archives.li.man.ac.uk/ead/search/?opera...    spam   http   \n",
       "59601    http://amber.ch.ic.ac.uk/archive/all/10253.html    spam   http   \n",
       "59602  http://archive.thisischeshire.co.uk/2000/1/28/...    spam   http   \n",
       "59603  http://ads.guardian.co.uk/click.ng/Params.rich...    spam   http   \n",
       "59604    http://ancestry.co.uk/search/db.aspx?dbid=22261    spam   http   \n",
       "\n",
       "                             domain subdomain top_level_domain  \\\n",
       "0                   ethnicelebs.com      none              com   \n",
       "1                  closinglogos.com      none              com   \n",
       "2                    terezowens.com      none              com   \n",
       "3                americannortel.com      none              com   \n",
       "4                       welding.org      none              org   \n",
       "...                             ...       ...              ...   \n",
       "59600         archives.li.man.ac.uk  archives               uk   \n",
       "59601             amber.ch.ic.ac.uk     amber               uk   \n",
       "59602  archive.thisischeshire.co.uk   archive               uk   \n",
       "59603            ads.guardian.co.uk       ads               uk   \n",
       "59604                ancestry.co.uk  ancestry               uk   \n",
       "\n",
       "                                                    path  path_length  \\\n",
       "0                               /eddie-anderson-comedian           24   \n",
       "1      /page/Sony+Pictures+Home+Entertainment+Warning...           53   \n",
       "2      /golfer-greg-norman-trying-to-unload-55-millio...           54   \n",
       "3                                                      /            1   \n",
       "4                                                      /            1   \n",
       "...                                                  ...          ...   \n",
       "59600                                       /ead/search/           12   \n",
       "59601                            /archive/all/10253.html           23   \n",
       "59602                             /2000/1/28/225238.html           22   \n",
       "59603  /click.ng/Params.richmedia=yes&location=middle...          128   \n",
       "59604                                    /search/db.aspx           15   \n",
       "\n",
       "       num_path_segments  query_params  num_query_params  has_https  \\\n",
       "0                      1             0                 0          1   \n",
       "1                      2             0                 0          1   \n",
       "2                      1             0                 0          1   \n",
       "3                      0             0                 0          1   \n",
       "4                      0             0                 0          1   \n",
       "...                  ...           ...               ...        ...   \n",
       "59600                  2             6                 6          0   \n",
       "59601                  3             0                 0          0   \n",
       "59602                  4             0                 0          0   \n",
       "59603                  2             0                 0          0   \n",
       "59604                  2             1                 1          0   \n",
       "\n",
       "                                          file_extension  has_fragment  \\\n",
       "0                                                   none             0   \n",
       "1                                                   none             0   \n",
       "2                                                   none             0   \n",
       "3                                                   none             0   \n",
       "4                                                   none             0   \n",
       "...                                                  ...           ...   \n",
       "59600                                               none             0   \n",
       "59601                                               html             0   \n",
       "59602                                               html             0   \n",
       "59603  richmedia=yes&location=middle&spacedesc=06&sit...             0   \n",
       "59604                                               aspx             0   \n",
       "\n",
       "       has_special_chars_in_path  has_port  port_number  is_ip_address  \n",
       "0                              0         0            0              0  \n",
       "1                              0         0            0              0  \n",
       "2                              0         0            0              0  \n",
       "3                              0         0            0              0  \n",
       "4                              0         0            0              0  \n",
       "...                          ...       ...          ...            ...  \n",
       "59600                          0         0            0              0  \n",
       "59601                          0         0            0              0  \n",
       "59602                          0         0            0              0  \n",
       "59603                          1         0            0              0  \n",
       "59604                          0         0            0              0  \n",
       "\n",
       "[59605 rows x 18 columns]"
      ]
     },
     "execution_count": 3,
     "metadata": {},
     "output_type": "execute_result"
    }
   ],
   "source": [
    "df"
   ]
  },
  {
   "cell_type": "code",
   "execution_count": 4,
   "id": "dd2e897b-0499-48da-ab31-e8429304278d",
   "metadata": {},
   "outputs": [
    {
     "data": {
      "text/plain": [
       "Index(['url', 'type', 'scheme', 'domain', 'subdomain', 'top_level_domain',\n",
       "       'path', 'path_length', 'num_path_segments', 'query_params',\n",
       "       'num_query_params', 'has_https', 'file_extension', 'has_fragment',\n",
       "       'has_special_chars_in_path', 'has_port', 'port_number',\n",
       "       'is_ip_address'],\n",
       "      dtype='object')"
      ]
     },
     "execution_count": 4,
     "metadata": {},
     "output_type": "execute_result"
    }
   ],
   "source": [
    "df.columns"
   ]
  },
  {
   "cell_type": "code",
   "execution_count": 5,
   "id": "3d8d3ad6-07fe-4e4d-b2fa-0ce8dd34613c",
   "metadata": {},
   "outputs": [
    {
     "data": {
      "text/plain": [
       "type\n",
       "benign        11921\n",
       "defacement    11921\n",
       "phishing      11921\n",
       "malware       11921\n",
       "spam          11921\n",
       "Name: count, dtype: int64"
      ]
     },
     "execution_count": 5,
     "metadata": {},
     "output_type": "execute_result"
    }
   ],
   "source": [
    "df['type'].value_counts()"
   ]
  },
  {
   "cell_type": "code",
   "execution_count": 6,
   "id": "3dad3a93-6daa-43cb-91f8-78c609fefaeb",
   "metadata": {},
   "outputs": [
    {
     "data": {
      "text/html": [
       "<div>\n",
       "<style scoped>\n",
       "    .dataframe tbody tr th:only-of-type {\n",
       "        vertical-align: middle;\n",
       "    }\n",
       "\n",
       "    .dataframe tbody tr th {\n",
       "        vertical-align: top;\n",
       "    }\n",
       "\n",
       "    .dataframe thead th {\n",
       "        text-align: right;\n",
       "    }\n",
       "</style>\n",
       "<table border=\"1\" class=\"dataframe\">\n",
       "  <thead>\n",
       "    <tr style=\"text-align: right;\">\n",
       "      <th></th>\n",
       "      <th>url</th>\n",
       "      <th>type</th>\n",
       "      <th>scheme</th>\n",
       "      <th>domain</th>\n",
       "      <th>subdomain</th>\n",
       "      <th>top_level_domain</th>\n",
       "      <th>path</th>\n",
       "      <th>path_length</th>\n",
       "      <th>num_path_segments</th>\n",
       "      <th>query_params</th>\n",
       "      <th>num_query_params</th>\n",
       "      <th>has_https</th>\n",
       "      <th>file_extension</th>\n",
       "      <th>has_fragment</th>\n",
       "      <th>has_special_chars_in_path</th>\n",
       "      <th>has_port</th>\n",
       "      <th>port_number</th>\n",
       "      <th>is_ip_address</th>\n",
       "    </tr>\n",
       "  </thead>\n",
       "  <tbody>\n",
       "    <tr>\n",
       "      <th>0</th>\n",
       "      <td>https://ethnicelebs.com/eddie-anderson-comedian</td>\n",
       "      <td>benign</td>\n",
       "      <td>https</td>\n",
       "      <td>ethnicelebs.com</td>\n",
       "      <td>none</td>\n",
       "      <td>com</td>\n",
       "      <td>/eddie-anderson-comedian</td>\n",
       "      <td>24</td>\n",
       "      <td>1</td>\n",
       "      <td>0</td>\n",
       "      <td>0</td>\n",
       "      <td>1</td>\n",
       "      <td>none</td>\n",
       "      <td>0</td>\n",
       "      <td>0</td>\n",
       "      <td>0</td>\n",
       "      <td>0</td>\n",
       "      <td>0</td>\n",
       "    </tr>\n",
       "  </tbody>\n",
       "</table>\n",
       "</div>"
      ],
      "text/plain": [
       "                                               url    type scheme  \\\n",
       "0  https://ethnicelebs.com/eddie-anderson-comedian  benign  https   \n",
       "\n",
       "            domain subdomain top_level_domain                      path  \\\n",
       "0  ethnicelebs.com      none              com  /eddie-anderson-comedian   \n",
       "\n",
       "   path_length  num_path_segments  query_params  num_query_params  has_https  \\\n",
       "0           24                  1             0                 0          1   \n",
       "\n",
       "  file_extension  has_fragment  has_special_chars_in_path  has_port  \\\n",
       "0           none             0                          0         0   \n",
       "\n",
       "   port_number  is_ip_address  \n",
       "0            0              0  "
      ]
     },
     "execution_count": 6,
     "metadata": {},
     "output_type": "execute_result"
    }
   ],
   "source": [
    "df[df.columns][:1]"
   ]
  },
  {
   "cell_type": "markdown",
   "id": "f8a7772d-b40c-4b21-8bff-860d6f40189c",
   "metadata": {},
   "source": [
    "### USING TEXTUAL FEATURES ONLY"
   ]
  },
  {
   "cell_type": "code",
   "execution_count": null,
   "id": "83129815-6d49-4041-96b4-0e287ce4362e",
   "metadata": {},
   "outputs": [],
   "source": []
  },
  {
   "cell_type": "code",
   "execution_count": 7,
   "id": "6bb638d8-d1da-466c-bae1-5b3f3b9510c1",
   "metadata": {},
   "outputs": [
    {
     "name": "stdout",
     "output_type": "stream",
     "text": [
      "                                                text    type\n",
      "0  https://ethnicelebs.com/eddie-anderson-comedia...  benign\n",
      "1  https://closinglogos.com/page/Sony+Pictures+Ho...  benign\n",
      "2  https://terezowens.com/golfer-greg-norman-tryi...  benign\n",
      "3  https://americannortel.com/ https americannort...  benign\n",
      "4  https://welding.org/ https welding.org none or...  benign\n"
     ]
    }
   ],
   "source": [
    "\n",
    "df2 = pd.read_csv(\"Balanced_dataset.csv\")\n",
    "df2 = df2.fillna(\"\")\n",
    "df2[\"text\"] = df2[\"url\"].astype(str) + \" \" + df2[\"scheme\"].astype(str) + \" \" + df2[\"domain\"].astype(str) + \" \" + \\\n",
    "              df2[\"subdomain\"].astype(str) + \" \" + df2[\"top_level_domain\"].astype(str) + \" \" + \\\n",
    "              df2[\"path\"].astype(str) + \" \" + df2[\"file_extension\"].astype(str)\n",
    "assert df2[\"text\"].apply(lambda x: isinstance(x, str)).all(), \"Error: Some values are not strings!\"\n",
    "print(df2[[\"text\", \"type\"]].head())\n"
   ]
  },
  {
   "cell_type": "code",
   "execution_count": 8,
   "id": "0a409627-1b5e-4f98-b4f3-809514cb7846",
   "metadata": {},
   "outputs": [
    {
     "data": {
      "text/html": [
       "<div>\n",
       "<style scoped>\n",
       "    .dataframe tbody tr th:only-of-type {\n",
       "        vertical-align: middle;\n",
       "    }\n",
       "\n",
       "    .dataframe tbody tr th {\n",
       "        vertical-align: top;\n",
       "    }\n",
       "\n",
       "    .dataframe thead th {\n",
       "        text-align: right;\n",
       "    }\n",
       "</style>\n",
       "<table border=\"1\" class=\"dataframe\">\n",
       "  <thead>\n",
       "    <tr style=\"text-align: right;\">\n",
       "      <th></th>\n",
       "      <th>text</th>\n",
       "      <th>type</th>\n",
       "    </tr>\n",
       "  </thead>\n",
       "  <tbody>\n",
       "    <tr>\n",
       "      <th>0</th>\n",
       "      <td>https://ethnicelebs.com/eddie-anderson-comedia...</td>\n",
       "      <td>benign</td>\n",
       "    </tr>\n",
       "    <tr>\n",
       "      <th>1</th>\n",
       "      <td>https://closinglogos.com/page/Sony+Pictures+Ho...</td>\n",
       "      <td>benign</td>\n",
       "    </tr>\n",
       "    <tr>\n",
       "      <th>2</th>\n",
       "      <td>https://terezowens.com/golfer-greg-norman-tryi...</td>\n",
       "      <td>benign</td>\n",
       "    </tr>\n",
       "    <tr>\n",
       "      <th>3</th>\n",
       "      <td>https://americannortel.com/ https americannort...</td>\n",
       "      <td>benign</td>\n",
       "    </tr>\n",
       "    <tr>\n",
       "      <th>4</th>\n",
       "      <td>https://welding.org/ https welding.org none or...</td>\n",
       "      <td>benign</td>\n",
       "    </tr>\n",
       "    <tr>\n",
       "      <th>...</th>\n",
       "      <td>...</td>\n",
       "      <td>...</td>\n",
       "    </tr>\n",
       "    <tr>\n",
       "      <th>59600</th>\n",
       "      <td>http://archives.li.man.ac.uk/ead/search/?opera...</td>\n",
       "      <td>spam</td>\n",
       "    </tr>\n",
       "    <tr>\n",
       "      <th>59601</th>\n",
       "      <td>http://amber.ch.ic.ac.uk/archive/all/10253.htm...</td>\n",
       "      <td>spam</td>\n",
       "    </tr>\n",
       "    <tr>\n",
       "      <th>59602</th>\n",
       "      <td>http://archive.thisischeshire.co.uk/2000/1/28/...</td>\n",
       "      <td>spam</td>\n",
       "    </tr>\n",
       "    <tr>\n",
       "      <th>59603</th>\n",
       "      <td>http://ads.guardian.co.uk/click.ng/Params.rich...</td>\n",
       "      <td>spam</td>\n",
       "    </tr>\n",
       "    <tr>\n",
       "      <th>59604</th>\n",
       "      <td>http://ancestry.co.uk/search/db.aspx?dbid=2226...</td>\n",
       "      <td>spam</td>\n",
       "    </tr>\n",
       "  </tbody>\n",
       "</table>\n",
       "<p>59605 rows × 2 columns</p>\n",
       "</div>"
      ],
      "text/plain": [
       "                                                    text    type\n",
       "0      https://ethnicelebs.com/eddie-anderson-comedia...  benign\n",
       "1      https://closinglogos.com/page/Sony+Pictures+Ho...  benign\n",
       "2      https://terezowens.com/golfer-greg-norman-tryi...  benign\n",
       "3      https://americannortel.com/ https americannort...  benign\n",
       "4      https://welding.org/ https welding.org none or...  benign\n",
       "...                                                  ...     ...\n",
       "59600  http://archives.li.man.ac.uk/ead/search/?opera...    spam\n",
       "59601  http://amber.ch.ic.ac.uk/archive/all/10253.htm...    spam\n",
       "59602  http://archive.thisischeshire.co.uk/2000/1/28/...    spam\n",
       "59603  http://ads.guardian.co.uk/click.ng/Params.rich...    spam\n",
       "59604  http://ancestry.co.uk/search/db.aspx?dbid=2226...    spam\n",
       "\n",
       "[59605 rows x 2 columns]"
      ]
     },
     "execution_count": 8,
     "metadata": {},
     "output_type": "execute_result"
    }
   ],
   "source": [
    "df2[[\"text\", \"type\"]]"
   ]
  },
  {
   "cell_type": "markdown",
   "id": "e14f5848-6b2a-49fd-b49b-5b2ff6397d9a",
   "metadata": {},
   "source": [
    "### SUBSETING THE DATA"
   ]
  },
  {
   "cell_type": "code",
   "execution_count": 21,
   "id": "596e540d-8e09-4d1f-9c44-565ababd3eb7",
   "metadata": {},
   "outputs": [
    {
     "name": "stdout",
     "output_type": "stream",
     "text": [
      "Counter({'benign': 1000, 'defacement': 1000, 'malware': 1000, 'phishing': 1000, 'spam': 1000})\n"
     ]
    }
   ],
   "source": [
    "\n",
    "num_samples_per_class = 1000  # Adjust as needed\n",
    "df_sampled = df2.groupby(\"type\").apply(lambda x: x.sample(min(len(x), num_samples_per_class)))\n",
    "df_sampled = df_sampled.reset_index(drop=True)\n",
    "\n",
    "# Check new class distribution\n",
    "print(Counter(df_sampled[\"type\"]))"
   ]
  },
  {
   "cell_type": "code",
   "execution_count": 22,
   "id": "3b341b1c-e954-4986-b418-79197602c227",
   "metadata": {},
   "outputs": [
    {
     "name": "stdout",
     "output_type": "stream",
     "text": [
      "Using device: cuda\n"
     ]
    }
   ],
   "source": [
    "\n",
    "\n",
    "# Check if GPU is available\n",
    "device = torch.device(\"cuda\") if torch.cuda.is_available() else torch.device(\"cpu\")\n",
    "print(f\"Using device: {device}\")\n"
   ]
  },
  {
   "cell_type": "markdown",
   "id": "a615942d-0599-4816-b805-1ff49d1c73eb",
   "metadata": {},
   "source": [
    "### UTILIZING ALBERTA-BASE-V2 Pre-Trained"
   ]
  },
  {
   "cell_type": "code",
   "execution_count": null,
   "id": "686e281e-ce33-48fc-8822-94a155ba663b",
   "metadata": {},
   "outputs": [],
   "source": []
  },
  {
   "cell_type": "code",
   "execution_count": 23,
   "id": "caabd927-26c2-4a2e-9fc1-1c7d4135d239",
   "metadata": {},
   "outputs": [
    {
     "name": "stderr",
     "output_type": "stream",
     "text": [
      "C:\\Users\\moawi\\anaconda3\\Lib\\site-packages\\huggingface_hub\\file_download.py:797: FutureWarning: `resume_download` is deprecated and will be removed in version 1.0.0. Downloads always resume when possible. If you want to force a new download, use `force_download=True`.\n",
      "  warnings.warn(\n"
     ]
    },
    {
     "name": "stdout",
     "output_type": "stream",
     "text": [
      "dict_keys(['input_ids', 'token_type_ids', 'attention_mask'])\n"
     ]
    }
   ],
   "source": [
    "\n",
    "model_name = \"albert-base-v2\"\n",
    "tokenizer = AutoTokenizer.from_pretrained(model_name)\n",
    "def tokenize_function(text_list):\n",
    "    return tokenizer(text_list, padding=\"max_length\", truncation=True, return_tensors=\"pt\")\n",
    "tokenized_data = tokenize_function(df_sampled[\"text\"].tolist())\n",
    "print(tokenized_data.keys())  # Check available keys (input_ids, attention_mask, etc.)\n"
   ]
  },
  {
   "cell_type": "code",
   "execution_count": null,
   "id": "64fcd5b4-9cc7-4bb4-877a-da7341062bd7",
   "metadata": {},
   "outputs": [],
   "source": []
  },
  {
   "cell_type": "markdown",
   "id": "f53c8db5-1c1d-451b-81c1-ae7918d0f8a4",
   "metadata": {},
   "source": [
    "### DATA LOADER CLASS"
   ]
  },
  {
   "cell_type": "code",
   "execution_count": 24,
   "id": "0f9ecd60-a31e-40b2-b5f6-d44ea12789aa",
   "metadata": {},
   "outputs": [],
   "source": [
    "class URLDataset(Dataset):\n",
    "    def __init__(self, encodings, labels):\n",
    "        self.encodings = encodings\n",
    "        self.labels = labels\n",
    "\n",
    "    def __len__(self):\n",
    "        return len(self.labels)\n",
    "\n",
    "    def __getitem__(self, idx):\n",
    "        item = {key: torch.tensor(val[idx]) for key, val in self.encodings.items()}\n",
    "        item[\"labels\"] = torch.tensor(self.labels[idx])\n",
    "        return item\n",
    "\n",
    "label_mapping = {\"benign\": 0, \"defacement\": 1, \"phishing\": 2, \"malware\": 3, \"spam\": 4}\n",
    "df_sampled[\"label\"] = df_sampled[\"type\"].map(label_mapping)\n",
    "\n",
    "# Create dataset\n",
    "dataset = URLDataset(tokenized_data, df_sampled[\"label\"].tolist())\n",
    "\n"
   ]
  },
  {
   "cell_type": "code",
   "execution_count": null,
   "id": "efb773f9-eae0-435e-a490-08de1bb7ac21",
   "metadata": {},
   "outputs": [],
   "source": []
  },
  {
   "cell_type": "markdown",
   "id": "0d5cd9b1-fcf4-4db7-be26-eb96e97b8c23",
   "metadata": {},
   "source": [
    "### TRAINING AND TESTING SPLIT"
   ]
  },
  {
   "cell_type": "code",
   "execution_count": 25,
   "id": "76c39b49-b2a0-47ac-93f2-f01af4285077",
   "metadata": {},
   "outputs": [
    {
     "name": "stdout",
     "output_type": "stream",
     "text": [
      "Training Samples: 4000, Validation Samples: 1000\n"
     ]
    }
   ],
   "source": [
    "\n",
    "from torch.utils.data import random_split\n",
    "\n",
    "train_size = int(0.8 * len(dataset))\n",
    "test_size = len(dataset) - train_size\n",
    "train_dataset, test_dataset = random_split(dataset, [train_size, test_size])\n",
    "\n",
    "# Create DataLoaders\n",
    "train_loader = DataLoader(train_dataset, batch_size=16, shuffle=True)\n",
    "test_loader = DataLoader(test_dataset, batch_size=16, shuffle=False)\n",
    "\n",
    "print(f\"Training Samples: {len(train_dataset)}, Validation Samples: {len(test_dataset)}\")\n"
   ]
  },
  {
   "cell_type": "code",
   "execution_count": 26,
   "id": "551ce1cf-73a2-4e94-b931-491904bf6551",
   "metadata": {},
   "outputs": [
    {
     "name": "stderr",
     "output_type": "stream",
     "text": [
      "C:\\Users\\moawi\\anaconda3\\Lib\\site-packages\\huggingface_hub\\file_download.py:797: FutureWarning: `resume_download` is deprecated and will be removed in version 1.0.0. Downloads always resume when possible. If you want to force a new download, use `force_download=True`.\n",
      "  warnings.warn(\n",
      "Some weights of AlbertForSequenceClassification were not initialized from the model checkpoint at albert-base-v2 and are newly initialized: ['classifier.bias', 'classifier.weight']\n",
      "You should probably TRAIN this model on a down-stream task to be able to use it for predictions and inference.\n"
     ]
    }
   ],
   "source": [
    "model = AutoModelForSequenceClassification.from_pretrained(\n",
    "    model_name, num_labels=5  # Change '2' based on the number of classes in your dataset\n",
    ").to(device)"
   ]
  },
  {
   "cell_type": "code",
   "execution_count": null,
   "id": "7ffdf362-1599-4bb3-a052-974f9536cb27",
   "metadata": {},
   "outputs": [],
   "source": []
  },
  {
   "cell_type": "markdown",
   "id": "aefee9f7-0819-427c-aa08-0a85a28f75f0",
   "metadata": {},
   "source": [
    "### MODEL TRAINER"
   ]
  },
  {
   "cell_type": "code",
   "execution_count": 30,
   "id": "6253054d-74bd-497f-b483-d36925eb5fe6",
   "metadata": {},
   "outputs": [],
   "source": [
    "\n",
    "def compute_metrics(eval_pred):\n",
    "    logits, labels = eval_pred\n",
    "    predictions = np.argmax(logits, axis=-1)\n",
    "    acc = accuracy_score(labels, predictions)\n",
    "    precision, recall, f1, _ = precision_recall_fscore_support(labels, predictions, average=\"weighted\")\n",
    "    return {\"accuracy\": acc, \"precision\": precision, \"recall\": recall, \"f1\": f1}\n",
    "\n",
    "\n",
    "# Define training arguments\n",
    "training_args = TrainingArguments(\n",
    "    output_dir=\"./info sec a2/results\",\n",
    "    evaluation_strategy=\"epoch\",\n",
    "    save_strategy=\"epoch\",\n",
    "    per_device_train_batch_size=16,\n",
    "    per_device_eval_batch_size=16,\n",
    "    num_train_epochs=3,\n",
    "    logging_dir=\"./info sec a2/logs\",\n",
    "    logging_steps=50,\n",
    "    load_best_model_at_end=True,\n",
    "    metric_for_best_model=\"accuracy\",\n",
    "    fp16=False,  # Don't use fp16 on Ampere GPUs, use bf16 instead\n",
    "    bf16=True,   # Enable bf16 mixed precision for faster training\n",
    "    \n",
    ")\n",
    "\n",
    "trainer = Trainer(\n",
    "    model=model,\n",
    "    args=training_args,\n",
    "    train_dataset=train_dataset,\n",
    "    eval_dataset=test_dataset,\n",
    "    tokenizer=tokenizer,\n",
    "    compute_metrics=compute_metrics,\n",
    ")\n",
    "\n"
   ]
  },
  {
   "cell_type": "code",
   "execution_count": null,
   "id": "7e5f3126-bc24-4e80-a636-f96d3087a01e",
   "metadata": {},
   "outputs": [],
   "source": []
  },
  {
   "cell_type": "markdown",
   "id": "10654671-e931-4636-a846-67c4f0835480",
   "metadata": {},
   "source": [
    "### MODEL TRAINING"
   ]
  },
  {
   "cell_type": "code",
   "execution_count": 31,
   "id": "9d26714b-0bf8-458c-96c7-83c23767b422",
   "metadata": {},
   "outputs": [
    {
     "name": "stderr",
     "output_type": "stream",
     "text": [
      "C:\\Users\\moawi\\AppData\\Local\\Temp\\ipykernel_29584\\2334172795.py:13: UserWarning: To copy construct from a tensor, it is recommended to use sourceTensor.clone().detach() or sourceTensor.clone().detach().requires_grad_(True), rather than torch.tensor(sourceTensor).\n",
      "  item = {key: torch.tensor(val[idx]) for key, val in self.encodings.items()}\n"
     ]
    },
    {
     "data": {
      "text/html": [
       "\n",
       "    <div>\n",
       "      \n",
       "      <progress value='750' max='750' style='width:300px; height:20px; vertical-align: middle;'></progress>\n",
       "      [750/750 1:11:55, Epoch 3/3]\n",
       "    </div>\n",
       "    <table border=\"1\" class=\"dataframe\">\n",
       "  <thead>\n",
       " <tr style=\"text-align: left;\">\n",
       "      <th>Epoch</th>\n",
       "      <th>Training Loss</th>\n",
       "      <th>Validation Loss</th>\n",
       "      <th>Accuracy</th>\n",
       "      <th>Precision</th>\n",
       "      <th>Recall</th>\n",
       "      <th>F1</th>\n",
       "    </tr>\n",
       "  </thead>\n",
       "  <tbody>\n",
       "    <tr>\n",
       "      <td>1</td>\n",
       "      <td>0.311000</td>\n",
       "      <td>0.241969</td>\n",
       "      <td>0.917000</td>\n",
       "      <td>0.919849</td>\n",
       "      <td>0.917000</td>\n",
       "      <td>0.917845</td>\n",
       "    </tr>\n",
       "    <tr>\n",
       "      <td>2</td>\n",
       "      <td>0.231500</td>\n",
       "      <td>0.228935</td>\n",
       "      <td>0.921000</td>\n",
       "      <td>0.922697</td>\n",
       "      <td>0.921000</td>\n",
       "      <td>0.921370</td>\n",
       "    </tr>\n",
       "    <tr>\n",
       "      <td>3</td>\n",
       "      <td>0.083700</td>\n",
       "      <td>0.238400</td>\n",
       "      <td>0.938000</td>\n",
       "      <td>0.940960</td>\n",
       "      <td>0.938000</td>\n",
       "      <td>0.938074</td>\n",
       "    </tr>\n",
       "  </tbody>\n",
       "</table><p>"
      ],
      "text/plain": [
       "<IPython.core.display.HTML object>"
      ]
     },
     "metadata": {},
     "output_type": "display_data"
    },
    {
     "name": "stderr",
     "output_type": "stream",
     "text": [
      "C:\\Users\\moawi\\AppData\\Local\\Temp\\ipykernel_29584\\2334172795.py:13: UserWarning: To copy construct from a tensor, it is recommended to use sourceTensor.clone().detach() or sourceTensor.clone().detach().requires_grad_(True), rather than torch.tensor(sourceTensor).\n",
      "  item = {key: torch.tensor(val[idx]) for key, val in self.encodings.items()}\n",
      "C:\\Users\\moawi\\AppData\\Local\\Temp\\ipykernel_29584\\2334172795.py:13: UserWarning: To copy construct from a tensor, it is recommended to use sourceTensor.clone().detach() or sourceTensor.clone().detach().requires_grad_(True), rather than torch.tensor(sourceTensor).\n",
      "  item = {key: torch.tensor(val[idx]) for key, val in self.encodings.items()}\n"
     ]
    },
    {
     "data": {
      "text/plain": [
       "TrainOutput(global_step=750, training_loss=0.24193946584065756, metrics={'train_runtime': 4320.3072, 'train_samples_per_second': 2.778, 'train_steps_per_second': 0.174, 'total_flos': 286862266368000.0, 'train_loss': 0.24193946584065756, 'epoch': 3.0})"
      ]
     },
     "execution_count": 31,
     "metadata": {},
     "output_type": "execute_result"
    }
   ],
   "source": [
    "# Train the model\n",
    "trainer.train()"
   ]
  },
  {
   "cell_type": "code",
   "execution_count": null,
   "id": "8266d2ba-2b1f-44f6-be9e-be5ce1b07d05",
   "metadata": {},
   "outputs": [],
   "source": []
  },
  {
   "cell_type": "markdown",
   "id": "3a7304c2-3bb8-4380-9bcb-ce6eab621479",
   "metadata": {},
   "source": [
    "### MODEL TESTING"
   ]
  },
  {
   "cell_type": "code",
   "execution_count": 32,
   "id": "9280f7b8-2e8c-4133-ac4c-8617ce9bc7f4",
   "metadata": {},
   "outputs": [
    {
     "name": "stderr",
     "output_type": "stream",
     "text": [
      "C:\\Users\\moawi\\AppData\\Local\\Temp\\ipykernel_29584\\2334172795.py:13: UserWarning: To copy construct from a tensor, it is recommended to use sourceTensor.clone().detach() or sourceTensor.clone().detach().requires_grad_(True), rather than torch.tensor(sourceTensor).\n",
      "  item = {key: torch.tensor(val[idx]) for key, val in self.encodings.items()}\n"
     ]
    },
    {
     "data": {
      "text/html": [
       "\n",
       "    <div>\n",
       "      \n",
       "      <progress value='63' max='63' style='width:300px; height:20px; vertical-align: middle;'></progress>\n",
       "      [63/63 00:11]\n",
       "    </div>\n",
       "    "
      ],
      "text/plain": [
       "<IPython.core.display.HTML object>"
      ]
     },
     "metadata": {},
     "output_type": "display_data"
    },
    {
     "name": "stdout",
     "output_type": "stream",
     "text": [
      "{'eval_loss': 0.2384004145860672, 'eval_accuracy': 0.938, 'eval_precision': 0.9409601831770728, 'eval_recall': 0.938, 'eval_f1': 0.9380735249969259, 'eval_runtime': 11.9121, 'eval_samples_per_second': 83.948, 'eval_steps_per_second': 5.289, 'epoch': 3.0}\n"
     ]
    }
   ],
   "source": [
    "metrics = trainer.evaluate()\n",
    "print(metrics)\n"
   ]
  },
  {
   "cell_type": "code",
   "execution_count": null,
   "id": "9a28d0ed-d155-4718-bef2-52c8afd8d2e2",
   "metadata": {},
   "outputs": [],
   "source": []
  }
 ],
 "metadata": {
  "kernelspec": {
   "display_name": "Python 3 (ipykernel)",
   "language": "python",
   "name": "python3"
  },
  "language_info": {
   "codemirror_mode": {
    "name": "ipython",
    "version": 3
   },
   "file_extension": ".py",
   "mimetype": "text/x-python",
   "name": "python",
   "nbconvert_exporter": "python",
   "pygments_lexer": "ipython3",
   "version": "3.11.8"
  }
 },
 "nbformat": 4,
 "nbformat_minor": 5
}

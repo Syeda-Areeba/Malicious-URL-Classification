{
 "cells": [
  {
   "cell_type": "code",
   "execution_count": 1,
   "id": "5802acb8-ce1a-467c-9581-b1e9e903f4ac",
   "metadata": {},
   "outputs": [],
   "source": [
    "import torch\n",
    "import pandas as pd\n",
    "import torch.nn as nn\n",
    "import torch.optim as optim\n",
    "from torch.utils.data import Dataset, DataLoader\n",
    "from sklearn.model_selection import train_test_split\n",
    "from sklearn.preprocessing import LabelEncoder, StandardScaler\n",
    "import numpy as np\n",
    "from tqdm import tqdm\n",
    "from sklearn.metrics import accuracy_score, f1_score\n",
    "import matplotlib.pyplot as plt\n",
    "from gensim.models import Word2Vec"
   ]
  },
  {
   "cell_type": "code",
   "execution_count": 2,
   "id": "53074b12-50ec-431b-abd9-a481bbee8384",
   "metadata": {},
   "outputs": [],
   "source": [
    "DEVICE = 'cuda' if torch.cuda.is_available() else 'cpu'"
   ]
  },
  {
   "cell_type": "code",
   "execution_count": 3,
   "id": "bdcc4000-c93c-44cb-9857-18b1212a24fc",
   "metadata": {},
   "outputs": [],
   "source": [
    "EMBEDDING_DIM = 64\n",
    "MAX_SEQ_LENGTH = 64\n",
    "BATCH_SIZE = 32\n",
    "EPOCHS = 10"
   ]
  },
  {
   "cell_type": "code",
   "execution_count": 4,
   "id": "f1d4e725-be0d-4fd5-af68-bd244e0ca6a8",
   "metadata": {},
   "outputs": [],
   "source": [
    "def build_vocab(text_columns):\n",
    "    vocab = {'<pad>': 0, '<unk>': 1, '<sep>': 2}\n",
    "    index = 3\n",
    "    for col in text_columns:\n",
    "        for text in df[col]:\n",
    "            for word in str(text).split():\n",
    "                if word not in vocab:\n",
    "                    vocab[word] = index\n",
    "                    index += 1\n",
    "    return vocab"
   ]
  },
  {
   "cell_type": "markdown",
   "id": "1223093f-0178-4c47-836e-a78dfde762b5",
   "metadata": {},
   "source": [
    "# Custom Dataset"
   ]
  },
  {
   "cell_type": "code",
   "execution_count": 5,
   "id": "fb37c0c5-4bcf-459b-a6a3-1cc6ab03b6d3",
   "metadata": {},
   "outputs": [],
   "source": [
    "class URLDataset(Dataset):\n",
    "    def __init__(self, texts, numerical_features, labels, vocab, max_length):\n",
    "        # Convert text columns to numpy arrays to avoid pandas indexing issues\n",
    "        self.texts = {col: texts[col].values for col in text_columns}\n",
    "        self.numerical = numerical_features\n",
    "        self.labels = labels\n",
    "        self.vocab = vocab\n",
    "        self.max_length = max_length\n",
    "\n",
    "    def __len__(self):\n",
    "        return len(self.labels)\n",
    "\n",
    "    def __getitem__(self, idx):\n",
    "        # Process text components using direct array access\n",
    "        combined_text = ' <sep> '.join([str(self.texts[col][idx]) for col in text_columns])\n",
    "        tokenized = [self.vocab.get(word, 0) for word in combined_text.split()[:self.max_length]]\n",
    "        padded = tokenized + [0]*(self.max_length - len(tokenized))\n",
    "        \n",
    "        return {\n",
    "            'text': torch.LongTensor(padded),\n",
    "            'numerical': torch.FloatTensor(self.numerical[idx]),\n",
    "            'label': torch.LongTensor([self.labels[idx]])\n",
    "        }"
   ]
  },
  {
   "cell_type": "markdown",
   "id": "aab05561-8bff-4d7d-8f6a-2d4ba752f68f",
   "metadata": {},
   "source": [
    "# Custom ANN Model"
   ]
  },
  {
   "cell_type": "code",
   "execution_count": 6,
   "id": "df79f014-36e4-4deb-b4d3-cce362220a85",
   "metadata": {},
   "outputs": [],
   "source": [
    "class URLClassifierANN(nn.Module):\n",
    "    def __init__(self, vocab_size, num_numerical_features, num_classes):\n",
    "        super().__init__()\n",
    "        self.embedding = nn.Embedding(vocab_size, EMBEDDING_DIM)\n",
    "        self.fc = nn.Sequential(\n",
    "            nn.Linear(EMBEDDING_DIM + num_numerical_features, 16),\n",
    "            nn.BatchNorm1d(16), \n",
    "            nn.Tanh(),\n",
    "            nn.Dropout(0.5),\n",
    "            nn.Linear(16, num_classes)\n",
    "        )\n",
    "\n",
    "    def forward(self, text, numerical):\n",
    "        embedded = self.embedding(text).mean(dim=1)  # Average pooling\n",
    "        combined = torch.cat([embedded, numerical], dim=1)\n",
    "        return self.fc(combined)"
   ]
  },
  {
   "cell_type": "markdown",
   "id": "216bf36d-2384-4e4e-94df-f04c1b55a6ad",
   "metadata": {},
   "source": [
    "# Custom CNN Model"
   ]
  },
  {
   "cell_type": "code",
   "execution_count": 7,
   "id": "55c8580a-6d73-490c-b422-2c34d3ce2281",
   "metadata": {},
   "outputs": [],
   "source": [
    "class URLClassifierCNN(nn.Module):\n",
    "    def __init__(self, vocab_size, num_numerical_features, num_classes):\n",
    "        super().__init__()\n",
    "        self.embedding = nn.Embedding(vocab_size, EMBEDDING_DIM)\n",
    "\n",
    "        self.conv = nn.Sequential(\n",
    "            nn.Conv1d(EMBEDDING_DIM, 64, kernel_size=3),\n",
    "            nn.BatchNorm1d(64),  # Normalize conv outputs\n",
    "            nn.ReLU(),\n",
    "            nn.MaxPool1d(2),\n",
    "            nn.Dropout(0.3)  # Regularization\n",
    "        )\n",
    "\n",
    "        self.fc = nn.Sequential(\n",
    "            nn.Linear(64 * ((MAX_SEQ_LENGTH - 2) // 2) + num_numerical_features, 32),  # Dynamic size\n",
    "            nn.BatchNorm1d(32),\n",
    "            nn.ReLU(),\n",
    "            nn.Dropout(0.5),\n",
    "            nn.Linear(32, num_classes)\n",
    "        )\n",
    "\n",
    "    def forward(self, text, numerical):\n",
    "        embedded = self.embedding(text).permute(0, 2, 1)  # (batch, channels, seq_len)\n",
    "        conv_out = self.conv(embedded).flatten(start_dim=1)\n",
    "        combined = torch.cat([conv_out, numerical], dim=1)\n",
    "        return self.fc(combined)"
   ]
  },
  {
   "cell_type": "markdown",
   "id": "ccdf141d-9979-46cf-b642-46168a646c9a",
   "metadata": {},
   "source": [
    "# Custom LSTM Model"
   ]
  },
  {
   "cell_type": "code",
   "execution_count": 8,
   "id": "3ac70859-9d25-48d8-9334-7f7823e0a22d",
   "metadata": {},
   "outputs": [],
   "source": [
    "class URLClassifierLSTM(nn.Module):\n",
    "    def __init__(self, vocab_size, num_numerical_features, num_classes):\n",
    "        super().__init__()\n",
    "        self.embedding = nn.Embedding(vocab_size, EMBEDDING_DIM)\n",
    "        self.lstm = nn.LSTM(EMBEDDING_DIM, 64, bidirectional=True, batch_first=True, dropout=0.3)  # Dropout between LSTM layers\n",
    "        self.fc = nn.Sequential(\n",
    "            nn.Linear(128 + num_numerical_features, 64),\n",
    "            nn.BatchNorm1d(64),\n",
    "            nn.ReLU(),\n",
    "            nn.Dropout(0.5),  # Stronger regularization in FC layer\n",
    "            nn.Linear(64, num_classes)\n",
    "        )\n",
    "\n",
    "    def forward(self, text, numerical):\n",
    "        embedded = self.embedding(text)\n",
    "        lstm_out, (h_n, c_n) = self.lstm(embedded)\n",
    "        lstm_features = torch.cat([h_n[-2], h_n[-1]], dim=1)  # Get last hidden states\n",
    "        combined = torch.cat([lstm_features, numerical], dim=1)\n",
    "        return self.fc(combined)"
   ]
  },
  {
   "cell_type": "markdown",
   "id": "c55ff5f1-ccac-4a55-9b0b-9fd9576cec6e",
   "metadata": {},
   "source": [
    "# Training Code"
   ]
  },
  {
   "cell_type": "code",
   "execution_count": 9,
   "id": "0c372b97-0496-445c-9e04-6907937b6559",
   "metadata": {},
   "outputs": [],
   "source": [
    "def train_model(\n",
    "    model,\n",
    "    train_loader,\n",
    "    val_loader,\n",
    "    optimizer,\n",
    "    criterion,\n",
    "    device,\n",
    "    scheduler=None,\n",
    "    epochs=10,\n",
    "    early_stop_patience=3,\n",
    "    best_checkpoint_path=\"./Models/best_model.pth\"\n",
    "):\n",
    "    \"\"\"\n",
    "    Train and validate a model with metrics tracking, checkpointing, and early stopping\n",
    "    \n",
    "    Args:\n",
    "        model: PyTorch model to train\n",
    "        train_loader: Training data loader\n",
    "        val_loader: Validation data loader\n",
    "        optimizer: Optimizer instance\n",
    "        criterion: Loss function\n",
    "        device: Target device (cpu/cuda)\n",
    "        scheduler: Learning rate scheduler (optional)\n",
    "        epochs: Maximum number of epochs\n",
    "        early_stop_patience: Early stopping patience\n",
    "        best_checkpoint_path: Path to save best model\n",
    "        last_checkpoint_path: Path to save last model\n",
    "    \n",
    "    Returns:\n",
    "        Dictionary containing training metrics\n",
    "    \"\"\"\n",
    "    \n",
    "    # Initialize metrics tracking\n",
    "    metrics = {\n",
    "        'train_loss': [],\n",
    "        'val_loss': [],\n",
    "        'train_acc': [],\n",
    "        'val_acc': [],\n",
    "        'train_f1': [],\n",
    "        'val_f1': []\n",
    "    }\n",
    "    \n",
    "    best_f1 = 0.0\n",
    "    stop_count = 0\n",
    "    \n",
    "    for epoch in range(epochs):\n",
    "        # Training phase\n",
    "        model.train()\n",
    "        epoch_train_loss = 0.0\n",
    "        train_preds, train_labels = [], []\n",
    "        \n",
    "        for batch in tqdm(train_loader, desc=f'Epoch {epoch+1} Training'):\n",
    "            \n",
    "            optimizer.zero_grad()\n",
    "            outputs = model(batch['text'].to(device), batch['numerical'].to(device))\n",
    "            loss = criterion(outputs, batch['label'].squeeze().to(device))\n",
    "            loss.backward()\n",
    "            optimizer.step()\n",
    "            \n",
    "            epoch_train_loss += loss.item()\n",
    "            preds = torch.argmax(torch.softmax(outputs, dim=-1), dim=-1)\n",
    "            \n",
    "            train_preds.extend(preds.cpu().numpy())\n",
    "            train_labels.extend(batch['label'].squeeze().cpu().numpy())\n",
    "        \n",
    "        # Update scheduler if provided\n",
    "        if scheduler:\n",
    "            scheduler.step()\n",
    "            \n",
    "        # Calculate training metrics\n",
    "        train_loss = epoch_train_loss / len(train_loader)\n",
    "        train_acc = accuracy_score(train_labels, train_preds) * 100\n",
    "        train_f1 = f1_score(train_labels, train_preds, average='weighted') * 100\n",
    "        \n",
    "        metrics['train_loss'].append(train_loss)\n",
    "        metrics['train_acc'].append(train_acc)\n",
    "        metrics['train_f1'].append(train_f1)\n",
    "        \n",
    "        # Validation phase\n",
    "        model.eval()\n",
    "        epoch_val_loss = 0.0\n",
    "        val_preds, val_labels = [], []\n",
    "        \n",
    "        with torch.no_grad():\n",
    "            for batch in tqdm(val_loader, desc=f'Epoch {epoch+1} Validation'):\n",
    "                \n",
    "                outputs = model(batch['text'].unsqueeze(0).to(device), batch['numerical'].unsqueeze(0).to(device))\n",
    "                loss = criterion(outputs, batch['label'].to(device))\n",
    "                \n",
    "                epoch_val_loss += loss.item()\n",
    "                preds = torch.argmax(torch.softmax(outputs, dim=-1), dim=-1)\n",
    "                \n",
    "                val_preds.extend(preds.cpu().numpy())\n",
    "                val_labels.extend(batch['label'].cpu().numpy())\n",
    "        \n",
    "        # Calculate validation metrics\n",
    "        val_loss = epoch_val_loss / len(val_loader)\n",
    "        val_acc = accuracy_score(val_labels, val_preds) * 100\n",
    "        val_f1 = f1_score(val_labels, val_preds, average='weighted') * 100\n",
    "        \n",
    "        metrics['val_loss'].append(val_loss)\n",
    "        metrics['val_acc'].append(val_acc)\n",
    "        metrics['val_f1'].append(val_f1)\n",
    "        \n",
    "        # Print epoch summary\n",
    "        print(f\"\\nEpoch {epoch+1}/{epochs}\")\n",
    "        print(f\"Train Loss: {train_loss:.4f} | Val Loss: {val_loss:.4f}\")\n",
    "        print(f\"Train Acc: {train_acc:.2f}% | Val Acc: {val_acc:.2f}%\")\n",
    "        print(f\"Train F1: {train_f1:.2f}% | Val F1: {val_f1:.2f}%\")\n",
    "        \n",
    "        if val_f1 > best_f1:\n",
    "            best_f1 = val_f1\n",
    "            torch.save(model.state_dict(), best_checkpoint_path)\n",
    "            print(f\"New best model saved with Val F1: {best_f1:.2f}%\")\n",
    "            stop_count = 0\n",
    "        else:\n",
    "            stop_count += 1\n",
    "            if stop_count >= early_stop_patience:\n",
    "                print(f\"\\nEarly stopping triggered after {epoch+1} epochs!\")\n",
    "                break\n",
    "    \n",
    "    print(f\"\\nTraining completed. Best Validation F1: {best_f1:.2f}%\")\n",
    "    return metrics"
   ]
  },
  {
   "cell_type": "code",
   "execution_count": 10,
   "id": "8e0db957-3313-4b7e-883c-cdf0af920cdb",
   "metadata": {},
   "outputs": [
    {
     "data": {
      "text/html": [
       "<div>\n",
       "<style scoped>\n",
       "    .dataframe tbody tr th:only-of-type {\n",
       "        vertical-align: middle;\n",
       "    }\n",
       "\n",
       "    .dataframe tbody tr th {\n",
       "        vertical-align: top;\n",
       "    }\n",
       "\n",
       "    .dataframe thead th {\n",
       "        text-align: right;\n",
       "    }\n",
       "</style>\n",
       "<table border=\"1\" class=\"dataframe\">\n",
       "  <thead>\n",
       "    <tr style=\"text-align: right;\">\n",
       "      <th></th>\n",
       "      <th>url</th>\n",
       "      <th>type</th>\n",
       "      <th>scheme</th>\n",
       "      <th>domain</th>\n",
       "      <th>subdomain</th>\n",
       "      <th>top_level_domain</th>\n",
       "      <th>path</th>\n",
       "      <th>path_length</th>\n",
       "      <th>num_path_segments</th>\n",
       "      <th>query_params</th>\n",
       "      <th>num_query_params</th>\n",
       "      <th>has_https</th>\n",
       "      <th>file_extension</th>\n",
       "      <th>has_fragment</th>\n",
       "      <th>has_special_chars_in_path</th>\n",
       "      <th>has_port</th>\n",
       "      <th>port_number</th>\n",
       "      <th>is_ip_address</th>\n",
       "    </tr>\n",
       "  </thead>\n",
       "  <tbody>\n",
       "    <tr>\n",
       "      <th>0</th>\n",
       "      <td>https://ethnicelebs.com/eddie-anderson-comedian</td>\n",
       "      <td>benign</td>\n",
       "      <td>https</td>\n",
       "      <td>ethnicelebs.com</td>\n",
       "      <td>none</td>\n",
       "      <td>com</td>\n",
       "      <td>/eddie-anderson-comedian</td>\n",
       "      <td>24</td>\n",
       "      <td>1</td>\n",
       "      <td>0</td>\n",
       "      <td>0</td>\n",
       "      <td>1</td>\n",
       "      <td>none</td>\n",
       "      <td>0</td>\n",
       "      <td>0</td>\n",
       "      <td>0</td>\n",
       "      <td>0</td>\n",
       "      <td>0</td>\n",
       "    </tr>\n",
       "    <tr>\n",
       "      <th>1</th>\n",
       "      <td>https://closinglogos.com/page/Sony+Pictures+Ho...</td>\n",
       "      <td>benign</td>\n",
       "      <td>https</td>\n",
       "      <td>closinglogos.com</td>\n",
       "      <td>none</td>\n",
       "      <td>com</td>\n",
       "      <td>/page/Sony+Pictures+Home+Entertainment+Warning...</td>\n",
       "      <td>53</td>\n",
       "      <td>2</td>\n",
       "      <td>0</td>\n",
       "      <td>0</td>\n",
       "      <td>1</td>\n",
       "      <td>none</td>\n",
       "      <td>0</td>\n",
       "      <td>0</td>\n",
       "      <td>0</td>\n",
       "      <td>0</td>\n",
       "      <td>0</td>\n",
       "    </tr>\n",
       "    <tr>\n",
       "      <th>2</th>\n",
       "      <td>https://terezowens.com/golfer-greg-norman-tryi...</td>\n",
       "      <td>benign</td>\n",
       "      <td>https</td>\n",
       "      <td>terezowens.com</td>\n",
       "      <td>none</td>\n",
       "      <td>com</td>\n",
       "      <td>/golfer-greg-norman-trying-to-unload-55-millio...</td>\n",
       "      <td>54</td>\n",
       "      <td>1</td>\n",
       "      <td>0</td>\n",
       "      <td>0</td>\n",
       "      <td>1</td>\n",
       "      <td>none</td>\n",
       "      <td>0</td>\n",
       "      <td>0</td>\n",
       "      <td>0</td>\n",
       "      <td>0</td>\n",
       "      <td>0</td>\n",
       "    </tr>\n",
       "    <tr>\n",
       "      <th>3</th>\n",
       "      <td>https://americannortel.com/</td>\n",
       "      <td>benign</td>\n",
       "      <td>https</td>\n",
       "      <td>americannortel.com</td>\n",
       "      <td>none</td>\n",
       "      <td>com</td>\n",
       "      <td>/</td>\n",
       "      <td>1</td>\n",
       "      <td>0</td>\n",
       "      <td>0</td>\n",
       "      <td>0</td>\n",
       "      <td>1</td>\n",
       "      <td>none</td>\n",
       "      <td>0</td>\n",
       "      <td>0</td>\n",
       "      <td>0</td>\n",
       "      <td>0</td>\n",
       "      <td>0</td>\n",
       "    </tr>\n",
       "    <tr>\n",
       "      <th>4</th>\n",
       "      <td>https://welding.org/</td>\n",
       "      <td>benign</td>\n",
       "      <td>https</td>\n",
       "      <td>welding.org</td>\n",
       "      <td>none</td>\n",
       "      <td>org</td>\n",
       "      <td>/</td>\n",
       "      <td>1</td>\n",
       "      <td>0</td>\n",
       "      <td>0</td>\n",
       "      <td>0</td>\n",
       "      <td>1</td>\n",
       "      <td>none</td>\n",
       "      <td>0</td>\n",
       "      <td>0</td>\n",
       "      <td>0</td>\n",
       "      <td>0</td>\n",
       "      <td>0</td>\n",
       "    </tr>\n",
       "  </tbody>\n",
       "</table>\n",
       "</div>"
      ],
      "text/plain": [
       "                                                 url    type scheme  \\\n",
       "0    https://ethnicelebs.com/eddie-anderson-comedian  benign  https   \n",
       "1  https://closinglogos.com/page/Sony+Pictures+Ho...  benign  https   \n",
       "2  https://terezowens.com/golfer-greg-norman-tryi...  benign  https   \n",
       "3                        https://americannortel.com/  benign  https   \n",
       "4                               https://welding.org/  benign  https   \n",
       "\n",
       "               domain subdomain top_level_domain  \\\n",
       "0     ethnicelebs.com      none              com   \n",
       "1    closinglogos.com      none              com   \n",
       "2      terezowens.com      none              com   \n",
       "3  americannortel.com      none              com   \n",
       "4         welding.org      none              org   \n",
       "\n",
       "                                                path  path_length  \\\n",
       "0                           /eddie-anderson-comedian           24   \n",
       "1  /page/Sony+Pictures+Home+Entertainment+Warning...           53   \n",
       "2  /golfer-greg-norman-trying-to-unload-55-millio...           54   \n",
       "3                                                  /            1   \n",
       "4                                                  /            1   \n",
       "\n",
       "   num_path_segments  query_params  num_query_params  has_https  \\\n",
       "0                  1             0                 0          1   \n",
       "1                  2             0                 0          1   \n",
       "2                  1             0                 0          1   \n",
       "3                  0             0                 0          1   \n",
       "4                  0             0                 0          1   \n",
       "\n",
       "  file_extension  has_fragment  has_special_chars_in_path  has_port  \\\n",
       "0           none             0                          0         0   \n",
       "1           none             0                          0         0   \n",
       "2           none             0                          0         0   \n",
       "3           none             0                          0         0   \n",
       "4           none             0                          0         0   \n",
       "\n",
       "   port_number  is_ip_address  \n",
       "0            0              0  \n",
       "1            0              0  \n",
       "2            0              0  \n",
       "3            0              0  \n",
       "4            0              0  "
      ]
     },
     "execution_count": 10,
     "metadata": {},
     "output_type": "execute_result"
    }
   ],
   "source": [
    "df = pd.read_csv('./Data/Balanced_dataset.csv')\n",
    "df.head()"
   ]
  },
  {
   "cell_type": "code",
   "execution_count": 11,
   "id": "23b0e6af-157f-4312-b68a-eadd24d5125f",
   "metadata": {},
   "outputs": [],
   "source": [
    "text_columns = ['url', 'domain', 'path', 'subdomain', 'top_level_domain']\n",
    "numerical_columns = ['path_length', 'num_path_segments', 'query_params', \n",
    "                   'num_query_params', 'has_https', 'has_fragment',\n",
    "                   'has_special_chars_in_path', 'has_port', 'port_number', 'is_ip_address']\n",
    "\n",
    "# Encode labels\n",
    "le = LabelEncoder()\n",
    "df['type'] = le.fit_transform(df['type'])\n",
    "\n",
    "# Normalize numerical features\n",
    "scaler = StandardScaler()\n",
    "numerical_features = scaler.fit_transform(df[numerical_columns])\n",
    "\n",
    "# Build vocabulary\n",
    "vocab = build_vocab(text_columns)\n",
    "\n",
    "# Split data\n",
    "X_train, X_test, y_train, y_test = train_test_split(\n",
    "    np.arange(len(df)), df['type'].values, test_size=0.2, random_state=42\n",
    ")\n",
    "\n",
    "# Create datasets with corrected text handling\n",
    "train_dataset = URLDataset(\n",
    "    texts={col: df[col].iloc[X_train] for col in text_columns},\n",
    "    numerical_features=numerical_features[X_train],\n",
    "    labels=y_train,\n",
    "    vocab=vocab,\n",
    "    max_length=MAX_SEQ_LENGTH\n",
    ")\n",
    "\n",
    "test_dataset = URLDataset(\n",
    "    texts={col: df[col].iloc[X_test] for col in text_columns},\n",
    "    numerical_features=numerical_features[X_test],\n",
    "    labels=y_test,\n",
    "    vocab=vocab,\n",
    "    max_length=MAX_SEQ_LENGTH\n",
    ")\n",
    "\n",
    "# Create dataloaders\n",
    "train_loader = DataLoader(train_dataset, batch_size=BATCH_SIZE, shuffle=True)\n",
    "test_loader = DataLoader(test_dataset, batch_size=BATCH_SIZE)\n",
    "\n",
    "# Initialize models\n",
    "num_classes = len(le.classes_)"
   ]
  },
  {
   "cell_type": "code",
   "execution_count": 12,
   "id": "99285c22-07d4-4edf-86bb-2377f2faaf16",
   "metadata": {},
   "outputs": [
    {
     "data": {
      "text/plain": [
       "{'text': tensor([ 24769,      2,  61004,      2,  71859,      2, 103097,      2, 107135,\n",
       "              0,      0,      0,      0,      0,      0,      0,      0,      0,\n",
       "              0,      0,      0,      0,      0,      0,      0,      0,      0,\n",
       "              0,      0,      0,      0,      0,      0,      0,      0,      0,\n",
       "              0,      0,      0,      0,      0,      0,      0,      0,      0,\n",
       "              0,      0,      0,      0,      0,      0,      0,      0,      0,\n",
       "              0,      0,      0,      0,      0,      0,      0,      0,      0,\n",
       "              0]),\n",
       " 'numerical': tensor([-1.0340, -1.4405, -0.4953, -0.4938,  1.1876, -0.0281, -0.1577, -0.2087,\n",
       "         -0.2002, -0.2459]),\n",
       " 'label': tensor([3])}"
      ]
     },
     "execution_count": 12,
     "metadata": {},
     "output_type": "execute_result"
    }
   ],
   "source": [
    "train_dataset[7]"
   ]
  },
  {
   "cell_type": "code",
   "execution_count": 13,
   "id": "55296658-2125-41da-bc25-fe9468ee742b",
   "metadata": {},
   "outputs": [
    {
     "name": "stderr",
     "output_type": "stream",
     "text": [
      "Epoch 1 Training: 100%|███████████████████████████████████████████████████████████| 1491/1491 [00:04<00:00, 322.09it/s]\n",
      "Epoch 1 Validation: 100%|██████████████████████████████████████████████████████| 11921/11921 [00:07<00:00, 1657.51it/s]\n"
     ]
    },
    {
     "name": "stdout",
     "output_type": "stream",
     "text": [
      "\n",
      "Epoch 1/20\n",
      "Train Loss: 0.7516 | Val Loss: 0.4498\n",
      "Train Acc: 73.09% | Val Acc: 83.52%\n",
      "Train F1: 72.72% | Val F1: 83.18%\n",
      "New best model saved with Val F1: 83.18%\n"
     ]
    },
    {
     "name": "stderr",
     "output_type": "stream",
     "text": [
      "Epoch 2 Training: 100%|███████████████████████████████████████████████████████████| 1491/1491 [00:04<00:00, 313.73it/s]\n",
      "Epoch 2 Validation: 100%|██████████████████████████████████████████████████████| 11921/11921 [00:07<00:00, 1671.41it/s]\n"
     ]
    },
    {
     "name": "stdout",
     "output_type": "stream",
     "text": [
      "\n",
      "Epoch 2/20\n",
      "Train Loss: 0.4883 | Val Loss: 0.3751\n",
      "Train Acc: 83.00% | Val Acc: 86.33%\n",
      "Train F1: 82.86% | Val F1: 86.33%\n",
      "New best model saved with Val F1: 86.33%\n"
     ]
    },
    {
     "name": "stderr",
     "output_type": "stream",
     "text": [
      "Epoch 3 Training: 100%|███████████████████████████████████████████████████████████| 1491/1491 [00:04<00:00, 316.16it/s]\n",
      "Epoch 3 Validation: 100%|██████████████████████████████████████████████████████| 11921/11921 [00:07<00:00, 1673.93it/s]\n"
     ]
    },
    {
     "name": "stdout",
     "output_type": "stream",
     "text": [
      "\n",
      "Epoch 3/20\n",
      "Train Loss: 0.4009 | Val Loss: 0.3482\n",
      "Train Acc: 86.31% | Val Acc: 87.11%\n",
      "Train F1: 86.26% | Val F1: 87.10%\n",
      "New best model saved with Val F1: 87.10%\n"
     ]
    },
    {
     "name": "stderr",
     "output_type": "stream",
     "text": [
      "Epoch 4 Training: 100%|███████████████████████████████████████████████████████████| 1491/1491 [00:04<00:00, 308.54it/s]\n",
      "Epoch 4 Validation: 100%|██████████████████████████████████████████████████████| 11921/11921 [00:07<00:00, 1670.13it/s]\n"
     ]
    },
    {
     "name": "stdout",
     "output_type": "stream",
     "text": [
      "\n",
      "Epoch 4/20\n",
      "Train Loss: 0.3352 | Val Loss: 0.3360\n",
      "Train Acc: 88.65% | Val Acc: 87.74%\n",
      "Train F1: 88.62% | Val F1: 87.67%\n",
      "New best model saved with Val F1: 87.67%\n"
     ]
    },
    {
     "name": "stderr",
     "output_type": "stream",
     "text": [
      "Epoch 5 Training: 100%|███████████████████████████████████████████████████████████| 1491/1491 [00:04<00:00, 314.16it/s]\n",
      "Epoch 5 Validation: 100%|██████████████████████████████████████████████████████| 11921/11921 [00:07<00:00, 1666.93it/s]\n"
     ]
    },
    {
     "name": "stdout",
     "output_type": "stream",
     "text": [
      "\n",
      "Epoch 5/20\n",
      "Train Loss: 0.2714 | Val Loss: 0.3348\n",
      "Train Acc: 91.29% | Val Acc: 87.74%\n",
      "Train F1: 91.28% | Val F1: 87.79%\n",
      "New best model saved with Val F1: 87.79%\n"
     ]
    },
    {
     "name": "stderr",
     "output_type": "stream",
     "text": [
      "Epoch 6 Training: 100%|███████████████████████████████████████████████████████████| 1491/1491 [00:04<00:00, 314.83it/s]\n",
      "Epoch 6 Validation: 100%|██████████████████████████████████████████████████████| 11921/11921 [00:07<00:00, 1675.71it/s]\n"
     ]
    },
    {
     "name": "stdout",
     "output_type": "stream",
     "text": [
      "\n",
      "Epoch 6/20\n",
      "Train Loss: 0.2170 | Val Loss: 0.3585\n",
      "Train Acc: 93.13% | Val Acc: 87.69%\n",
      "Train F1: 93.12% | Val F1: 87.77%\n"
     ]
    },
    {
     "name": "stderr",
     "output_type": "stream",
     "text": [
      "Epoch 7 Training: 100%|███████████████████████████████████████████████████████████| 1491/1491 [00:04<00:00, 313.21it/s]\n",
      "Epoch 7 Validation: 100%|██████████████████████████████████████████████████████| 11921/11921 [00:07<00:00, 1685.23it/s]\n"
     ]
    },
    {
     "name": "stdout",
     "output_type": "stream",
     "text": [
      "\n",
      "Epoch 7/20\n",
      "Train Loss: 0.1701 | Val Loss: 0.3794\n",
      "Train Acc: 94.70% | Val Acc: 87.79%\n",
      "Train F1: 94.70% | Val F1: 87.82%\n",
      "New best model saved with Val F1: 87.82%\n"
     ]
    },
    {
     "name": "stderr",
     "output_type": "stream",
     "text": [
      "Epoch 8 Training: 100%|███████████████████████████████████████████████████████████| 1491/1491 [00:04<00:00, 311.61it/s]\n",
      "Epoch 8 Validation: 100%|██████████████████████████████████████████████████████| 11921/11921 [00:07<00:00, 1674.06it/s]\n"
     ]
    },
    {
     "name": "stdout",
     "output_type": "stream",
     "text": [
      "\n",
      "Epoch 8/20\n",
      "Train Loss: 0.1354 | Val Loss: 0.4236\n",
      "Train Acc: 95.97% | Val Acc: 87.64%\n",
      "Train F1: 95.97% | Val F1: 87.67%\n"
     ]
    },
    {
     "name": "stderr",
     "output_type": "stream",
     "text": [
      "Epoch 9 Training: 100%|███████████████████████████████████████████████████████████| 1491/1491 [00:04<00:00, 316.42it/s]\n",
      "Epoch 9 Validation: 100%|██████████████████████████████████████████████████████| 11921/11921 [00:07<00:00, 1678.23it/s]\n"
     ]
    },
    {
     "name": "stdout",
     "output_type": "stream",
     "text": [
      "\n",
      "Epoch 9/20\n",
      "Train Loss: 0.1034 | Val Loss: 0.4653\n",
      "Train Acc: 96.97% | Val Acc: 86.68%\n",
      "Train F1: 96.97% | Val F1: 86.69%\n"
     ]
    },
    {
     "name": "stderr",
     "output_type": "stream",
     "text": [
      "Epoch 10 Training: 100%|██████████████████████████████████████████████████████████| 1491/1491 [00:04<00:00, 314.73it/s]\n",
      "Epoch 10 Validation: 100%|█████████████████████████████████████████████████████| 11921/11921 [00:07<00:00, 1677.82it/s]\n"
     ]
    },
    {
     "name": "stdout",
     "output_type": "stream",
     "text": [
      "\n",
      "Epoch 10/20\n",
      "Train Loss: 0.0802 | Val Loss: 0.4981\n",
      "Train Acc: 97.68% | Val Acc: 87.11%\n",
      "Train F1: 97.68% | Val F1: 87.15%\n"
     ]
    },
    {
     "name": "stderr",
     "output_type": "stream",
     "text": [
      "Epoch 11 Training: 100%|██████████████████████████████████████████████████████████| 1491/1491 [00:04<00:00, 317.45it/s]\n",
      "Epoch 11 Validation: 100%|█████████████████████████████████████████████████████| 11921/11921 [00:07<00:00, 1679.07it/s]\n"
     ]
    },
    {
     "name": "stdout",
     "output_type": "stream",
     "text": [
      "\n",
      "Epoch 11/20\n",
      "Train Loss: 0.0651 | Val Loss: 0.5694\n",
      "Train Acc: 98.07% | Val Acc: 87.06%\n",
      "Train F1: 98.07% | Val F1: 86.95%\n"
     ]
    },
    {
     "name": "stderr",
     "output_type": "stream",
     "text": [
      "Epoch 12 Training: 100%|██████████████████████████████████████████████████████████| 1491/1491 [00:04<00:00, 312.61it/s]\n",
      "Epoch 12 Validation: 100%|█████████████████████████████████████████████████████| 11921/11921 [00:07<00:00, 1679.30it/s]"
     ]
    },
    {
     "name": "stdout",
     "output_type": "stream",
     "text": [
      "\n",
      "Epoch 12/20\n",
      "Train Loss: 0.0547 | Val Loss: 0.5762\n",
      "Train Acc: 98.31% | Val Acc: 87.61%\n",
      "Train F1: 98.31% | Val F1: 87.45%\n",
      "\n",
      "Early stopping triggered after 12 epochs!\n",
      "\n",
      "Training completed. Best Validation F1: 87.82%\n"
     ]
    },
    {
     "name": "stderr",
     "output_type": "stream",
     "text": [
      "\n"
     ]
    }
   ],
   "source": [
    "ann_model = URLClassifierANN(len(vocab), len(numerical_columns), num_classes)\n",
    "optimizer = torch.optim.Adam(ann_model.parameters(), lr=0.0009)\n",
    "criterion = torch.nn.CrossEntropyLoss()\n",
    "\n",
    "ann_model.to(DEVICE)\n",
    "\n",
    "# Train the model\n",
    "metrics = train_model(\n",
    "    model=ann_model,\n",
    "    train_loader=train_loader,\n",
    "    val_loader=test_dataset,\n",
    "    optimizer=optimizer,\n",
    "    criterion=criterion,\n",
    "    device=DEVICE,\n",
    "    epochs=20,\n",
    "    early_stop_patience=5,\n",
    "    best_checkpoint_path=\"./Models/best_ann.pth\",\n",
    ")"
   ]
  },
  {
   "cell_type": "code",
   "execution_count": 14,
   "id": "38dd4cdb-3e3b-4325-953f-096847ef9c5b",
   "metadata": {},
   "outputs": [
    {
     "data": {
      "image/png": "[encoded data removed]",
      "text/plain": [
       "<Figure size 640x480 with 1 Axes>"
      ]
     },
     "metadata": {},
     "output_type": "display_data"
    },
    {
     "data": {
      "image/png": "[encoded data removed]",
      "text/plain": [
       "<Figure size 640x480 with 1 Axes>"
      ]
     },
     "metadata": {},
     "output_type": "display_data"
    }
   ],
   "source": [
    "plt.plot(metrics['train_loss'], label='Train Loss')\n",
    "plt.plot(metrics['val_loss'], label='Val Loss')\n",
    "plt.xlabel('Epochs')\n",
    "plt.ylabel('Loss')\n",
    "plt.legend()\n",
    "plt.show()\n",
    "\n",
    "plt.plot(metrics['train_acc'], label='Train Accuracy')\n",
    "plt.plot(metrics['val_acc'], label='Val Accuracy')\n",
    "plt.xlabel('Epochs')\n",
    "plt.ylabel('Loss')\n",
    "plt.legend()\n",
    "plt.show()"
   ]
  },
  {
   "cell_type": "code",
   "execution_count": 16,
   "id": "d3ce49dd-9ae8-4afd-a038-d5e50a9c5e48",
   "metadata": {},
   "outputs": [
    {
     "name": "stderr",
     "output_type": "stream",
     "text": [
      "Epoch 1 Training: 100%|███████████████████████████████████████████████████████████| 1491/1491 [00:06<00:00, 246.19it/s]\n",
      "Epoch 1 Validation: 100%|██████████████████████████████████████████████████████| 11921/11921 [00:10<00:00, 1158.27it/s]\n"
     ]
    },
    {
     "name": "stdout",
     "output_type": "stream",
     "text": [
      "\n",
      "Epoch 1/20\n",
      "Train Loss: 0.9882 | Val Loss: 0.6394\n",
      "Train Acc: 65.26% | Val Acc: 81.12%\n",
      "Train F1: 65.15% | Val F1: 80.91%\n",
      "New best model saved with Val F1: 80.91%\n"
     ]
    },
    {
     "name": "stderr",
     "output_type": "stream",
     "text": [
      "Epoch 2 Training: 100%|███████████████████████████████████████████████████████████| 1491/1491 [00:05<00:00, 250.43it/s]\n",
      "Epoch 2 Validation: 100%|██████████████████████████████████████████████████████| 11921/11921 [00:10<00:00, 1166.36it/s]\n"
     ]
    },
    {
     "name": "stdout",
     "output_type": "stream",
     "text": [
      "\n",
      "Epoch 2/20\n",
      "Train Loss: 0.6582 | Val Loss: 0.4505\n",
      "Train Acc: 78.06% | Val Acc: 83.95%\n",
      "Train F1: 77.80% | Val F1: 83.72%\n",
      "New best model saved with Val F1: 83.72%\n"
     ]
    },
    {
     "name": "stderr",
     "output_type": "stream",
     "text": [
      "Epoch 3 Training: 100%|███████████████████████████████████████████████████████████| 1491/1491 [00:05<00:00, 251.33it/s]\n",
      "Epoch 3 Validation: 100%|██████████████████████████████████████████████████████| 11921/11921 [00:10<00:00, 1167.95it/s]\n"
     ]
    },
    {
     "name": "stdout",
     "output_type": "stream",
     "text": [
      "\n",
      "Epoch 3/20\n",
      "Train Loss: 0.5491 | Val Loss: 0.4016\n",
      "Train Acc: 81.03% | Val Acc: 84.96%\n",
      "Train F1: 80.79% | Val F1: 84.76%\n",
      "New best model saved with Val F1: 84.76%\n"
     ]
    },
    {
     "name": "stderr",
     "output_type": "stream",
     "text": [
      "Epoch 4 Training: 100%|███████████████████████████████████████████████████████████| 1491/1491 [00:06<00:00, 247.42it/s]\n",
      "Epoch 4 Validation: 100%|██████████████████████████████████████████████████████| 11921/11921 [00:10<00:00, 1171.66it/s]\n"
     ]
    },
    {
     "name": "stdout",
     "output_type": "stream",
     "text": [
      "\n",
      "Epoch 4/20\n",
      "Train Loss: 0.5024 | Val Loss: 0.3808\n",
      "Train Acc: 82.15% | Val Acc: 85.54%\n",
      "Train F1: 81.93% | Val F1: 85.41%\n",
      "New best model saved with Val F1: 85.41%\n"
     ]
    },
    {
     "name": "stderr",
     "output_type": "stream",
     "text": [
      "Epoch 5 Training: 100%|███████████████████████████████████████████████████████████| 1491/1491 [00:05<00:00, 251.80it/s]\n",
      "Epoch 5 Validation: 100%|██████████████████████████████████████████████████████| 11921/11921 [00:10<00:00, 1171.67it/s]\n"
     ]
    },
    {
     "name": "stdout",
     "output_type": "stream",
     "text": [
      "\n",
      "Epoch 5/20\n",
      "Train Loss: 0.4690 | Val Loss: 0.3643\n",
      "Train Acc: 83.00% | Val Acc: 86.08%\n",
      "Train F1: 82.79% | Val F1: 85.97%\n",
      "New best model saved with Val F1: 85.97%\n"
     ]
    },
    {
     "name": "stderr",
     "output_type": "stream",
     "text": [
      "Epoch 6 Training: 100%|███████████████████████████████████████████████████████████| 1491/1491 [00:05<00:00, 251.90it/s]\n",
      "Epoch 6 Validation: 100%|██████████████████████████████████████████████████████| 11921/11921 [00:10<00:00, 1168.02it/s]\n"
     ]
    },
    {
     "name": "stdout",
     "output_type": "stream",
     "text": [
      "\n",
      "Epoch 6/20\n",
      "Train Loss: 0.4483 | Val Loss: 0.3517\n",
      "Train Acc: 83.61% | Val Acc: 86.49%\n",
      "Train F1: 83.42% | Val F1: 86.44%\n",
      "New best model saved with Val F1: 86.44%\n"
     ]
    },
    {
     "name": "stderr",
     "output_type": "stream",
     "text": [
      "Epoch 7 Training: 100%|███████████████████████████████████████████████████████████| 1491/1491 [00:05<00:00, 251.79it/s]\n",
      "Epoch 7 Validation: 100%|██████████████████████████████████████████████████████| 11921/11921 [00:10<00:00, 1171.67it/s]\n"
     ]
    },
    {
     "name": "stdout",
     "output_type": "stream",
     "text": [
      "\n",
      "Epoch 7/20\n",
      "Train Loss: 0.4260 | Val Loss: 0.3461\n",
      "Train Acc: 84.41% | Val Acc: 86.54%\n",
      "Train F1: 84.25% | Val F1: 86.48%\n",
      "New best model saved with Val F1: 86.48%\n"
     ]
    },
    {
     "name": "stderr",
     "output_type": "stream",
     "text": [
      "Epoch 8 Training: 100%|███████████████████████████████████████████████████████████| 1491/1491 [00:05<00:00, 251.13it/s]\n",
      "Epoch 8 Validation: 100%|██████████████████████████████████████████████████████| 11921/11921 [00:10<00:00, 1168.32it/s]\n"
     ]
    },
    {
     "name": "stdout",
     "output_type": "stream",
     "text": [
      "\n",
      "Epoch 8/20\n",
      "Train Loss: 0.4122 | Val Loss: 0.3377\n",
      "Train Acc: 84.93% | Val Acc: 87.09%\n",
      "Train F1: 84.80% | Val F1: 87.05%\n",
      "New best model saved with Val F1: 87.05%\n"
     ]
    },
    {
     "name": "stderr",
     "output_type": "stream",
     "text": [
      "Epoch 9 Training: 100%|███████████████████████████████████████████████████████████| 1491/1491 [00:05<00:00, 248.79it/s]\n",
      "Epoch 9 Validation: 100%|██████████████████████████████████████████████████████| 11921/11921 [00:10<00:00, 1168.08it/s]\n"
     ]
    },
    {
     "name": "stdout",
     "output_type": "stream",
     "text": [
      "\n",
      "Epoch 9/20\n",
      "Train Loss: 0.4024 | Val Loss: 0.3286\n",
      "Train Acc: 85.38% | Val Acc: 87.38%\n",
      "Train F1: 85.26% | Val F1: 87.34%\n",
      "New best model saved with Val F1: 87.34%\n"
     ]
    },
    {
     "name": "stderr",
     "output_type": "stream",
     "text": [
      "Epoch 10 Training: 100%|██████████████████████████████████████████████████████████| 1491/1491 [00:05<00:00, 249.70it/s]\n",
      "Epoch 10 Validation: 100%|█████████████████████████████████████████████████████| 11921/11921 [00:10<00:00, 1168.48it/s]\n"
     ]
    },
    {
     "name": "stdout",
     "output_type": "stream",
     "text": [
      "\n",
      "Epoch 10/20\n",
      "Train Loss: 0.3897 | Val Loss: 0.3253\n",
      "Train Acc: 85.59% | Val Acc: 87.33%\n",
      "Train F1: 85.48% | Val F1: 87.27%\n"
     ]
    },
    {
     "name": "stderr",
     "output_type": "stream",
     "text": [
      "Epoch 11 Training: 100%|██████████████████████████████████████████████████████████| 1491/1491 [00:05<00:00, 252.19it/s]\n",
      "Epoch 11 Validation: 100%|█████████████████████████████████████████████████████| 11921/11921 [00:10<00:00, 1158.37it/s]\n"
     ]
    },
    {
     "name": "stdout",
     "output_type": "stream",
     "text": [
      "\n",
      "Epoch 11/20\n",
      "Train Loss: 0.3802 | Val Loss: 0.3183\n",
      "Train Acc: 86.19% | Val Acc: 87.65%\n",
      "Train F1: 86.10% | Val F1: 87.57%\n",
      "New best model saved with Val F1: 87.57%\n"
     ]
    },
    {
     "name": "stderr",
     "output_type": "stream",
     "text": [
      "Epoch 12 Training: 100%|██████████████████████████████████████████████████████████| 1491/1491 [00:06<00:00, 248.36it/s]\n",
      "Epoch 12 Validation: 100%|█████████████████████████████████████████████████████| 11921/11921 [00:10<00:00, 1169.83it/s]\n"
     ]
    },
    {
     "name": "stdout",
     "output_type": "stream",
     "text": [
      "\n",
      "Epoch 12/20\n",
      "Train Loss: 0.3688 | Val Loss: 0.3114\n",
      "Train Acc: 86.57% | Val Acc: 88.36%\n",
      "Train F1: 86.47% | Val F1: 88.31%\n",
      "New best model saved with Val F1: 88.31%\n"
     ]
    },
    {
     "name": "stderr",
     "output_type": "stream",
     "text": [
      "Epoch 13 Training: 100%|██████████████████████████████████████████████████████████| 1491/1491 [00:05<00:00, 250.17it/s]\n",
      "Epoch 13 Validation: 100%|█████████████████████████████████████████████████████| 11921/11921 [00:10<00:00, 1169.75it/s]\n"
     ]
    },
    {
     "name": "stdout",
     "output_type": "stream",
     "text": [
      "\n",
      "Epoch 13/20\n",
      "Train Loss: 0.3648 | Val Loss: 0.3092\n",
      "Train Acc: 86.59% | Val Acc: 88.10%\n",
      "Train F1: 86.51% | Val F1: 88.07%\n"
     ]
    },
    {
     "name": "stderr",
     "output_type": "stream",
     "text": [
      "Epoch 14 Training: 100%|██████████████████████████████████████████████████████████| 1491/1491 [00:05<00:00, 250.91it/s]\n",
      "Epoch 14 Validation: 100%|█████████████████████████████████████████████████████| 11921/11921 [00:10<00:00, 1162.14it/s]\n"
     ]
    },
    {
     "name": "stdout",
     "output_type": "stream",
     "text": [
      "\n",
      "Epoch 14/20\n",
      "Train Loss: 0.3551 | Val Loss: 0.3144\n",
      "Train Acc: 87.10% | Val Acc: 87.64%\n",
      "Train F1: 87.01% | Val F1: 87.56%\n"
     ]
    },
    {
     "name": "stderr",
     "output_type": "stream",
     "text": [
      "Epoch 15 Training: 100%|██████████████████████████████████████████████████████████| 1491/1491 [00:06<00:00, 247.55it/s]\n",
      "Epoch 15 Validation: 100%|█████████████████████████████████████████████████████| 11921/11921 [00:10<00:00, 1155.15it/s]\n"
     ]
    },
    {
     "name": "stdout",
     "output_type": "stream",
     "text": [
      "\n",
      "Epoch 15/20\n",
      "Train Loss: 0.3483 | Val Loss: 0.3048\n",
      "Train Acc: 87.46% | Val Acc: 88.26%\n",
      "Train F1: 87.40% | Val F1: 88.15%\n"
     ]
    },
    {
     "name": "stderr",
     "output_type": "stream",
     "text": [
      "Epoch 16 Training: 100%|██████████████████████████████████████████████████████████| 1491/1491 [00:06<00:00, 246.10it/s]\n",
      "Epoch 16 Validation: 100%|█████████████████████████████████████████████████████| 11921/11921 [00:10<00:00, 1159.71it/s]\n"
     ]
    },
    {
     "name": "stdout",
     "output_type": "stream",
     "text": [
      "\n",
      "Epoch 16/20\n",
      "Train Loss: 0.3404 | Val Loss: 0.2978\n",
      "Train Acc: 87.78% | Val Acc: 88.52%\n",
      "Train F1: 87.73% | Val F1: 88.49%\n",
      "New best model saved with Val F1: 88.49%\n"
     ]
    },
    {
     "name": "stderr",
     "output_type": "stream",
     "text": [
      "Epoch 17 Training: 100%|██████████████████████████████████████████████████████████| 1491/1491 [00:05<00:00, 250.40it/s]\n",
      "Epoch 17 Validation: 100%|█████████████████████████████████████████████████████| 11921/11921 [00:10<00:00, 1167.93it/s]\n"
     ]
    },
    {
     "name": "stdout",
     "output_type": "stream",
     "text": [
      "\n",
      "Epoch 17/20\n",
      "Train Loss: 0.3316 | Val Loss: 0.2992\n",
      "Train Acc: 87.83% | Val Acc: 88.49%\n",
      "Train F1: 87.77% | Val F1: 88.46%\n"
     ]
    },
    {
     "name": "stderr",
     "output_type": "stream",
     "text": [
      "Epoch 18 Training: 100%|██████████████████████████████████████████████████████████| 1491/1491 [00:05<00:00, 248.71it/s]\n",
      "Epoch 18 Validation: 100%|█████████████████████████████████████████████████████| 11921/11921 [00:10<00:00, 1154.35it/s]\n"
     ]
    },
    {
     "name": "stdout",
     "output_type": "stream",
     "text": [
      "\n",
      "Epoch 18/20\n",
      "Train Loss: 0.3279 | Val Loss: 0.2949\n",
      "Train Acc: 87.98% | Val Acc: 88.57%\n",
      "Train F1: 87.93% | Val F1: 88.49%\n"
     ]
    },
    {
     "name": "stderr",
     "output_type": "stream",
     "text": [
      "Epoch 19 Training: 100%|██████████████████████████████████████████████████████████| 1491/1491 [00:05<00:00, 249.73it/s]\n",
      "Epoch 19 Validation: 100%|█████████████████████████████████████████████████████| 11921/11921 [00:10<00:00, 1160.68it/s]\n"
     ]
    },
    {
     "name": "stdout",
     "output_type": "stream",
     "text": [
      "\n",
      "Epoch 19/20\n",
      "Train Loss: 0.3225 | Val Loss: 0.2914\n",
      "Train Acc: 88.31% | Val Acc: 88.79%\n",
      "Train F1: 88.27% | Val F1: 88.81%\n",
      "New best model saved with Val F1: 88.81%\n"
     ]
    },
    {
     "name": "stderr",
     "output_type": "stream",
     "text": [
      "Epoch 20 Training: 100%|██████████████████████████████████████████████████████████| 1491/1491 [00:05<00:00, 249.89it/s]\n",
      "Epoch 20 Validation: 100%|█████████████████████████████████████████████████████| 11921/11921 [00:10<00:00, 1167.60it/s]"
     ]
    },
    {
     "name": "stdout",
     "output_type": "stream",
     "text": [
      "\n",
      "Epoch 20/20\n",
      "Train Loss: 0.3142 | Val Loss: 0.2967\n",
      "Train Acc: 88.57% | Val Acc: 88.52%\n",
      "Train F1: 88.53% | Val F1: 88.55%\n",
      "\n",
      "Training completed. Best Validation F1: 88.81%\n"
     ]
    },
    {
     "name": "stderr",
     "output_type": "stream",
     "text": [
      "\n"
     ]
    }
   ],
   "source": [
    "cnn_model = URLClassifierCNN(len(vocab), len(numerical_columns), num_classes)\n",
    "optimizer = torch.optim.Adam(cnn_model.parameters(), lr=0.0001)\n",
    "criterion = torch.nn.CrossEntropyLoss()\n",
    "\n",
    "cnn_model.to(DEVICE)\n",
    "\n",
    "# Train the model\n",
    "metrics = train_model(\n",
    "    model=cnn_model,\n",
    "    train_loader=train_loader,\n",
    "    val_loader=test_dataset,\n",
    "    optimizer=optimizer,\n",
    "    criterion=criterion,\n",
    "    device=DEVICE,\n",
    "    epochs=20,\n",
    "    early_stop_patience=5,\n",
    "    best_checkpoint_path=\"./Models/best_cnn.pth\",\n",
    ")"
   ]
  },
  {
   "cell_type": "code",
   "execution_count": 17,
   "id": "ec2362f5-e2e3-401e-b3f7-679a7f511953",
   "metadata": {},
   "outputs": [
    {
     "data": {
      "image/png": "[encoded data removed]",
      "text/plain": [
       "<Figure size 640x480 with 1 Axes>"
      ]
     },
     "metadata": {},
     "output_type": "display_data"
    },
    {
     "data": {
      "image/png": "[encoded data removed]",
      "text/plain": [
       "<Figure size 640x480 with 1 Axes>"
      ]
     },
     "metadata": {},
     "output_type": "display_data"
    }
   ],
   "source": [
    "plt.plot(metrics['train_loss'], label='Train Loss')\n",
    "plt.plot(metrics['val_loss'], label='Val Loss')\n",
    "plt.xlabel('Epochs')\n",
    "plt.ylabel('Loss')\n",
    "plt.legend()\n",
    "plt.show()\n",
    "\n",
    "plt.plot(metrics['train_acc'], label='Train Accuracy')\n",
    "plt.plot(metrics['val_acc'], label='Val Accuracy')\n",
    "plt.xlabel('Epochs')\n",
    "plt.ylabel('Loss')\n",
    "plt.legend()\n",
    "plt.show()"
   ]
  },
  {
   "cell_type": "code",
   "execution_count": 18,
   "id": "5acfc82e-afc9-4488-99a7-06da4b728ebc",
   "metadata": {},
   "outputs": [
    {
     "name": "stderr",
     "output_type": "stream",
     "text": [
      "C:\\Users\\syeda\\miniconda3\\Lib\\site-packages\\torch\\nn\\modules\\rnn.py:123: UserWarning: dropout option adds dropout after all but last recurrent layer, so non-zero dropout expects num_layers greater than 1, but got dropout=0.3 and num_layers=1\n",
      "  warnings.warn(\n",
      "Epoch 1 Training: 100%|███████████████████████████████████████████████████████████| 1491/1491 [00:06<00:00, 229.49it/s]\n",
      "Epoch 1 Validation: 100%|██████████████████████████████████████████████████████| 11921/11921 [00:09<00:00, 1314.81it/s]\n"
     ]
    },
    {
     "name": "stdout",
     "output_type": "stream",
     "text": [
      "\n",
      "Epoch 1/20\n",
      "Train Loss: 1.0593 | Val Loss: 0.5786\n",
      "Train Acc: 59.84% | Val Acc: 80.44%\n",
      "Train F1: 59.70% | Val F1: 80.05%\n",
      "New best model saved with Val F1: 80.05%\n"
     ]
    },
    {
     "name": "stderr",
     "output_type": "stream",
     "text": [
      "Epoch 2 Training: 100%|███████████████████████████████████████████████████████████| 1491/1491 [00:06<00:00, 234.16it/s]\n",
      "Epoch 2 Validation: 100%|██████████████████████████████████████████████████████| 11921/11921 [00:09<00:00, 1322.07it/s]\n"
     ]
    },
    {
     "name": "stdout",
     "output_type": "stream",
     "text": [
      "\n",
      "Epoch 2/20\n",
      "Train Loss: 0.5544 | Val Loss: 0.4377\n",
      "Train Acc: 81.23% | Val Acc: 83.80%\n",
      "Train F1: 80.97% | Val F1: 83.66%\n",
      "New best model saved with Val F1: 83.66%\n"
     ]
    },
    {
     "name": "stderr",
     "output_type": "stream",
     "text": [
      "Epoch 3 Training: 100%|███████████████████████████████████████████████████████████| 1491/1491 [00:06<00:00, 234.88it/s]\n",
      "Epoch 3 Validation: 100%|██████████████████████████████████████████████████████| 11921/11921 [00:09<00:00, 1316.69it/s]\n"
     ]
    },
    {
     "name": "stdout",
     "output_type": "stream",
     "text": [
      "\n",
      "Epoch 3/20\n",
      "Train Loss: 0.4706 | Val Loss: 0.4041\n",
      "Train Acc: 83.46% | Val Acc: 85.02%\n",
      "Train F1: 83.31% | Val F1: 84.99%\n",
      "New best model saved with Val F1: 84.99%\n"
     ]
    },
    {
     "name": "stderr",
     "output_type": "stream",
     "text": [
      "Epoch 4 Training: 100%|███████████████████████████████████████████████████████████| 1491/1491 [00:06<00:00, 233.94it/s]\n",
      "Epoch 4 Validation: 100%|██████████████████████████████████████████████████████| 11921/11921 [00:09<00:00, 1318.56it/s]\n"
     ]
    },
    {
     "name": "stdout",
     "output_type": "stream",
     "text": [
      "\n",
      "Epoch 4/20\n",
      "Train Loss: 0.4277 | Val Loss: 0.3743\n",
      "Train Acc: 84.50% | Val Acc: 85.56%\n",
      "Train F1: 84.41% | Val F1: 85.52%\n",
      "New best model saved with Val F1: 85.52%\n"
     ]
    },
    {
     "name": "stderr",
     "output_type": "stream",
     "text": [
      "Epoch 5 Training: 100%|███████████████████████████████████████████████████████████| 1491/1491 [00:06<00:00, 234.04it/s]\n",
      "Epoch 5 Validation: 100%|██████████████████████████████████████████████████████| 11921/11921 [00:09<00:00, 1316.03it/s]\n"
     ]
    },
    {
     "name": "stdout",
     "output_type": "stream",
     "text": [
      "\n",
      "Epoch 5/20\n",
      "Train Loss: 0.4008 | Val Loss: 0.3616\n",
      "Train Acc: 85.35% | Val Acc: 85.86%\n",
      "Train F1: 85.30% | Val F1: 85.85%\n",
      "New best model saved with Val F1: 85.85%\n"
     ]
    },
    {
     "name": "stderr",
     "output_type": "stream",
     "text": [
      "Epoch 6 Training: 100%|███████████████████████████████████████████████████████████| 1491/1491 [00:06<00:00, 234.72it/s]\n",
      "Epoch 6 Validation: 100%|██████████████████████████████████████████████████████| 11921/11921 [00:09<00:00, 1312.85it/s]\n"
     ]
    },
    {
     "name": "stdout",
     "output_type": "stream",
     "text": [
      "\n",
      "Epoch 6/20\n",
      "Train Loss: 0.3799 | Val Loss: 0.3499\n",
      "Train Acc: 85.90% | Val Acc: 86.28%\n",
      "Train F1: 85.87% | Val F1: 86.29%\n",
      "New best model saved with Val F1: 86.29%\n"
     ]
    },
    {
     "name": "stderr",
     "output_type": "stream",
     "text": [
      "Epoch 7 Training: 100%|███████████████████████████████████████████████████████████| 1491/1491 [00:06<00:00, 234.62it/s]\n",
      "Epoch 7 Validation: 100%|██████████████████████████████████████████████████████| 11921/11921 [00:09<00:00, 1316.23it/s]\n"
     ]
    },
    {
     "name": "stdout",
     "output_type": "stream",
     "text": [
      "\n",
      "Epoch 7/20\n",
      "Train Loss: 0.3669 | Val Loss: 0.3577\n",
      "Train Acc: 86.38% | Val Acc: 85.95%\n",
      "Train F1: 86.37% | Val F1: 86.18%\n"
     ]
    },
    {
     "name": "stderr",
     "output_type": "stream",
     "text": [
      "Epoch 8 Training: 100%|███████████████████████████████████████████████████████████| 1491/1491 [00:06<00:00, 234.15it/s]\n",
      "Epoch 8 Validation: 100%|██████████████████████████████████████████████████████| 11921/11921 [00:09<00:00, 1299.74it/s]\n"
     ]
    },
    {
     "name": "stdout",
     "output_type": "stream",
     "text": [
      "\n",
      "Epoch 8/20\n",
      "Train Loss: 0.3492 | Val Loss: 0.3362\n",
      "Train Acc: 87.15% | Val Acc: 86.65%\n",
      "Train F1: 87.16% | Val F1: 86.72%\n",
      "New best model saved with Val F1: 86.72%\n"
     ]
    },
    {
     "name": "stderr",
     "output_type": "stream",
     "text": [
      "Epoch 9 Training: 100%|███████████████████████████████████████████████████████████| 1491/1491 [00:06<00:00, 230.75it/s]\n",
      "Epoch 9 Validation: 100%|██████████████████████████████████████████████████████| 11921/11921 [00:09<00:00, 1301.33it/s]\n"
     ]
    },
    {
     "name": "stdout",
     "output_type": "stream",
     "text": [
      "\n",
      "Epoch 9/20\n",
      "Train Loss: 0.3405 | Val Loss: 0.3332\n",
      "Train Acc: 87.46% | Val Acc: 86.65%\n",
      "Train F1: 87.48% | Val F1: 86.60%\n"
     ]
    },
    {
     "name": "stderr",
     "output_type": "stream",
     "text": [
      "Epoch 10 Training: 100%|██████████████████████████████████████████████████████████| 1491/1491 [00:06<00:00, 233.94it/s]\n",
      "Epoch 10 Validation: 100%|█████████████████████████████████████████████████████| 11921/11921 [00:09<00:00, 1310.05it/s]\n"
     ]
    },
    {
     "name": "stdout",
     "output_type": "stream",
     "text": [
      "\n",
      "Epoch 10/20\n",
      "Train Loss: 0.3217 | Val Loss: 0.3256\n",
      "Train Acc: 88.13% | Val Acc: 87.30%\n",
      "Train F1: 88.15% | Val F1: 87.43%\n",
      "New best model saved with Val F1: 87.43%\n"
     ]
    },
    {
     "name": "stderr",
     "output_type": "stream",
     "text": [
      "Epoch 11 Training: 100%|██████████████████████████████████████████████████████████| 1491/1491 [00:06<00:00, 232.44it/s]\n",
      "Epoch 11 Validation: 100%|█████████████████████████████████████████████████████| 11921/11921 [00:09<00:00, 1301.51it/s]\n"
     ]
    },
    {
     "name": "stdout",
     "output_type": "stream",
     "text": [
      "\n",
      "Epoch 11/20\n",
      "Train Loss: 0.3113 | Val Loss: 0.3264\n",
      "Train Acc: 88.50% | Val Acc: 87.00%\n",
      "Train F1: 88.51% | Val F1: 87.13%\n"
     ]
    },
    {
     "name": "stderr",
     "output_type": "stream",
     "text": [
      "Epoch 12 Training: 100%|██████████████████████████████████████████████████████████| 1491/1491 [00:06<00:00, 234.28it/s]\n",
      "Epoch 12 Validation: 100%|█████████████████████████████████████████████████████| 11921/11921 [00:09<00:00, 1319.28it/s]\n"
     ]
    },
    {
     "name": "stdout",
     "output_type": "stream",
     "text": [
      "\n",
      "Epoch 12/20\n",
      "Train Loss: 0.2958 | Val Loss: 0.3197\n",
      "Train Acc: 88.98% | Val Acc: 87.52%\n",
      "Train F1: 89.01% | Val F1: 87.54%\n",
      "New best model saved with Val F1: 87.54%\n"
     ]
    },
    {
     "name": "stderr",
     "output_type": "stream",
     "text": [
      "Epoch 13 Training: 100%|██████████████████████████████████████████████████████████| 1491/1491 [00:06<00:00, 234.93it/s]\n",
      "Epoch 13 Validation: 100%|█████████████████████████████████████████████████████| 11921/11921 [00:09<00:00, 1316.83it/s]\n"
     ]
    },
    {
     "name": "stdout",
     "output_type": "stream",
     "text": [
      "\n",
      "Epoch 13/20\n",
      "Train Loss: 0.2847 | Val Loss: 0.3175\n",
      "Train Acc: 89.44% | Val Acc: 87.34%\n",
      "Train F1: 89.45% | Val F1: 87.46%\n"
     ]
    },
    {
     "name": "stderr",
     "output_type": "stream",
     "text": [
      "Epoch 14 Training: 100%|██████████████████████████████████████████████████████████| 1491/1491 [00:06<00:00, 234.86it/s]\n",
      "Epoch 14 Validation: 100%|█████████████████████████████████████████████████████| 11921/11921 [00:09<00:00, 1323.84it/s]\n"
     ]
    },
    {
     "name": "stdout",
     "output_type": "stream",
     "text": [
      "\n",
      "Epoch 14/20\n",
      "Train Loss: 0.2744 | Val Loss: 0.3152\n",
      "Train Acc: 89.91% | Val Acc: 87.89%\n",
      "Train F1: 89.93% | Val F1: 87.98%\n",
      "New best model saved with Val F1: 87.98%\n"
     ]
    },
    {
     "name": "stderr",
     "output_type": "stream",
     "text": [
      "Epoch 15 Training: 100%|██████████████████████████████████████████████████████████| 1491/1491 [00:06<00:00, 234.62it/s]\n",
      "Epoch 15 Validation: 100%|█████████████████████████████████████████████████████| 11921/11921 [00:09<00:00, 1316.69it/s]\n"
     ]
    },
    {
     "name": "stdout",
     "output_type": "stream",
     "text": [
      "\n",
      "Epoch 15/20\n",
      "Train Loss: 0.2640 | Val Loss: 0.3137\n",
      "Train Acc: 90.34% | Val Acc: 87.60%\n",
      "Train F1: 90.37% | Val F1: 87.71%\n"
     ]
    },
    {
     "name": "stderr",
     "output_type": "stream",
     "text": [
      "Epoch 16 Training: 100%|██████████████████████████████████████████████████████████| 1491/1491 [00:06<00:00, 234.96it/s]\n",
      "Epoch 16 Validation: 100%|█████████████████████████████████████████████████████| 11921/11921 [00:09<00:00, 1320.02it/s]\n"
     ]
    },
    {
     "name": "stdout",
     "output_type": "stream",
     "text": [
      "\n",
      "Epoch 16/20\n",
      "Train Loss: 0.2514 | Val Loss: 0.3140\n",
      "Train Acc: 90.77% | Val Acc: 87.97%\n",
      "Train F1: 90.80% | Val F1: 87.99%\n",
      "New best model saved with Val F1: 87.99%\n"
     ]
    },
    {
     "name": "stderr",
     "output_type": "stream",
     "text": [
      "Epoch 17 Training: 100%|██████████████████████████████████████████████████████████| 1491/1491 [00:06<00:00, 235.28it/s]\n",
      "Epoch 17 Validation: 100%|█████████████████████████████████████████████████████| 11921/11921 [00:09<00:00, 1316.08it/s]\n"
     ]
    },
    {
     "name": "stdout",
     "output_type": "stream",
     "text": [
      "\n",
      "Epoch 17/20\n",
      "Train Loss: 0.2413 | Val Loss: 0.3149\n",
      "Train Acc: 91.24% | Val Acc: 88.16%\n",
      "Train F1: 91.27% | Val F1: 88.18%\n",
      "New best model saved with Val F1: 88.18%\n"
     ]
    },
    {
     "name": "stderr",
     "output_type": "stream",
     "text": [
      "Epoch 18 Training: 100%|██████████████████████████████████████████████████████████| 1491/1491 [00:06<00:00, 233.87it/s]\n",
      "Epoch 18 Validation: 100%|█████████████████████████████████████████████████████| 11921/11921 [00:09<00:00, 1322.65it/s]\n"
     ]
    },
    {
     "name": "stdout",
     "output_type": "stream",
     "text": [
      "\n",
      "Epoch 18/20\n",
      "Train Loss: 0.2301 | Val Loss: 0.3114\n",
      "Train Acc: 91.58% | Val Acc: 88.15%\n",
      "Train F1: 91.60% | Val F1: 88.22%\n",
      "New best model saved with Val F1: 88.22%\n"
     ]
    },
    {
     "name": "stderr",
     "output_type": "stream",
     "text": [
      "Epoch 19 Training: 100%|██████████████████████████████████████████████████████████| 1491/1491 [00:06<00:00, 234.24it/s]\n",
      "Epoch 19 Validation: 100%|█████████████████████████████████████████████████████| 11921/11921 [00:09<00:00, 1318.82it/s]\n"
     ]
    },
    {
     "name": "stdout",
     "output_type": "stream",
     "text": [
      "\n",
      "Epoch 19/20\n",
      "Train Loss: 0.2229 | Val Loss: 0.3220\n",
      "Train Acc: 91.79% | Val Acc: 88.31%\n",
      "Train F1: 91.81% | Val F1: 88.30%\n",
      "New best model saved with Val F1: 88.30%\n"
     ]
    },
    {
     "name": "stderr",
     "output_type": "stream",
     "text": [
      "Epoch 20 Training: 100%|██████████████████████████████████████████████████████████| 1491/1491 [00:06<00:00, 233.78it/s]\n",
      "Epoch 20 Validation: 100%|█████████████████████████████████████████████████████| 11921/11921 [00:09<00:00, 1309.16it/s]"
     ]
    },
    {
     "name": "stdout",
     "output_type": "stream",
     "text": [
      "\n",
      "Epoch 20/20\n",
      "Train Loss: 0.2113 | Val Loss: 0.3152\n",
      "Train Acc: 92.27% | Val Acc: 87.96%\n",
      "Train F1: 92.29% | Val F1: 88.09%\n",
      "\n",
      "Training completed. Best Validation F1: 88.30%\n"
     ]
    },
    {
     "name": "stderr",
     "output_type": "stream",
     "text": [
      "\n"
     ]
    }
   ],
   "source": [
    "lstm_model = URLClassifierLSTM(len(vocab), len(numerical_columns), num_classes)\n",
    "optimizer = torch.optim.Adam(lstm_model.parameters(), lr=0.0001)\n",
    "criterion = torch.nn.CrossEntropyLoss()\n",
    "\n",
    "lstm_model.to(DEVICE)\n",
    "\n",
    "# Train the model\n",
    "metrics = train_model(\n",
    "    model=lstm_model,\n",
    "    train_loader=train_loader,\n",
    "    val_loader=test_dataset,\n",
    "    optimizer=optimizer,\n",
    "    criterion=criterion,\n",
    "    device=DEVICE,\n",
    "    epochs=20,\n",
    "    early_stop_patience=5,\n",
    "    best_checkpoint_path=\"./Models/best_lstm.pth\",\n",
    ")"
   ]
  },
  {
   "cell_type": "code",
   "execution_count": 19,
   "id": "91a44330-d649-48e6-80ed-c9babba2a3a5",
   "metadata": {},
   "outputs": [
    {
     "data": {
      "image/png": "[encoded data removed]",
      "text/plain": [
       "<Figure size 640x480 with 1 Axes>"
      ]
     },
     "metadata": {},
     "output_type": "display_data"
    },
    {
     "data": {
      "image/png": "[encoded data removed]",
      "text/plain": [
       "<Figure size 640x480 with 1 Axes>"
      ]
     },
     "metadata": {},
     "output_type": "display_data"
    }
   ],
   "source": [
    "plt.plot(metrics['train_loss'], label='Train Loss')\n",
    "plt.plot(metrics['val_loss'], label='Val Loss')\n",
    "plt.xlabel('Epochs')\n",
    "plt.ylabel('Loss')\n",
    "plt.legend()\n",
    "plt.show()\n",
    "\n",
    "plt.plot(metrics['train_acc'], label='Train Accuracy')\n",
    "plt.plot(metrics['val_acc'], label='Val Accuracy')\n",
    "plt.xlabel('Epochs')\n",
    "plt.ylabel('Loss')\n",
    "plt.legend()\n",
    "plt.show()"
   ]
  },
  {
   "cell_type": "code",
   "execution_count": 20,
   "id": "803ea434-4a75-43e3-8200-1901a3c0f52f",
   "metadata": {},
   "outputs": [
    {
     "name": "stdout",
     "output_type": "stream",
     "text": [
      "{'text': tensor([ 24857,      2,  61074,      2,  87550,      2, 105126,      2, 103772,\n",
      "             0,      0,      0,      0,      0,      0,      0,      0,      0,\n",
      "             0,      0,      0,      0,      0,      0,      0,      0,      0,\n",
      "             0,      0,      0,      0,      0,      0,      0,      0,      0,\n",
      "             0,      0,      0,      0,      0,      0,      0,      0,      0,\n",
      "             0,      0,      0,      0,      0,      0,      0,      0,      0,\n",
      "             0,      0,      0,      0,      0,      0,      0,      0,      0,\n",
      "             0]), 'numerical': tensor([ 0.5187, -0.0902, -0.4953, -0.4938,  1.1876, -0.0281, -0.1577, -0.2087,\n",
      "        -0.2002, -0.2459]), 'label': tensor([3])}\n"
     ]
    }
   ],
   "source": [
    "for i in test_dataset:\n",
    "    print(i)\n",
    "    break"
   ]
  },
  {
   "cell_type": "markdown",
   "id": "dbce0da9-ee86-4776-a83f-1400df5a7f74",
   "metadata": {},
   "source": [
    "# With word2vec"
   ]
  },
  {
   "cell_type": "code",
   "execution_count": 21,
   "id": "becf073a-b18d-4d0a-8040-70de760ac276",
   "metadata": {},
   "outputs": [],
   "source": [
    "# 1. Train Word2Vec embeddings\n",
    "def train_word2vec(text_columns, vector_size=100, window=5, min_count=1):\n",
    "    # Create training corpus\n",
    "    sentences = []\n",
    "    for col in text_columns:\n",
    "        sentences += [str(text).split() for text in df[col]]\n",
    "    \n",
    "    # Train Word2Vec model\n",
    "    model = Word2Vec(sentences=sentences,\n",
    "                     vector_size=vector_size,\n",
    "                     window=window,\n",
    "                     min_count=min_count,\n",
    "                     workers=4)\n",
    "    return model\n",
    "\n",
    "# 2. Create embedding matrix\n",
    "def create_embedding_matrix(word2vec_model, vocab):\n",
    "    embedding_dim = word2vec_model.vector_size\n",
    "    embedding_matrix = np.zeros((len(vocab), embedding_dim))\n",
    "    \n",
    "    for word, idx in vocab.items():\n",
    "        if word in word2vec_model.wv:\n",
    "            embedding_matrix[idx] = word2vec_model.wv[word]\n",
    "        else:\n",
    "            # Handle unknown words (random initialization with scaling)\n",
    "            embedding_matrix[idx] = np.random.normal(scale=0.6, size=(embedding_dim,))\n",
    "    \n",
    "    return torch.FloatTensor(embedding_matrix)"
   ]
  },
  {
   "cell_type": "code",
   "execution_count": 22,
   "id": "e0788e13-14d0-45ca-b78b-e1c95498998d",
   "metadata": {},
   "outputs": [],
   "source": [
    "class URLClassifierW2V(nn.Module):\n",
    "    def __init__(self, embedding_matrix, num_numerical_features, num_classes):\n",
    "        super().__init__()\n",
    "        self.embedding = nn.Embedding.from_pretrained(embedding_matrix, freeze=False)\n",
    "        self.fc = nn.Sequential(\n",
    "            nn.Linear(embedding_matrix.size(1) + num_numerical_features, 128),\n",
    "            nn.BatchNorm1d(128), \n",
    "            nn.ReLU(),\n",
    "            nn.Dropout(0.5),\n",
    "            nn.Linear(128, num_classes)\n",
    "        )\n",
    "\n",
    "    def forward(self, text, numerical):\n",
    "        embedded = self.embedding(text).mean(dim=1)\n",
    "        combined = torch.cat([embedded, numerical], dim=1)\n",
    "        return self.fc(combined)"
   ]
  },
  {
   "cell_type": "code",
   "execution_count": 23,
   "id": "7ee40135-c6c1-435e-b8ca-0ebb4d590653",
   "metadata": {},
   "outputs": [],
   "source": [
    "# Train Word2Vec\n",
    "w2v_model = train_word2vec(text_columns)\n",
    "\n",
    "# Create embedding matrix\n",
    "embedding_matrix = create_embedding_matrix(w2v_model, vocab)"
   ]
  },
  {
   "cell_type": "code",
   "execution_count": 24,
   "id": "bcc449e7-ed8e-412c-909c-3bd66a90dd95",
   "metadata": {},
   "outputs": [
    {
     "name": "stderr",
     "output_type": "stream",
     "text": [
      "Epoch 1 Training: 100%|███████████████████████████████████████████████████████████| 1491/1491 [00:05<00:00, 281.94it/s]\n",
      "Epoch 1 Validation: 100%|██████████████████████████████████████████████████████| 11921/11921 [00:07<00:00, 1686.26it/s]\n"
     ]
    },
    {
     "name": "stdout",
     "output_type": "stream",
     "text": [
      "\n",
      "Epoch 1/20\n",
      "Train Loss: 0.4614 | Val Loss: 0.2567\n",
      "Train Acc: 82.84% | Val Acc: 90.59%\n",
      "Train F1: 82.74% | Val F1: 90.68%\n",
      "New best model saved with Val F1: 90.68%\n"
     ]
    },
    {
     "name": "stderr",
     "output_type": "stream",
     "text": [
      "Epoch 2 Training: 100%|███████████████████████████████████████████████████████████| 1491/1491 [00:05<00:00, 287.44it/s]\n",
      "Epoch 2 Validation: 100%|██████████████████████████████████████████████████████| 11921/11921 [00:07<00:00, 1693.88it/s]\n"
     ]
    },
    {
     "name": "stdout",
     "output_type": "stream",
     "text": [
      "\n",
      "Epoch 2/20\n",
      "Train Loss: 0.1299 | Val Loss: 0.1935\n",
      "Train Acc: 95.66% | Val Acc: 92.57%\n",
      "Train F1: 95.66% | Val F1: 92.62%\n",
      "New best model saved with Val F1: 92.62%\n"
     ]
    },
    {
     "name": "stderr",
     "output_type": "stream",
     "text": [
      "Epoch 3 Training: 100%|███████████████████████████████████████████████████████████| 1491/1491 [00:05<00:00, 283.93it/s]\n",
      "Epoch 3 Validation: 100%|██████████████████████████████████████████████████████| 11921/11921 [00:07<00:00, 1689.65it/s]\n"
     ]
    },
    {
     "name": "stdout",
     "output_type": "stream",
     "text": [
      "\n",
      "Epoch 3/20\n",
      "Train Loss: 0.0326 | Val Loss: 0.2422\n",
      "Train Acc: 99.06% | Val Acc: 92.56%\n",
      "Train F1: 99.06% | Val F1: 92.60%\n"
     ]
    },
    {
     "name": "stderr",
     "output_type": "stream",
     "text": [
      "Epoch 4 Training: 100%|███████████████████████████████████████████████████████████| 1491/1491 [00:05<00:00, 284.95it/s]\n",
      "Epoch 4 Validation: 100%|██████████████████████████████████████████████████████| 11921/11921 [00:07<00:00, 1690.54it/s]\n"
     ]
    },
    {
     "name": "stdout",
     "output_type": "stream",
     "text": [
      "\n",
      "Epoch 4/20\n",
      "Train Loss: 0.0189 | Val Loss: 0.2681\n",
      "Train Acc: 99.46% | Val Acc: 92.61%\n",
      "Train F1: 99.46% | Val F1: 92.64%\n",
      "New best model saved with Val F1: 92.64%\n"
     ]
    },
    {
     "name": "stderr",
     "output_type": "stream",
     "text": [
      "Epoch 5 Training: 100%|███████████████████████████████████████████████████████████| 1491/1491 [00:05<00:00, 282.95it/s]\n",
      "Epoch 5 Validation: 100%|██████████████████████████████████████████████████████| 11921/11921 [00:07<00:00, 1688.76it/s]\n"
     ]
    },
    {
     "name": "stdout",
     "output_type": "stream",
     "text": [
      "\n",
      "Epoch 5/20\n",
      "Train Loss: 0.0167 | Val Loss: 0.2830\n",
      "Train Acc: 99.51% | Val Acc: 93.04%\n",
      "Train F1: 99.51% | Val F1: 93.10%\n",
      "New best model saved with Val F1: 93.10%\n"
     ]
    },
    {
     "name": "stderr",
     "output_type": "stream",
     "text": [
      "Epoch 6 Training: 100%|███████████████████████████████████████████████████████████| 1491/1491 [00:05<00:00, 285.51it/s]\n",
      "Epoch 6 Validation: 100%|██████████████████████████████████████████████████████| 11921/11921 [00:07<00:00, 1685.65it/s]\n"
     ]
    },
    {
     "name": "stdout",
     "output_type": "stream",
     "text": [
      "\n",
      "Epoch 6/20\n",
      "Train Loss: 0.0094 | Val Loss: 0.3010\n",
      "Train Acc: 99.69% | Val Acc: 92.11%\n",
      "Train F1: 99.69% | Val F1: 92.07%\n"
     ]
    },
    {
     "name": "stderr",
     "output_type": "stream",
     "text": [
      "Epoch 7 Training: 100%|███████████████████████████████████████████████████████████| 1491/1491 [00:05<00:00, 284.80it/s]\n",
      "Epoch 7 Validation: 100%|██████████████████████████████████████████████████████| 11921/11921 [00:07<00:00, 1682.18it/s]\n"
     ]
    },
    {
     "name": "stdout",
     "output_type": "stream",
     "text": [
      "\n",
      "Epoch 7/20\n",
      "Train Loss: 0.0128 | Val Loss: 0.3296\n",
      "Train Acc: 99.58% | Val Acc: 92.59%\n",
      "Train F1: 99.58% | Val F1: 92.64%\n"
     ]
    },
    {
     "name": "stderr",
     "output_type": "stream",
     "text": [
      "Epoch 8 Training: 100%|███████████████████████████████████████████████████████████| 1491/1491 [00:05<00:00, 284.80it/s]\n",
      "Epoch 8 Validation: 100%|██████████████████████████████████████████████████████| 11921/11921 [00:07<00:00, 1683.97it/s]\n"
     ]
    },
    {
     "name": "stdout",
     "output_type": "stream",
     "text": [
      "\n",
      "Epoch 8/20\n",
      "Train Loss: 0.0102 | Val Loss: 0.4012\n",
      "Train Acc: 99.66% | Val Acc: 92.46%\n",
      "Train F1: 99.66% | Val F1: 92.52%\n"
     ]
    },
    {
     "name": "stderr",
     "output_type": "stream",
     "text": [
      "Epoch 9 Training: 100%|███████████████████████████████████████████████████████████| 1491/1491 [00:05<00:00, 283.34it/s]\n",
      "Epoch 9 Validation: 100%|██████████████████████████████████████████████████████| 11921/11921 [00:07<00:00, 1677.61it/s]\n"
     ]
    },
    {
     "name": "stdout",
     "output_type": "stream",
     "text": [
      "\n",
      "Epoch 9/20\n",
      "Train Loss: 0.0107 | Val Loss: 0.3442\n",
      "Train Acc: 99.65% | Val Acc: 92.74%\n",
      "Train F1: 99.65% | Val F1: 92.82%\n"
     ]
    },
    {
     "name": "stderr",
     "output_type": "stream",
     "text": [
      "Epoch 10 Training: 100%|██████████████████████████████████████████████████████████| 1491/1491 [00:05<00:00, 285.73it/s]\n",
      "Epoch 10 Validation: 100%|█████████████████████████████████████████████████████| 11921/11921 [00:07<00:00, 1683.08it/s]"
     ]
    },
    {
     "name": "stdout",
     "output_type": "stream",
     "text": [
      "\n",
      "Epoch 10/20\n",
      "Train Loss: 0.0090 | Val Loss: 0.4672\n",
      "Train Acc: 99.70% | Val Acc: 91.58%\n",
      "Train F1: 99.70% | Val F1: 91.50%\n",
      "\n",
      "Early stopping triggered after 10 epochs!\n",
      "\n",
      "Training completed. Best Validation F1: 93.10%\n"
     ]
    },
    {
     "name": "stderr",
     "output_type": "stream",
     "text": [
      "\n"
     ]
    }
   ],
   "source": [
    "# Initialize models with Word2Vec embeddings\n",
    "w2v_ann_model = URLClassifierW2V(embedding_matrix, len(numerical_columns), num_classes)\n",
    "# train_model(w2v_ann_model, train_loader, test_loader)\n",
    "\n",
    "optimizer = torch.optim.Adam(w2v_ann_model.parameters())\n",
    "criterion = torch.nn.CrossEntropyLoss()\n",
    "\n",
    "w2v_ann_model.to(DEVICE)\n",
    "\n",
    "metrics = train_model(\n",
    "    model=w2v_ann_model,\n",
    "    train_loader=train_loader,\n",
    "    val_loader=test_dataset,\n",
    "    optimizer=optimizer,\n",
    "    criterion=criterion,\n",
    "    device=DEVICE,\n",
    "    epochs=20,\n",
    "    early_stop_patience=5,\n",
    "    best_checkpoint_path=\"./Models/best_w2v_ann.pth\",\n",
    ")"
   ]
  },
  {
   "cell_type": "code",
   "execution_count": 25,
   "id": "6861500e-e55c-453f-800d-5d40f310a942",
   "metadata": {},
   "outputs": [
    {
     "data": {
      "image/png": "[encoded data removed]",
      "text/plain": [
       "<Figure size 640x480 with 1 Axes>"
      ]
     },
     "metadata": {},
     "output_type": "display_data"
    },
    {
     "data": {
      "image/png": "[encoded data removed]",
      "text/plain": [
       "<Figure size 640x480 with 1 Axes>"
      ]
     },
     "metadata": {},
     "output_type": "display_data"
    }
   ],
   "source": [
    "plt.plot(metrics['train_loss'], label='Train Loss')\n",
    "plt.plot(metrics['val_loss'], label='Val Loss')\n",
    "plt.xlabel('Epochs')\n",
    "plt.ylabel('Loss')\n",
    "plt.legend()\n",
    "plt.show()\n",
    "\n",
    "plt.plot(metrics['train_acc'], label='Train Accuracy')\n",
    "plt.plot(metrics['val_acc'], label='Val Accuracy')\n",
    "plt.xlabel('Epochs')\n",
    "plt.ylabel('Loss')\n",
    "plt.legend()\n",
    "plt.show()"
   ]
  },
  {
   "cell_type": "code",
   "execution_count": 26,
   "id": "678ba02f-3cca-4e52-bffb-df0dffa6ba68",
   "metadata": {},
   "outputs": [],
   "source": [
    "class URLClassifierW2VCNN(nn.Module):\n",
    "    def __init__(self, vocab_size, num_numerical_features, num_classes):\n",
    "        super().__init__()\n",
    "        self.embedding = nn.Embedding.from_pretrained(embedding_matrix, freeze=False)\n",
    "\n",
    "        self.conv = nn.Sequential(\n",
    "            nn.Conv1d(EMBEDDING_DIM, 64, kernel_size=3),\n",
    "            nn.BatchNorm1d(64),  # Normalize conv outputs\n",
    "            nn.ReLU(),\n",
    "            nn.MaxPool1d(2),\n",
    "            nn.Dropout(0.3)  # Regularization\n",
    "        )\n",
    "\n",
    "        self.fc = nn.Sequential(\n",
    "            nn.Linear(64 * ((MAX_SEQ_LENGTH - 2) // 2) + num_numerical_features, 32),  # Dynamic size\n",
    "            nn.BatchNorm1d(32),\n",
    "            nn.ReLU(),\n",
    "            nn.Dropout(0.5),\n",
    "            nn.Linear(32, num_classes)\n",
    "        )\n",
    "\n",
    "    def forward(self, text, numerical):\n",
    "        embedded = self.embedding(text).permute(0, 2, 1)  # (batch, channels, seq_len)\n",
    "        conv_out = self.conv(embedded).flatten(start_dim=1)\n",
    "        combined = torch.cat([conv_out, numerical], dim=1)\n",
    "        return self.fc(combined)"
   ]
  },
  {
   "cell_type": "code",
   "execution_count": 27,
   "id": "d31c7dea-851c-457e-a591-c908817e6f15",
   "metadata": {},
   "outputs": [
    {
     "name": "stderr",
     "output_type": "stream",
     "text": [
      "Epoch 1 Training: 100%|███████████████████████████████████████████████████████████| 1491/1491 [00:04<00:00, 327.53it/s]\n",
      "Epoch 1 Validation: 100%|██████████████████████████████████████████████████████| 11921/11921 [00:07<00:00, 1632.55it/s]\n"
     ]
    },
    {
     "name": "stdout",
     "output_type": "stream",
     "text": [
      "\n",
      "Epoch 1/20\n",
      "Train Loss: 0.0152 | Val Loss: 0.4790\n",
      "Train Acc: 99.58% | Val Acc: 91.06%\n",
      "Train F1: 99.58% | Val F1: 90.89%\n",
      "New best model saved with Val F1: 90.89%\n"
     ]
    },
    {
     "name": "stderr",
     "output_type": "stream",
     "text": [
      "Epoch 2 Training: 100%|███████████████████████████████████████████████████████████| 1491/1491 [00:04<00:00, 327.52it/s]\n",
      "Epoch 2 Validation: 100%|██████████████████████████████████████████████████████| 11921/11921 [00:07<00:00, 1632.72it/s]\n"
     ]
    },
    {
     "name": "stdout",
     "output_type": "stream",
     "text": [
      "\n",
      "Epoch 2/20\n",
      "Train Loss: 0.0160 | Val Loss: 0.4533\n",
      "Train Acc: 99.49% | Val Acc: 91.62%\n",
      "Train F1: 99.49% | Val F1: 91.53%\n",
      "New best model saved with Val F1: 91.53%\n"
     ]
    },
    {
     "name": "stderr",
     "output_type": "stream",
     "text": [
      "Epoch 3 Training: 100%|███████████████████████████████████████████████████████████| 1491/1491 [00:04<00:00, 328.73it/s]\n",
      "Epoch 3 Validation: 100%|██████████████████████████████████████████████████████| 11921/11921 [00:07<00:00, 1635.50it/s]\n"
     ]
    },
    {
     "name": "stdout",
     "output_type": "stream",
     "text": [
      "\n",
      "Epoch 3/20\n",
      "Train Loss: 0.0150 | Val Loss: 0.4788\n",
      "Train Acc: 99.56% | Val Acc: 91.13%\n",
      "Train F1: 99.56% | Val F1: 90.99%\n"
     ]
    },
    {
     "name": "stderr",
     "output_type": "stream",
     "text": [
      "Epoch 4 Training: 100%|███████████████████████████████████████████████████████████| 1491/1491 [00:04<00:00, 351.01it/s]\n",
      "Epoch 4 Validation: 100%|██████████████████████████████████████████████████████| 11921/11921 [00:07<00:00, 1637.22it/s]\n"
     ]
    },
    {
     "name": "stdout",
     "output_type": "stream",
     "text": [
      "\n",
      "Epoch 4/20\n",
      "Train Loss: 0.0136 | Val Loss: 0.4173\n",
      "Train Acc: 99.58% | Val Acc: 91.95%\n",
      "Train F1: 99.58% | Val F1: 91.92%\n",
      "New best model saved with Val F1: 91.92%\n"
     ]
    },
    {
     "name": "stderr",
     "output_type": "stream",
     "text": [
      "Epoch 5 Training: 100%|███████████████████████████████████████████████████████████| 1491/1491 [00:04<00:00, 337.11it/s]\n",
      "Epoch 5 Validation: 100%|██████████████████████████████████████████████████████| 11921/11921 [00:07<00:00, 1635.96it/s]\n"
     ]
    },
    {
     "name": "stdout",
     "output_type": "stream",
     "text": [
      "\n",
      "Epoch 5/20\n",
      "Train Loss: 0.0140 | Val Loss: 0.4900\n",
      "Train Acc: 99.55% | Val Acc: 91.23%\n",
      "Train F1: 99.55% | Val F1: 91.08%\n"
     ]
    },
    {
     "name": "stderr",
     "output_type": "stream",
     "text": [
      "Epoch 6 Training: 100%|███████████████████████████████████████████████████████████| 1491/1491 [00:04<00:00, 351.63it/s]\n",
      "Epoch 6 Validation: 100%|██████████████████████████████████████████████████████| 11921/11921 [00:07<00:00, 1639.52it/s]\n"
     ]
    },
    {
     "name": "stdout",
     "output_type": "stream",
     "text": [
      "\n",
      "Epoch 6/20\n",
      "Train Loss: 0.0124 | Val Loss: 0.4278\n",
      "Train Acc: 99.63% | Val Acc: 91.53%\n",
      "Train F1: 99.63% | Val F1: 91.45%\n"
     ]
    },
    {
     "name": "stderr",
     "output_type": "stream",
     "text": [
      "Epoch 7 Training: 100%|███████████████████████████████████████████████████████████| 1491/1491 [00:04<00:00, 350.38it/s]\n",
      "Epoch 7 Validation: 100%|██████████████████████████████████████████████████████| 11921/11921 [00:07<00:00, 1635.63it/s]\n"
     ]
    },
    {
     "name": "stdout",
     "output_type": "stream",
     "text": [
      "\n",
      "Epoch 7/20\n",
      "Train Loss: 0.0139 | Val Loss: 0.4411\n",
      "Train Acc: 99.54% | Val Acc: 91.59%\n",
      "Train F1: 99.54% | Val F1: 91.48%\n"
     ]
    },
    {
     "name": "stderr",
     "output_type": "stream",
     "text": [
      "Epoch 8 Training: 100%|███████████████████████████████████████████████████████████| 1491/1491 [00:04<00:00, 353.18it/s]\n",
      "Epoch 8 Validation: 100%|██████████████████████████████████████████████████████| 11921/11921 [00:07<00:00, 1624.34it/s]\n"
     ]
    },
    {
     "name": "stdout",
     "output_type": "stream",
     "text": [
      "\n",
      "Epoch 8/20\n",
      "Train Loss: 0.0148 | Val Loss: 0.4654\n",
      "Train Acc: 99.55% | Val Acc: 91.16%\n",
      "Train F1: 99.55% | Val F1: 90.99%\n"
     ]
    },
    {
     "name": "stderr",
     "output_type": "stream",
     "text": [
      "Epoch 9 Training: 100%|███████████████████████████████████████████████████████████| 1491/1491 [00:04<00:00, 329.24it/s]\n",
      "Epoch 9 Validation: 100%|██████████████████████████████████████████████████████| 11921/11921 [00:07<00:00, 1624.34it/s]"
     ]
    },
    {
     "name": "stdout",
     "output_type": "stream",
     "text": [
      "\n",
      "Epoch 9/20\n",
      "Train Loss: 0.0133 | Val Loss: 0.5088\n",
      "Train Acc: 99.56% | Val Acc: 91.28%\n",
      "Train F1: 99.56% | Val F1: 91.12%\n",
      "\n",
      "Early stopping triggered after 9 epochs!\n",
      "\n",
      "Training completed. Best Validation F1: 91.92%\n"
     ]
    },
    {
     "name": "stderr",
     "output_type": "stream",
     "text": [
      "\n"
     ]
    }
   ],
   "source": [
    "w2v_cnn_model = URLClassifierW2VCNN(embedding_matrix, len(numerical_columns), num_classes)\n",
    "\n",
    "optimizer = torch.optim.Adam(w2v_cnn_model.parameters())\n",
    "criterion = torch.nn.CrossEntropyLoss()\n",
    "\n",
    "w2v_cnn_model.to(DEVICE)\n",
    "\n",
    "metrics = train_model(\n",
    "    model=w2v_ann_model,\n",
    "    train_loader=train_loader,\n",
    "    val_loader=test_dataset,\n",
    "    optimizer=optimizer,\n",
    "    criterion=criterion,\n",
    "    device=DEVICE,\n",
    "    epochs=20,\n",
    "    early_stop_patience=5,\n",
    "    best_checkpoint_path=\"./Models/best_w2v_cnn.pth\",\n",
    ")"
   ]
  },
  {
   "cell_type": "code",
   "execution_count": null,
   "id": "7e4de887-4cce-4621-9f8a-25acb716b0e4",
   "metadata": {},
   "outputs": [],
   "source": []
  }
 ],
 "metadata": {
  "kernelspec": {
   "display_name": "Python 3 (ipykernel)",
   "language": "python",
   "name": "python3"
  },
  "language_info": {
   "codemirror_mode": {
    "name": "ipython",
    "version": 3
   },
   "file_extension": ".py",
   "mimetype": "text/x-python",
   "name": "python",
   "nbconvert_exporter": "python",
   "pygments_lexer": "ipython3",
   "version": "3.11.8"
  }
 },
 "nbformat": 4,
 "nbformat_minor": 5
}

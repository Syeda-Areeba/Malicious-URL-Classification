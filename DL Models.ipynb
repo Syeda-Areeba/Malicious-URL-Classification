{
 "cells": [
  {
   "cell_type": "code",
   "execution_count": 1,
   "id": "5802acb8-ce1a-467c-9581-b1e9e903f4ac",
   "metadata": {},
   "outputs": [],
   "source": [
    "import torch\n",
    "import pandas as pd\n",
    "import torch.nn as nn\n",
    "import torch.optim as optim\n",
    "from torch.utils.data import Dataset, DataLoader\n",
    "from sklearn.model_selection import train_test_split\n",
    "from sklearn.preprocessing import LabelEncoder, StandardScaler\n",
    "import numpy as np\n",
    "from tqdm import tqdm\n",
    "from sklearn.metrics import accuracy_score, f1_score, precision_score, recall_score, confusion_matrix, classification_report\n",
    "import matplotlib.pyplot as plt\n",
    "from gensim.models import Word2Vec\n",
    "import matplotlib.pyplot as plt\n",
    "import seaborn as sns"
   ]
  },
  {
   "cell_type": "code",
   "execution_count": 2,
   "id": "53074b12-50ec-431b-abd9-a481bbee8384",
   "metadata": {},
   "outputs": [],
   "source": [
    "DEVICE = 'cuda' if torch.cuda.is_available() else 'cpu'"
   ]
  },
  {
   "cell_type": "code",
   "execution_count": 3,
   "id": "bdcc4000-c93c-44cb-9857-18b1212a24fc",
   "metadata": {},
   "outputs": [],
   "source": [
    "EMBEDDING_DIM = 64\n",
    "MAX_SEQ_LENGTH = 64\n",
    "BATCH_SIZE = 32\n",
    "EPOCHS = 10"
   ]
  },
  {
   "cell_type": "code",
   "execution_count": 4,
   "id": "f1d4e725-be0d-4fd5-af68-bd244e0ca6a8",
   "metadata": {},
   "outputs": [],
   "source": [
    "def build_vocab(text_columns):\n",
    "    vocab = {'<pad>': 0, '<unk>': 1, '<sep>': 2}\n",
    "    index = 3\n",
    "    for col in text_columns:\n",
    "        for text in df[col]:\n",
    "            for word in str(text).split():\n",
    "                if word not in vocab:\n",
    "                    vocab[word] = index\n",
    "                    index += 1\n",
    "    return vocab"
   ]
  },
  {
   "cell_type": "markdown",
   "id": "1223093f-0178-4c47-836e-a78dfde762b5",
   "metadata": {},
   "source": [
    "# Custom Dataset"
   ]
  },
  {
   "cell_type": "code",
   "execution_count": 5,
   "id": "fb37c0c5-4bcf-459b-a6a3-1cc6ab03b6d3",
   "metadata": {},
   "outputs": [],
   "source": [
    "class URLDataset(Dataset):\n",
    "    def __init__(self, texts, numerical_features, labels, vocab, max_length):\n",
    "        # Convert text columns to numpy arrays to avoid pandas indexing issues\n",
    "        self.texts = {col: texts[col].values for col in text_columns}\n",
    "        self.numerical = numerical_features\n",
    "        self.labels = labels\n",
    "        self.vocab = vocab\n",
    "        self.max_length = max_length\n",
    "\n",
    "    def __len__(self):\n",
    "        return len(self.labels)\n",
    "\n",
    "    def __getitem__(self, idx):\n",
    "        # Process text components using direct array access\n",
    "        combined_text = ' <sep> '.join([str(self.texts[col][idx]) for col in text_columns])\n",
    "        tokenized = [self.vocab.get(word, 0) for word in combined_text.split()[:self.max_length]]\n",
    "        padded = tokenized + [0]*(self.max_length - len(tokenized))\n",
    "        \n",
    "        return {\n",
    "            'text': torch.LongTensor(padded),\n",
    "            'numerical': torch.FloatTensor(self.numerical[idx]),\n",
    "            'label': torch.LongTensor([self.labels[idx]])\n",
    "        }"
   ]
  },
  {
   "cell_type": "markdown",
   "id": "aab05561-8bff-4d7d-8f6a-2d4ba752f68f",
   "metadata": {},
   "source": [
    "# Custom ANN Model"
   ]
  },
  {
   "cell_type": "code",
   "execution_count": 6,
   "id": "df79f014-36e4-4deb-b4d3-cce362220a85",
   "metadata": {},
   "outputs": [],
   "source": [
    "class URLClassifierANN(nn.Module):\n",
    "    def __init__(self, vocab_size, num_numerical_features, num_classes):\n",
    "        super().__init__()\n",
    "        self.embedding = nn.Embedding(vocab_size, EMBEDDING_DIM)\n",
    "        self.fc = nn.Sequential(\n",
    "            nn.Linear(EMBEDDING_DIM + num_numerical_features, 16),\n",
    "            nn.BatchNorm1d(16), \n",
    "            nn.Tanh(),\n",
    "            nn.Dropout(0.5),\n",
    "            nn.Linear(16, num_classes)\n",
    "        )\n",
    "\n",
    "    def forward(self, text, numerical):\n",
    "        embedded = self.embedding(text).mean(dim=1)  # Average pooling\n",
    "        combined = torch.cat([embedded, numerical], dim=1)\n",
    "        return self.fc(combined)"
   ]
  },
  {
   "cell_type": "markdown",
   "id": "216bf36d-2384-4e4e-94df-f04c1b55a6ad",
   "metadata": {},
   "source": [
    "# Custom CNN Model"
   ]
  },
  {
   "cell_type": "code",
   "execution_count": 7,
   "id": "55c8580a-6d73-490c-b422-2c34d3ce2281",
   "metadata": {},
   "outputs": [],
   "source": [
    "class URLClassifierCNN(nn.Module):\n",
    "    def __init__(self, vocab_size, num_numerical_features, num_classes):\n",
    "        super().__init__()\n",
    "        self.embedding = nn.Embedding(vocab_size, EMBEDDING_DIM)\n",
    "\n",
    "        self.conv = nn.Sequential(\n",
    "            nn.Conv1d(EMBEDDING_DIM, 64, kernel_size=3),\n",
    "            nn.BatchNorm1d(64),  # Normalize conv outputs\n",
    "            nn.ReLU(),\n",
    "            nn.MaxPool1d(2),\n",
    "            nn.Dropout(0.3)  # Regularization\n",
    "        )\n",
    "\n",
    "        self.fc = nn.Sequential(\n",
    "            nn.Linear(64 * ((MAX_SEQ_LENGTH - 2) // 2) + num_numerical_features, 32),  # Dynamic size\n",
    "            nn.BatchNorm1d(32),\n",
    "            nn.ReLU(),\n",
    "            nn.Dropout(0.5),\n",
    "            nn.Linear(32, num_classes)\n",
    "        )\n",
    "\n",
    "    def forward(self, text, numerical):\n",
    "        embedded = self.embedding(text).permute(0, 2, 1)  # (batch, channels, seq_len)\n",
    "        conv_out = self.conv(embedded).flatten(start_dim=1)\n",
    "        combined = torch.cat([conv_out, numerical], dim=1)\n",
    "        return self.fc(combined)"
   ]
  },
  {
   "cell_type": "markdown",
   "id": "ccdf141d-9979-46cf-b642-46168a646c9a",
   "metadata": {},
   "source": [
    "# Custom LSTM Model"
   ]
  },
  {
   "cell_type": "code",
   "execution_count": 8,
   "id": "3ac70859-9d25-48d8-9334-7f7823e0a22d",
   "metadata": {},
   "outputs": [],
   "source": [
    "class URLClassifierLSTM(nn.Module):\n",
    "    def __init__(self, vocab_size, num_numerical_features, num_classes):\n",
    "        super().__init__()\n",
    "        self.embedding = nn.Embedding(vocab_size, EMBEDDING_DIM)\n",
    "        self.lstm = nn.LSTM(EMBEDDING_DIM, 64, bidirectional=True, batch_first=True, dropout=0.3)  # Dropout between LSTM layers\n",
    "        self.fc = nn.Sequential(\n",
    "            nn.Linear(128 + num_numerical_features, 64),\n",
    "            nn.BatchNorm1d(64),\n",
    "            nn.ReLU(),\n",
    "            nn.Dropout(0.5),  # Stronger regularization in FC layer\n",
    "            nn.Linear(64, num_classes)\n",
    "        )\n",
    "\n",
    "    def forward(self, text, numerical):\n",
    "        embedded = self.embedding(text)\n",
    "        lstm_out, (h_n, c_n) = self.lstm(embedded)\n",
    "        lstm_features = torch.cat([h_n[-2], h_n[-1]], dim=1)  # Get last hidden states\n",
    "        combined = torch.cat([lstm_features, numerical], dim=1)\n",
    "        return self.fc(combined)"
   ]
  },
  {
   "cell_type": "markdown",
   "id": "c55ff5f1-ccac-4a55-9b0b-9fd9576cec6e",
   "metadata": {},
   "source": [
    "# Training Code"
   ]
  },
  {
   "cell_type": "code",
   "execution_count": 9,
   "id": "0c372b97-0496-445c-9e04-6907937b6559",
   "metadata": {},
   "outputs": [],
   "source": [
    "def train_model(\n",
    "    model,\n",
    "    train_loader,\n",
    "    val_loader,\n",
    "    optimizer,\n",
    "    criterion,\n",
    "    device,\n",
    "    scheduler=None,\n",
    "    epochs=10,\n",
    "    early_stop_patience=3,\n",
    "    best_checkpoint_path=\"./Models/best_model.pth\"\n",
    "):\n",
    "    \"\"\"\n",
    "    Train and validate a model with metrics tracking, checkpointing, and early stopping\n",
    "    \n",
    "    Args:\n",
    "        model: PyTorch model to train\n",
    "        train_loader: Training data loader\n",
    "        val_loader: Validation data loader\n",
    "        optimizer: Optimizer instance\n",
    "        criterion: Loss function\n",
    "        device: Target device (cpu/cuda)\n",
    "        scheduler: Learning rate scheduler (optional)\n",
    "        epochs: Maximum number of epochs\n",
    "        early_stop_patience: Early stopping patience\n",
    "        best_checkpoint_path: Path to save best model\n",
    "        last_checkpoint_path: Path to save last model\n",
    "    \n",
    "    Returns:\n",
    "        Dictionary containing training metrics\n",
    "    \"\"\"\n",
    "    \n",
    "    # Initialize metrics tracking\n",
    "    metrics = {\n",
    "        'train_loss': [],\n",
    "        'val_loss': [],\n",
    "        'train_acc': [],\n",
    "        'val_acc': [],\n",
    "        'train_f1': [],\n",
    "        'val_f1': []\n",
    "    }\n",
    "    \n",
    "    best_f1 = 0.0\n",
    "    stop_count = 0\n",
    "    \n",
    "    for epoch in range(epochs):\n",
    "        # Training phase\n",
    "        model.train()\n",
    "        epoch_train_loss = 0.0\n",
    "        train_preds, train_labels = [], []\n",
    "        \n",
    "        for batch in tqdm(train_loader, desc=f'Epoch {epoch+1} Training'):\n",
    "            \n",
    "            optimizer.zero_grad()\n",
    "            outputs = model(batch['text'].to(device), batch['numerical'].to(device))\n",
    "            loss = criterion(outputs, batch['label'].squeeze().to(device))\n",
    "            loss.backward()\n",
    "            optimizer.step()\n",
    "            \n",
    "            epoch_train_loss += loss.item()\n",
    "            preds = torch.argmax(torch.softmax(outputs, dim=-1), dim=-1)\n",
    "            \n",
    "            train_preds.extend(preds.cpu().numpy())\n",
    "            train_labels.extend(batch['label'].squeeze().cpu().numpy())\n",
    "        \n",
    "        # Update scheduler if provided\n",
    "        if scheduler:\n",
    "            scheduler.step()\n",
    "            \n",
    "        # Calculate training metrics\n",
    "        train_loss = epoch_train_loss / len(train_loader)\n",
    "        train_acc = accuracy_score(train_labels, train_preds) * 100\n",
    "        train_f1 = f1_score(train_labels, train_preds, average='weighted') * 100\n",
    "        train_precision = precision_score(train_labels, train_preds, average='weighted') * 100\n",
    "        train_recall = recall_score(train_labels, train_preds, average='weighted') * 100\n",
    "        \n",
    "        metrics['train_loss'].append(train_loss)\n",
    "        metrics['train_acc'].append(train_acc)\n",
    "        metrics['train_f1'].append(train_f1)\n",
    "        # metrics['train_precision'].append(train_precision)\n",
    "        # metrics['train_recall'].append(train_recall)\n",
    "        \n",
    "        # Validation phase\n",
    "        model.eval()\n",
    "        epoch_val_loss = 0.0\n",
    "        val_preds, val_labels = [], []\n",
    "        \n",
    "        with torch.no_grad():\n",
    "            for batch in tqdm(val_loader, desc=f'Epoch {epoch+1} Validation'):\n",
    "                \n",
    "                outputs = model(batch['text'].unsqueeze(0).to(device), batch['numerical'].unsqueeze(0).to(device))\n",
    "                loss = criterion(outputs, batch['label'].to(device))\n",
    "                \n",
    "                epoch_val_loss += loss.item()\n",
    "                preds = torch.argmax(torch.softmax(outputs, dim=-1), dim=-1)\n",
    "                \n",
    "                val_preds.extend(preds.cpu().numpy())\n",
    "                val_labels.extend(batch['label'].cpu().numpy())\n",
    "        \n",
    "        # Calculate validation metrics\n",
    "        val_loss = epoch_val_loss / len(val_loader)\n",
    "        val_acc = accuracy_score(val_labels, val_preds) * 100\n",
    "        val_f1 = f1_score(val_labels, val_preds, average='weighted') * 100\n",
    "        val_precision = precision_score(val_labels, val_preds, average='weighted') * 100\n",
    "        val_recall = recall_score(val_labels, val_preds, average='weighted') * 100\n",
    "        \n",
    "        metrics['val_loss'].append(val_loss)\n",
    "        metrics['val_acc'].append(val_acc)\n",
    "        metrics['val_f1'].append(val_f1)\n",
    "        # metrics['val_precision'].append(val_precision)\n",
    "        # metrics['val_recall'].append(val_recall)\n",
    "        cm = confusion_matrix\n",
    "        \n",
    "        # Print epoch summary\n",
    "        print(f\"\\nEpoch {epoch+1}/{epochs}\")\n",
    "        print(f\"Train Loss: {train_loss:.4f} | Val Loss: {val_loss:.4f}\")\n",
    "        print(f\"Train Acc: {train_acc:.2f}% | Val Acc: {val_acc:.2f}%\")\n",
    "        print(f\"Train F1: {train_precision:.2f}% | Val F1: {val_precision:.2f}%\")\n",
    "        print(f\"Train F1: {train_recall:.2f}% | Val F1: {val_recall:.2f}%\")\n",
    "        print(f\"Train F1: {train_f1:.2f}% | Val F1: {val_f1:.2f}%\")\n",
    "        \n",
    "        if val_f1 > best_f1:\n",
    "            best_f1 = val_f1\n",
    "            torch.save(model.state_dict(), best_checkpoint_path)\n",
    "            print(f\"New best model saved with Val F1: {best_f1:.2f}%\")\n",
    "            stop_count = 0\n",
    "        else:\n",
    "            stop_count += 1\n",
    "            if stop_count >= early_stop_patience:\n",
    "                print(f\"\\nEarly stopping triggered after {epoch+1} epochs!\")\n",
    "                break\n",
    "    \n",
    "    print(f\"\\nTraining completed. Best Validation F1: {best_f1:.2f}%\")\n",
    "    return metrics"
   ]
  },
  {
   "cell_type": "code",
   "execution_count": 10,
   "id": "8e0db957-3313-4b7e-883c-cdf0af920cdb",
   "metadata": {},
   "outputs": [
    {
     "data": {
      "text/html": [
       "<div>\n",
       "<style scoped>\n",
       "    .dataframe tbody tr th:only-of-type {\n",
       "        vertical-align: middle;\n",
       "    }\n",
       "\n",
       "    .dataframe tbody tr th {\n",
       "        vertical-align: top;\n",
       "    }\n",
       "\n",
       "    .dataframe thead th {\n",
       "        text-align: right;\n",
       "    }\n",
       "</style>\n",
       "<table border=\"1\" class=\"dataframe\">\n",
       "  <thead>\n",
       "    <tr style=\"text-align: right;\">\n",
       "      <th></th>\n",
       "      <th>url</th>\n",
       "      <th>type</th>\n",
       "      <th>scheme</th>\n",
       "      <th>domain</th>\n",
       "      <th>subdomain</th>\n",
       "      <th>top_level_domain</th>\n",
       "      <th>path</th>\n",
       "      <th>path_length</th>\n",
       "      <th>num_path_segments</th>\n",
       "      <th>query_params</th>\n",
       "      <th>num_query_params</th>\n",
       "      <th>has_https</th>\n",
       "      <th>file_extension</th>\n",
       "      <th>has_fragment</th>\n",
       "      <th>has_special_chars_in_path</th>\n",
       "      <th>has_port</th>\n",
       "      <th>port_number</th>\n",
       "      <th>is_ip_address</th>\n",
       "    </tr>\n",
       "  </thead>\n",
       "  <tbody>\n",
       "    <tr>\n",
       "      <th>0</th>\n",
       "      <td>https://ethnicelebs.com/eddie-anderson-comedian</td>\n",
       "      <td>benign</td>\n",
       "      <td>https</td>\n",
       "      <td>ethnicelebs.com</td>\n",
       "      <td>none</td>\n",
       "      <td>com</td>\n",
       "      <td>/eddie-anderson-comedian</td>\n",
       "      <td>24</td>\n",
       "      <td>1</td>\n",
       "      <td>0</td>\n",
       "      <td>0</td>\n",
       "      <td>1</td>\n",
       "      <td>none</td>\n",
       "      <td>0</td>\n",
       "      <td>0</td>\n",
       "      <td>0</td>\n",
       "      <td>0</td>\n",
       "      <td>0</td>\n",
       "    </tr>\n",
       "    <tr>\n",
       "      <th>1</th>\n",
       "      <td>https://closinglogos.com/page/Sony+Pictures+Ho...</td>\n",
       "      <td>benign</td>\n",
       "      <td>https</td>\n",
       "      <td>closinglogos.com</td>\n",
       "      <td>none</td>\n",
       "      <td>com</td>\n",
       "      <td>/page/Sony+Pictures+Home+Entertainment+Warning...</td>\n",
       "      <td>53</td>\n",
       "      <td>2</td>\n",
       "      <td>0</td>\n",
       "      <td>0</td>\n",
       "      <td>1</td>\n",
       "      <td>none</td>\n",
       "      <td>0</td>\n",
       "      <td>0</td>\n",
       "      <td>0</td>\n",
       "      <td>0</td>\n",
       "      <td>0</td>\n",
       "    </tr>\n",
       "    <tr>\n",
       "      <th>2</th>\n",
       "      <td>https://terezowens.com/golfer-greg-norman-tryi...</td>\n",
       "      <td>benign</td>\n",
       "      <td>https</td>\n",
       "      <td>terezowens.com</td>\n",
       "      <td>none</td>\n",
       "      <td>com</td>\n",
       "      <td>/golfer-greg-norman-trying-to-unload-55-millio...</td>\n",
       "      <td>54</td>\n",
       "      <td>1</td>\n",
       "      <td>0</td>\n",
       "      <td>0</td>\n",
       "      <td>1</td>\n",
       "      <td>none</td>\n",
       "      <td>0</td>\n",
       "      <td>0</td>\n",
       "      <td>0</td>\n",
       "      <td>0</td>\n",
       "      <td>0</td>\n",
       "    </tr>\n",
       "    <tr>\n",
       "      <th>3</th>\n",
       "      <td>https://americannortel.com/</td>\n",
       "      <td>benign</td>\n",
       "      <td>https</td>\n",
       "      <td>americannortel.com</td>\n",
       "      <td>none</td>\n",
       "      <td>com</td>\n",
       "      <td>/</td>\n",
       "      <td>1</td>\n",
       "      <td>0</td>\n",
       "      <td>0</td>\n",
       "      <td>0</td>\n",
       "      <td>1</td>\n",
       "      <td>none</td>\n",
       "      <td>0</td>\n",
       "      <td>0</td>\n",
       "      <td>0</td>\n",
       "      <td>0</td>\n",
       "      <td>0</td>\n",
       "    </tr>\n",
       "    <tr>\n",
       "      <th>4</th>\n",
       "      <td>https://welding.org/</td>\n",
       "      <td>benign</td>\n",
       "      <td>https</td>\n",
       "      <td>welding.org</td>\n",
       "      <td>none</td>\n",
       "      <td>org</td>\n",
       "      <td>/</td>\n",
       "      <td>1</td>\n",
       "      <td>0</td>\n",
       "      <td>0</td>\n",
       "      <td>0</td>\n",
       "      <td>1</td>\n",
       "      <td>none</td>\n",
       "      <td>0</td>\n",
       "      <td>0</td>\n",
       "      <td>0</td>\n",
       "      <td>0</td>\n",
       "      <td>0</td>\n",
       "    </tr>\n",
       "  </tbody>\n",
       "</table>\n",
       "</div>"
      ],
      "text/plain": [
       "                                                 url    type scheme  \\\n",
       "0    https://ethnicelebs.com/eddie-anderson-comedian  benign  https   \n",
       "1  https://closinglogos.com/page/Sony+Pictures+Ho...  benign  https   \n",
       "2  https://terezowens.com/golfer-greg-norman-tryi...  benign  https   \n",
       "3                        https://americannortel.com/  benign  https   \n",
       "4                               https://welding.org/  benign  https   \n",
       "\n",
       "               domain subdomain top_level_domain  \\\n",
       "0     ethnicelebs.com      none              com   \n",
       "1    closinglogos.com      none              com   \n",
       "2      terezowens.com      none              com   \n",
       "3  americannortel.com      none              com   \n",
       "4         welding.org      none              org   \n",
       "\n",
       "                                                path  path_length  \\\n",
       "0                           /eddie-anderson-comedian           24   \n",
       "1  /page/Sony+Pictures+Home+Entertainment+Warning...           53   \n",
       "2  /golfer-greg-norman-trying-to-unload-55-millio...           54   \n",
       "3                                                  /            1   \n",
       "4                                                  /            1   \n",
       "\n",
       "   num_path_segments  query_params  num_query_params  has_https  \\\n",
       "0                  1             0                 0          1   \n",
       "1                  2             0                 0          1   \n",
       "2                  1             0                 0          1   \n",
       "3                  0             0                 0          1   \n",
       "4                  0             0                 0          1   \n",
       "\n",
       "  file_extension  has_fragment  has_special_chars_in_path  has_port  \\\n",
       "0           none             0                          0         0   \n",
       "1           none             0                          0         0   \n",
       "2           none             0                          0         0   \n",
       "3           none             0                          0         0   \n",
       "4           none             0                          0         0   \n",
       "\n",
       "   port_number  is_ip_address  \n",
       "0            0              0  \n",
       "1            0              0  \n",
       "2            0              0  \n",
       "3            0              0  \n",
       "4            0              0  "
      ]
     },
     "execution_count": 10,
     "metadata": {},
     "output_type": "execute_result"
    }
   ],
   "source": [
    "df = pd.read_csv('./Data/Balanced_dataset.csv')\n",
    "df.head()"
   ]
  },
  {
   "cell_type": "code",
   "execution_count": 11,
   "id": "23b0e6af-157f-4312-b68a-eadd24d5125f",
   "metadata": {},
   "outputs": [],
   "source": [
    "text_columns = ['url', 'scheme', 'domain', 'subdomain', 'top_level_domain', 'path', 'file_extension']\n",
    "numerical_columns = ['path_length', 'num_path_segments', 'query_params','num_query_params','has_fragment', 'has_special_chars_in_path']\n",
    "\n",
    "# Encode labels\n",
    "le = LabelEncoder()\n",
    "df['type'] = le.fit_transform(df['type'])\n",
    "\n",
    "# Normalize numerical features\n",
    "scaler = StandardScaler()\n",
    "numerical_features = scaler.fit_transform(df[numerical_columns])\n",
    "\n",
    "# Build vocabulary\n",
    "vocab = build_vocab(text_columns)\n",
    "\n",
    "# Split data\n",
    "X_train, X_test, y_train, y_test = train_test_split(\n",
    "    np.arange(len(df)), df['type'].values, test_size=0.2, random_state=42\n",
    ")\n",
    "\n",
    "# Create datasets with corrected text handling\n",
    "train_dataset = URLDataset(\n",
    "    texts={col: df[col].iloc[X_train] for col in text_columns},\n",
    "    numerical_features=numerical_features[X_train],\n",
    "    labels=y_train,\n",
    "    vocab=vocab,\n",
    "    max_length=MAX_SEQ_LENGTH\n",
    ")\n",
    "\n",
    "test_dataset = URLDataset(\n",
    "    texts={col: df[col].iloc[X_test] for col in text_columns},\n",
    "    numerical_features=numerical_features[X_test],\n",
    "    labels=y_test,\n",
    "    vocab=vocab,\n",
    "    max_length=MAX_SEQ_LENGTH\n",
    ")\n",
    "\n",
    "# Create dataloaders\n",
    "train_loader = DataLoader(train_dataset, batch_size=BATCH_SIZE, shuffle=True)\n",
    "test_loader = DataLoader(test_dataset, batch_size=BATCH_SIZE)\n",
    "\n",
    "# Initialize models\n",
    "num_classes = len(le.classes_)"
   ]
  },
  {
   "cell_type": "code",
   "execution_count": 12,
   "id": "99285c22-07d4-4edf-86bb-2377f2faaf16",
   "metadata": {},
   "outputs": [
    {
     "data": {
      "text/plain": [
       "{'text': tensor([24769,     2, 51063,     2, 61016,     2, 71868,     2, 75904,     2,\n",
       "         78222,     2, 71868,     0,     0,     0,     0,     0,     0,     0,\n",
       "             0,     0,     0,     0,     0,     0,     0,     0,     0,     0,\n",
       "             0,     0,     0,     0,     0,     0,     0,     0,     0,     0,\n",
       "             0,     0,     0,     0,     0,     0,     0,     0,     0,     0,\n",
       "             0,     0,     0,     0,     0,     0,     0,     0,     0,     0,\n",
       "             0,     0,     0,     0]),\n",
       " 'numerical': tensor([-1.0340, -1.4405, -0.4953, -0.4938, -0.0281, -0.1577]),\n",
       " 'label': tensor([3])}"
      ]
     },
     "execution_count": 12,
     "metadata": {},
     "output_type": "execute_result"
    }
   ],
   "source": [
    "train_dataset[7]"
   ]
  },
  {
   "cell_type": "code",
   "execution_count": 13,
   "id": "55296658-2125-41da-bc25-fe9468ee742b",
   "metadata": {
    "scrolled": true
   },
   "outputs": [
    {
     "name": "stderr",
     "output_type": "stream",
     "text": [
      "Epoch 1 Training: 100%|███████████████████████████████████████████████████████████| 1491/1491 [00:04<00:00, 323.66it/s]\n",
      "Epoch 1 Validation: 100%|██████████████████████████████████████████████████████| 11921/11921 [00:08<00:00, 1426.72it/s]\n"
     ]
    },
    {
     "name": "stdout",
     "output_type": "stream",
     "text": [
      "\n",
      "Epoch 1/20\n",
      "Train Loss: 0.7272 | Val Loss: 0.3944\n",
      "Train Acc: 74.25% | Val Acc: 85.86%\n",
      "Train F1: 73.93% | Val F1: 85.78%\n",
      "Train F1: 74.25% | Val F1: 85.86%\n",
      "Train F1: 73.99% | Val F1: 85.76%\n",
      "New best model saved with Val F1: 85.76%\n"
     ]
    },
    {
     "name": "stderr",
     "output_type": "stream",
     "text": [
      "Epoch 2 Training: 100%|███████████████████████████████████████████████████████████| 1491/1491 [00:04<00:00, 309.77it/s]\n",
      "Epoch 2 Validation: 100%|██████████████████████████████████████████████████████| 11921/11921 [00:07<00:00, 1688.68it/s]\n"
     ]
    },
    {
     "name": "stdout",
     "output_type": "stream",
     "text": [
      "\n",
      "Epoch 2/20\n",
      "Train Loss: 0.4447 | Val Loss: 0.3353\n",
      "Train Acc: 84.57% | Val Acc: 87.62%\n",
      "Train F1: 84.37% | Val F1: 87.57%\n",
      "Train F1: 84.57% | Val F1: 87.62%\n",
      "Train F1: 84.43% | Val F1: 87.57%\n",
      "New best model saved with Val F1: 87.57%\n"
     ]
    },
    {
     "name": "stderr",
     "output_type": "stream",
     "text": [
      "Epoch 3 Training: 100%|███████████████████████████████████████████████████████████| 1491/1491 [00:05<00:00, 295.88it/s]\n",
      "Epoch 3 Validation: 100%|██████████████████████████████████████████████████████| 11921/11921 [00:07<00:00, 1521.59it/s]\n"
     ]
    },
    {
     "name": "stdout",
     "output_type": "stream",
     "text": [
      "\n",
      "Epoch 3/20\n",
      "Train Loss: 0.3646 | Val Loss: 0.3060\n",
      "Train Acc: 87.42% | Val Acc: 88.62%\n",
      "Train F1: 87.34% | Val F1: 88.86%\n",
      "Train F1: 87.42% | Val F1: 88.62%\n",
      "Train F1: 87.36% | Val F1: 88.71%\n",
      "New best model saved with Val F1: 88.71%\n"
     ]
    },
    {
     "name": "stderr",
     "output_type": "stream",
     "text": [
      "Epoch 4 Training: 100%|███████████████████████████████████████████████████████████| 1491/1491 [00:04<00:00, 301.09it/s]\n",
      "Epoch 4 Validation: 100%|██████████████████████████████████████████████████████| 11921/11921 [00:07<00:00, 1595.41it/s]\n"
     ]
    },
    {
     "name": "stdout",
     "output_type": "stream",
     "text": [
      "\n",
      "Epoch 4/20\n",
      "Train Loss: 0.3081 | Val Loss: 0.2949\n",
      "Train Acc: 89.37% | Val Acc: 88.66%\n",
      "Train F1: 89.33% | Val F1: 88.78%\n",
      "Train F1: 89.37% | Val F1: 88.66%\n",
      "Train F1: 89.34% | Val F1: 88.58%\n"
     ]
    },
    {
     "name": "stderr",
     "output_type": "stream",
     "text": [
      "Epoch 5 Training: 100%|███████████████████████████████████████████████████████████| 1491/1491 [00:04<00:00, 299.03it/s]\n",
      "Epoch 5 Validation: 100%|██████████████████████████████████████████████████████| 11921/11921 [00:06<00:00, 1782.21it/s]\n"
     ]
    },
    {
     "name": "stdout",
     "output_type": "stream",
     "text": [
      "\n",
      "Epoch 5/20\n",
      "Train Loss: 0.2564 | Val Loss: 0.2909\n",
      "Train Acc: 91.40% | Val Acc: 89.08%\n",
      "Train F1: 91.37% | Val F1: 89.36%\n",
      "Train F1: 91.40% | Val F1: 89.08%\n",
      "Train F1: 91.38% | Val F1: 89.13%\n",
      "New best model saved with Val F1: 89.13%\n"
     ]
    },
    {
     "name": "stderr",
     "output_type": "stream",
     "text": [
      "Epoch 6 Training: 100%|███████████████████████████████████████████████████████████| 1491/1491 [00:04<00:00, 299.26it/s]\n",
      "Epoch 6 Validation: 100%|██████████████████████████████████████████████████████| 11921/11921 [00:08<00:00, 1431.69it/s]\n"
     ]
    },
    {
     "name": "stdout",
     "output_type": "stream",
     "text": [
      "\n",
      "Epoch 6/20\n",
      "Train Loss: 0.2081 | Val Loss: 0.2953\n",
      "Train Acc: 93.28% | Val Acc: 89.40%\n",
      "Train F1: 93.28% | Val F1: 89.57%\n",
      "Train F1: 93.28% | Val F1: 89.40%\n",
      "Train F1: 93.28% | Val F1: 89.45%\n",
      "New best model saved with Val F1: 89.45%\n"
     ]
    },
    {
     "name": "stderr",
     "output_type": "stream",
     "text": [
      "Epoch 7 Training: 100%|███████████████████████████████████████████████████████████| 1491/1491 [00:05<00:00, 293.12it/s]\n",
      "Epoch 7 Validation: 100%|██████████████████████████████████████████████████████| 11921/11921 [00:07<00:00, 1527.39it/s]\n"
     ]
    },
    {
     "name": "stdout",
     "output_type": "stream",
     "text": [
      "\n",
      "Epoch 7/20\n",
      "Train Loss: 0.1694 | Val Loss: 0.3044\n",
      "Train Acc: 94.66% | Val Acc: 89.32%\n",
      "Train F1: 94.66% | Val F1: 89.39%\n",
      "Train F1: 94.66% | Val F1: 89.32%\n",
      "Train F1: 94.66% | Val F1: 89.32%\n"
     ]
    },
    {
     "name": "stderr",
     "output_type": "stream",
     "text": [
      "Epoch 8 Training: 100%|███████████████████████████████████████████████████████████| 1491/1491 [00:04<00:00, 304.22it/s]\n",
      "Epoch 8 Validation: 100%|██████████████████████████████████████████████████████| 11921/11921 [00:08<00:00, 1341.53it/s]\n"
     ]
    },
    {
     "name": "stdout",
     "output_type": "stream",
     "text": [
      "\n",
      "Epoch 8/20\n",
      "Train Loss: 0.1331 | Val Loss: 0.3471\n",
      "Train Acc: 95.92% | Val Acc: 88.98%\n",
      "Train F1: 95.92% | Val F1: 89.12%\n",
      "Train F1: 95.92% | Val F1: 88.98%\n",
      "Train F1: 95.92% | Val F1: 88.96%\n"
     ]
    },
    {
     "name": "stderr",
     "output_type": "stream",
     "text": [
      "Epoch 9 Training: 100%|███████████████████████████████████████████████████████████| 1491/1491 [00:05<00:00, 283.91it/s]\n",
      "Epoch 9 Validation: 100%|██████████████████████████████████████████████████████| 11921/11921 [00:07<00:00, 1686.03it/s]\n"
     ]
    },
    {
     "name": "stdout",
     "output_type": "stream",
     "text": [
      "\n",
      "Epoch 9/20\n",
      "Train Loss: 0.1073 | Val Loss: 0.3673\n",
      "Train Acc: 96.76% | Val Acc: 88.90%\n",
      "Train F1: 96.77% | Val F1: 89.34%\n",
      "Train F1: 96.76% | Val F1: 88.90%\n",
      "Train F1: 96.76% | Val F1: 89.03%\n"
     ]
    },
    {
     "name": "stderr",
     "output_type": "stream",
     "text": [
      "Epoch 10 Training: 100%|██████████████████████████████████████████████████████████| 1491/1491 [00:05<00:00, 276.09it/s]\n",
      "Epoch 10 Validation: 100%|█████████████████████████████████████████████████████| 11921/11921 [00:06<00:00, 1764.22it/s]\n"
     ]
    },
    {
     "name": "stdout",
     "output_type": "stream",
     "text": [
      "\n",
      "Epoch 10/20\n",
      "Train Loss: 0.0881 | Val Loss: 0.4104\n",
      "Train Acc: 97.38% | Val Acc: 88.25%\n",
      "Train F1: 97.38% | Val F1: 88.54%\n",
      "Train F1: 97.38% | Val F1: 88.25%\n",
      "Train F1: 97.38% | Val F1: 88.28%\n"
     ]
    },
    {
     "name": "stderr",
     "output_type": "stream",
     "text": [
      "Epoch 11 Training: 100%|██████████████████████████████████████████████████████████| 1491/1491 [00:05<00:00, 282.95it/s]\n",
      "Epoch 11 Validation: 100%|█████████████████████████████████████████████████████| 11921/11921 [00:07<00:00, 1630.21it/s]"
     ]
    },
    {
     "name": "stdout",
     "output_type": "stream",
     "text": [
      "\n",
      "Epoch 11/20\n",
      "Train Loss: 0.0703 | Val Loss: 0.4422\n",
      "Train Acc: 97.84% | Val Acc: 88.21%\n",
      "Train F1: 97.84% | Val F1: 88.22%\n",
      "Train F1: 97.84% | Val F1: 88.21%\n",
      "Train F1: 97.84% | Val F1: 88.21%\n",
      "\n",
      "Early stopping triggered after 11 epochs!\n",
      "\n",
      "Training completed. Best Validation F1: 89.45%\n"
     ]
    },
    {
     "name": "stderr",
     "output_type": "stream",
     "text": [
      "\n"
     ]
    }
   ],
   "source": [
    "ann_model = URLClassifierANN(len(vocab), len(numerical_columns), num_classes)\n",
    "optimizer = torch.optim.Adam(ann_model.parameters(), lr=0.0009)\n",
    "criterion = torch.nn.CrossEntropyLoss()\n",
    "\n",
    "ann_model.to(DEVICE)\n",
    "\n",
    "# Train the model\n",
    "metrics = train_model(\n",
    "    model=ann_model,\n",
    "    train_loader=train_loader,\n",
    "    val_loader=test_dataset,\n",
    "    optimizer=optimizer,\n",
    "    criterion=criterion,\n",
    "    device=DEVICE,\n",
    "    epochs=20,\n",
    "    early_stop_patience=5,\n",
    "    best_checkpoint_path=\"./Models/best_ann.pth\",\n",
    ")"
   ]
  },
  {
   "cell_type": "code",
   "execution_count": 14,
   "id": "38dd4cdb-3e3b-4325-953f-096847ef9c5b",
   "metadata": {
    "scrolled": true
   },
   "outputs": [
    {
     "data": {
      "image/png": "[encoded data removed]",
      "text/plain": [
       "<Figure size 640x480 with 1 Axes>"
      ]
     },
     "metadata": {},
     "output_type": "display_data"
    },
    {
     "data": {
      "image/png": "[encoded data removed]",
      "text/plain": [
       "<Figure size 640x480 with 1 Axes>"
      ]
     },
     "metadata": {},
     "output_type": "display_data"
    }
   ],
   "source": [
    "plt.plot(metrics['train_loss'], label='Train Loss')\n",
    "plt.plot(metrics['val_loss'], label='Val Loss')\n",
    "plt.xlabel('Epochs')\n",
    "plt.ylabel('Loss')\n",
    "plt.legend()\n",
    "plt.show()\n",
    "\n",
    "plt.plot(metrics['train_acc'], label='Train Accuracy')\n",
    "plt.plot(metrics['val_acc'], label='Val Accuracy')\n",
    "plt.xlabel('Epochs')\n",
    "plt.ylabel('Loss')\n",
    "plt.legend()\n",
    "plt.show()"
   ]
  },
  {
   "cell_type": "code",
   "execution_count": 15,
   "id": "d3ce49dd-9ae8-4afd-a038-d5e50a9c5e48",
   "metadata": {
    "scrolled": true
   },
   "outputs": [
    {
     "name": "stderr",
     "output_type": "stream",
     "text": [
      "Epoch 1 Training: 100%|███████████████████████████████████████████████████████████| 1491/1491 [00:06<00:00, 225.02it/s]\n",
      "Epoch 1 Validation: 100%|██████████████████████████████████████████████████████| 11921/11921 [00:10<00:00, 1156.86it/s]\n"
     ]
    },
    {
     "name": "stdout",
     "output_type": "stream",
     "text": [
      "\n",
      "Epoch 1/20\n",
      "Train Loss: 0.8435 | Val Loss: 0.5058\n",
      "Train Acc: 72.51% | Val Acc: 83.62%\n",
      "Train F1: 72.00% | Val F1: 83.75%\n",
      "Train F1: 72.51% | Val F1: 83.62%\n",
      "Train F1: 71.80% | Val F1: 83.26%\n",
      "New best model saved with Val F1: 83.26%\n"
     ]
    },
    {
     "name": "stderr",
     "output_type": "stream",
     "text": [
      "Epoch 2 Training: 100%|███████████████████████████████████████████████████████████| 1491/1491 [00:06<00:00, 233.48it/s]\n",
      "Epoch 2 Validation: 100%|██████████████████████████████████████████████████████| 11921/11921 [00:10<00:00, 1140.27it/s]\n"
     ]
    },
    {
     "name": "stdout",
     "output_type": "stream",
     "text": [
      "\n",
      "Epoch 2/20\n",
      "Train Loss: 0.5605 | Val Loss: 0.3943\n",
      "Train Acc: 81.85% | Val Acc: 85.73%\n",
      "Train F1: 81.62% | Val F1: 85.70%\n",
      "Train F1: 81.85% | Val F1: 85.73%\n",
      "Train F1: 81.49% | Val F1: 85.47%\n",
      "New best model saved with Val F1: 85.47%\n"
     ]
    },
    {
     "name": "stderr",
     "output_type": "stream",
     "text": [
      "Epoch 3 Training: 100%|███████████████████████████████████████████████████████████| 1491/1491 [00:06<00:00, 240.89it/s]\n",
      "Epoch 3 Validation: 100%|██████████████████████████████████████████████████████| 11921/11921 [00:11<00:00, 1054.26it/s]\n"
     ]
    },
    {
     "name": "stdout",
     "output_type": "stream",
     "text": [
      "\n",
      "Epoch 3/20\n",
      "Train Loss: 0.4831 | Val Loss: 0.3558\n",
      "Train Acc: 83.04% | Val Acc: 86.07%\n",
      "Train F1: 82.77% | Val F1: 86.05%\n",
      "Train F1: 83.04% | Val F1: 86.07%\n",
      "Train F1: 82.75% | Val F1: 85.82%\n",
      "New best model saved with Val F1: 85.82%\n"
     ]
    },
    {
     "name": "stderr",
     "output_type": "stream",
     "text": [
      "Epoch 4 Training: 100%|███████████████████████████████████████████████████████████| 1491/1491 [00:06<00:00, 218.67it/s]\n",
      "Epoch 4 Validation: 100%|██████████████████████████████████████████████████████| 11921/11921 [00:11<00:00, 1075.60it/s]\n"
     ]
    },
    {
     "name": "stdout",
     "output_type": "stream",
     "text": [
      "\n",
      "Epoch 4/20\n",
      "Train Loss: 0.4385 | Val Loss: 0.3269\n",
      "Train Acc: 84.37% | Val Acc: 87.24%\n",
      "Train F1: 84.15% | Val F1: 87.14%\n",
      "Train F1: 84.37% | Val F1: 87.24%\n",
      "Train F1: 84.14% | Val F1: 87.04%\n",
      "New best model saved with Val F1: 87.04%\n"
     ]
    },
    {
     "name": "stderr",
     "output_type": "stream",
     "text": [
      "Epoch 5 Training: 100%|███████████████████████████████████████████████████████████| 1491/1491 [00:06<00:00, 230.98it/s]\n",
      "Epoch 5 Validation: 100%|██████████████████████████████████████████████████████| 11921/11921 [00:09<00:00, 1283.31it/s]\n"
     ]
    },
    {
     "name": "stdout",
     "output_type": "stream",
     "text": [
      "\n",
      "Epoch 5/20\n",
      "Train Loss: 0.4141 | Val Loss: 0.3141\n",
      "Train Acc: 85.15% | Val Acc: 88.08%\n",
      "Train F1: 84.98% | Val F1: 88.19%\n",
      "Train F1: 85.15% | Val F1: 88.08%\n",
      "Train F1: 84.97% | Val F1: 88.03%\n",
      "New best model saved with Val F1: 88.03%\n"
     ]
    },
    {
     "name": "stderr",
     "output_type": "stream",
     "text": [
      "Epoch 6 Training: 100%|███████████████████████████████████████████████████████████| 1491/1491 [00:07<00:00, 209.31it/s]\n",
      "Epoch 6 Validation: 100%|██████████████████████████████████████████████████████| 11921/11921 [00:09<00:00, 1232.64it/s]\n"
     ]
    },
    {
     "name": "stdout",
     "output_type": "stream",
     "text": [
      "\n",
      "Epoch 6/20\n",
      "Train Loss: 0.3896 | Val Loss: 0.2986\n",
      "Train Acc: 85.77% | Val Acc: 88.56%\n",
      "Train F1: 85.65% | Val F1: 88.59%\n",
      "Train F1: 85.77% | Val F1: 88.56%\n",
      "Train F1: 85.64% | Val F1: 88.47%\n",
      "New best model saved with Val F1: 88.47%\n"
     ]
    },
    {
     "name": "stderr",
     "output_type": "stream",
     "text": [
      "Epoch 7 Training: 100%|███████████████████████████████████████████████████████████| 1491/1491 [00:06<00:00, 225.81it/s]\n",
      "Epoch 7 Validation: 100%|██████████████████████████████████████████████████████| 11921/11921 [00:10<00:00, 1085.85it/s]\n"
     ]
    },
    {
     "name": "stdout",
     "output_type": "stream",
     "text": [
      "\n",
      "Epoch 7/20\n",
      "Train Loss: 0.3747 | Val Loss: 0.2922\n",
      "Train Acc: 86.46% | Val Acc: 89.06%\n",
      "Train F1: 86.37% | Val F1: 89.10%\n",
      "Train F1: 86.46% | Val F1: 89.06%\n",
      "Train F1: 86.36% | Val F1: 88.98%\n",
      "New best model saved with Val F1: 88.98%\n"
     ]
    },
    {
     "name": "stderr",
     "output_type": "stream",
     "text": [
      "Epoch 8 Training: 100%|███████████████████████████████████████████████████████████| 1491/1491 [00:06<00:00, 230.42it/s]\n",
      "Epoch 8 Validation: 100%|██████████████████████████████████████████████████████| 11921/11921 [00:10<00:00, 1085.07it/s]\n"
     ]
    },
    {
     "name": "stdout",
     "output_type": "stream",
     "text": [
      "\n",
      "Epoch 8/20\n",
      "Train Loss: 0.3601 | Val Loss: 0.2811\n",
      "Train Acc: 86.78% | Val Acc: 89.30%\n",
      "Train F1: 86.69% | Val F1: 89.39%\n",
      "Train F1: 86.78% | Val F1: 89.30%\n",
      "Train F1: 86.69% | Val F1: 89.28%\n",
      "New best model saved with Val F1: 89.28%\n"
     ]
    },
    {
     "name": "stderr",
     "output_type": "stream",
     "text": [
      "Epoch 9 Training: 100%|███████████████████████████████████████████████████████████| 1491/1491 [00:06<00:00, 246.97it/s]\n",
      "Epoch 9 Validation: 100%|██████████████████████████████████████████████████████| 11921/11921 [00:09<00:00, 1258.25it/s]\n"
     ]
    },
    {
     "name": "stdout",
     "output_type": "stream",
     "text": [
      "\n",
      "Epoch 9/20\n",
      "Train Loss: 0.3520 | Val Loss: 0.2759\n",
      "Train Acc: 87.13% | Val Acc: 89.31%\n",
      "Train F1: 87.10% | Val F1: 89.46%\n",
      "Train F1: 87.13% | Val F1: 89.31%\n",
      "Train F1: 87.08% | Val F1: 89.28%\n",
      "New best model saved with Val F1: 89.28%\n"
     ]
    },
    {
     "name": "stderr",
     "output_type": "stream",
     "text": [
      "Epoch 10 Training: 100%|██████████████████████████████████████████████████████████| 1491/1491 [00:06<00:00, 220.14it/s]\n",
      "Epoch 10 Validation: 100%|█████████████████████████████████████████████████████| 11921/11921 [00:09<00:00, 1259.91it/s]\n"
     ]
    },
    {
     "name": "stdout",
     "output_type": "stream",
     "text": [
      "\n",
      "Epoch 10/20\n",
      "Train Loss: 0.3364 | Val Loss: 0.2653\n",
      "Train Acc: 87.64% | Val Acc: 89.76%\n",
      "Train F1: 87.61% | Val F1: 89.81%\n",
      "Train F1: 87.64% | Val F1: 89.76%\n",
      "Train F1: 87.60% | Val F1: 89.74%\n",
      "New best model saved with Val F1: 89.74%\n"
     ]
    },
    {
     "name": "stderr",
     "output_type": "stream",
     "text": [
      "Epoch 11 Training: 100%|██████████████████████████████████████████████████████████| 1491/1491 [00:06<00:00, 214.98it/s]\n",
      "Epoch 11 Validation: 100%|█████████████████████████████████████████████████████| 11921/11921 [00:10<00:00, 1115.33it/s]\n"
     ]
    },
    {
     "name": "stdout",
     "output_type": "stream",
     "text": [
      "\n",
      "Epoch 11/20\n",
      "Train Loss: 0.3279 | Val Loss: 0.2604\n",
      "Train Acc: 87.86% | Val Acc: 89.92%\n",
      "Train F1: 87.84% | Val F1: 90.06%\n",
      "Train F1: 87.86% | Val F1: 89.92%\n",
      "Train F1: 87.83% | Val F1: 89.92%\n",
      "New best model saved with Val F1: 89.92%\n"
     ]
    },
    {
     "name": "stderr",
     "output_type": "stream",
     "text": [
      "Epoch 12 Training: 100%|██████████████████████████████████████████████████████████| 1491/1491 [00:07<00:00, 210.86it/s]\n",
      "Epoch 12 Validation: 100%|█████████████████████████████████████████████████████| 11921/11921 [00:10<00:00, 1099.88it/s]\n"
     ]
    },
    {
     "name": "stdout",
     "output_type": "stream",
     "text": [
      "\n",
      "Epoch 12/20\n",
      "Train Loss: 0.3188 | Val Loss: 0.2573\n",
      "Train Acc: 88.20% | Val Acc: 90.09%\n",
      "Train F1: 88.20% | Val F1: 90.20%\n",
      "Train F1: 88.20% | Val F1: 90.09%\n",
      "Train F1: 88.17% | Val F1: 90.09%\n",
      "New best model saved with Val F1: 90.09%\n"
     ]
    },
    {
     "name": "stderr",
     "output_type": "stream",
     "text": [
      "Epoch 13 Training: 100%|██████████████████████████████████████████████████████████| 1491/1491 [00:06<00:00, 216.45it/s]\n",
      "Epoch 13 Validation: 100%|█████████████████████████████████████████████████████| 11921/11921 [00:10<00:00, 1085.86it/s]\n"
     ]
    },
    {
     "name": "stdout",
     "output_type": "stream",
     "text": [
      "\n",
      "Epoch 13/20\n",
      "Train Loss: 0.3079 | Val Loss: 0.2533\n",
      "Train Acc: 88.44% | Val Acc: 90.19%\n",
      "Train F1: 88.44% | Val F1: 90.42%\n",
      "Train F1: 88.44% | Val F1: 90.19%\n",
      "Train F1: 88.42% | Val F1: 90.21%\n",
      "New best model saved with Val F1: 90.21%\n"
     ]
    },
    {
     "name": "stderr",
     "output_type": "stream",
     "text": [
      "Epoch 14 Training: 100%|██████████████████████████████████████████████████████████| 1491/1491 [00:06<00:00, 228.23it/s]\n",
      "Epoch 14 Validation: 100%|█████████████████████████████████████████████████████| 11921/11921 [00:09<00:00, 1290.04it/s]\n"
     ]
    },
    {
     "name": "stdout",
     "output_type": "stream",
     "text": [
      "\n",
      "Epoch 14/20\n",
      "Train Loss: 0.3013 | Val Loss: 0.2463\n",
      "Train Acc: 88.89% | Val Acc: 90.37%\n",
      "Train F1: 88.89% | Val F1: 90.47%\n",
      "Train F1: 88.89% | Val F1: 90.37%\n",
      "Train F1: 88.87% | Val F1: 90.37%\n",
      "New best model saved with Val F1: 90.37%\n"
     ]
    },
    {
     "name": "stderr",
     "output_type": "stream",
     "text": [
      "Epoch 15 Training: 100%|██████████████████████████████████████████████████████████| 1491/1491 [00:06<00:00, 240.37it/s]\n",
      "Epoch 15 Validation: 100%|█████████████████████████████████████████████████████| 11921/11921 [00:09<00:00, 1269.50it/s]\n"
     ]
    },
    {
     "name": "stdout",
     "output_type": "stream",
     "text": [
      "\n",
      "Epoch 15/20\n",
      "Train Loss: 0.2984 | Val Loss: 0.2444\n",
      "Train Acc: 88.85% | Val Acc: 90.50%\n",
      "Train F1: 88.88% | Val F1: 90.69%\n",
      "Train F1: 88.85% | Val F1: 90.50%\n",
      "Train F1: 88.84% | Val F1: 90.54%\n",
      "New best model saved with Val F1: 90.54%\n"
     ]
    },
    {
     "name": "stderr",
     "output_type": "stream",
     "text": [
      "Epoch 16 Training: 100%|██████████████████████████████████████████████████████████| 1491/1491 [00:06<00:00, 234.54it/s]\n",
      "Epoch 16 Validation: 100%|█████████████████████████████████████████████████████| 11921/11921 [00:09<00:00, 1248.70it/s]\n"
     ]
    },
    {
     "name": "stdout",
     "output_type": "stream",
     "text": [
      "\n",
      "Epoch 16/20\n",
      "Train Loss: 0.2877 | Val Loss: 0.2427\n",
      "Train Acc: 89.28% | Val Acc: 90.49%\n",
      "Train F1: 89.32% | Val F1: 90.79%\n",
      "Train F1: 89.28% | Val F1: 90.49%\n",
      "Train F1: 89.28% | Val F1: 90.59%\n",
      "New best model saved with Val F1: 90.59%\n"
     ]
    },
    {
     "name": "stderr",
     "output_type": "stream",
     "text": [
      "Epoch 17 Training: 100%|██████████████████████████████████████████████████████████| 1491/1491 [00:06<00:00, 233.42it/s]\n",
      "Epoch 17 Validation: 100%|█████████████████████████████████████████████████████| 11921/11921 [00:09<00:00, 1258.28it/s]\n"
     ]
    },
    {
     "name": "stdout",
     "output_type": "stream",
     "text": [
      "\n",
      "Epoch 17/20\n",
      "Train Loss: 0.2766 | Val Loss: 0.2386\n",
      "Train Acc: 89.74% | Val Acc: 90.68%\n",
      "Train F1: 89.80% | Val F1: 90.86%\n",
      "Train F1: 89.74% | Val F1: 90.68%\n",
      "Train F1: 89.75% | Val F1: 90.73%\n",
      "New best model saved with Val F1: 90.73%\n"
     ]
    },
    {
     "name": "stderr",
     "output_type": "stream",
     "text": [
      "Epoch 18 Training: 100%|██████████████████████████████████████████████████████████| 1491/1491 [00:06<00:00, 214.38it/s]\n",
      "Epoch 18 Validation: 100%|█████████████████████████████████████████████████████| 11921/11921 [00:09<00:00, 1283.13it/s]\n"
     ]
    },
    {
     "name": "stdout",
     "output_type": "stream",
     "text": [
      "\n",
      "Epoch 18/20\n",
      "Train Loss: 0.2781 | Val Loss: 0.2379\n",
      "Train Acc: 89.64% | Val Acc: 90.74%\n",
      "Train F1: 89.70% | Val F1: 90.85%\n",
      "Train F1: 89.64% | Val F1: 90.74%\n",
      "Train F1: 89.65% | Val F1: 90.76%\n",
      "New best model saved with Val F1: 90.76%\n"
     ]
    },
    {
     "name": "stderr",
     "output_type": "stream",
     "text": [
      "Epoch 19 Training: 100%|██████████████████████████████████████████████████████████| 1491/1491 [00:06<00:00, 229.59it/s]\n",
      "Epoch 19 Validation: 100%|█████████████████████████████████████████████████████| 11921/11921 [00:09<00:00, 1285.69it/s]\n"
     ]
    },
    {
     "name": "stdout",
     "output_type": "stream",
     "text": [
      "\n",
      "Epoch 19/20\n",
      "Train Loss: 0.2697 | Val Loss: 0.2350\n",
      "Train Acc: 89.92% | Val Acc: 90.78%\n",
      "Train F1: 89.97% | Val F1: 90.88%\n",
      "Train F1: 89.92% | Val F1: 90.78%\n",
      "Train F1: 89.92% | Val F1: 90.79%\n",
      "New best model saved with Val F1: 90.79%\n"
     ]
    },
    {
     "name": "stderr",
     "output_type": "stream",
     "text": [
      "Epoch 20 Training: 100%|██████████████████████████████████████████████████████████| 1491/1491 [00:06<00:00, 226.95it/s]\n",
      "Epoch 20 Validation: 100%|█████████████████████████████████████████████████████| 11921/11921 [00:09<00:00, 1228.66it/s]\n"
     ]
    },
    {
     "name": "stdout",
     "output_type": "stream",
     "text": [
      "\n",
      "Epoch 20/20\n",
      "Train Loss: 0.2615 | Val Loss: 0.2361\n",
      "Train Acc: 90.26% | Val Acc: 90.84%\n",
      "Train F1: 90.32% | Val F1: 91.01%\n",
      "Train F1: 90.26% | Val F1: 90.84%\n",
      "Train F1: 90.27% | Val F1: 90.89%\n",
      "New best model saved with Val F1: 90.89%\n",
      "\n",
      "Training completed. Best Validation F1: 90.89%\n"
     ]
    }
   ],
   "source": [
    "cnn_model = URLClassifierCNN(len(vocab), len(numerical_columns), num_classes)\n",
    "optimizer = torch.optim.Adam(cnn_model.parameters(), lr=0.0001)\n",
    "criterion = torch.nn.CrossEntropyLoss()\n",
    "\n",
    "cnn_model.to(DEVICE)\n",
    "\n",
    "# Train the model\n",
    "metrics = train_model(\n",
    "    model=cnn_model,\n",
    "    train_loader=train_loader,\n",
    "    val_loader=test_dataset,\n",
    "    optimizer=optimizer,\n",
    "    criterion=criterion,\n",
    "    device=DEVICE,\n",
    "    epochs=20,\n",
    "    early_stop_patience=5,\n",
    "    best_checkpoint_path=\"./Models/best_cnn.pth\",\n",
    ")"
   ]
  },
  {
   "cell_type": "code",
   "execution_count": 16,
   "id": "ec2362f5-e2e3-401e-b3f7-679a7f511953",
   "metadata": {
    "scrolled": true
   },
   "outputs": [
    {
     "data": {
      "image/png": "[encoded data removed]",
      "text/plain": [
       "<Figure size 640x480 with 1 Axes>"
      ]
     },
     "metadata": {},
     "output_type": "display_data"
    },
    {
     "data": {
      "image/png": "[encoded data removed]",
      "text/plain": [
       "<Figure size 640x480 with 1 Axes>"
      ]
     },
     "metadata": {},
     "output_type": "display_data"
    }
   ],
   "source": [
    "plt.plot(metrics['train_loss'], label='Train Loss')\n",
    "plt.plot(metrics['val_loss'], label='Val Loss')\n",
    "plt.xlabel('Epochs')\n",
    "plt.ylabel('Loss')\n",
    "plt.legend()\n",
    "plt.show()\n",
    "\n",
    "plt.plot(metrics['train_acc'], label='Train Accuracy')\n",
    "plt.plot(metrics['val_acc'], label='Val Accuracy')\n",
    "plt.xlabel('Epochs')\n",
    "plt.ylabel('Loss')\n",
    "plt.legend()\n",
    "plt.show()"
   ]
  },
  {
   "cell_type": "code",
   "execution_count": 17,
   "id": "5acfc82e-afc9-4488-99a7-06da4b728ebc",
   "metadata": {
    "scrolled": true
   },
   "outputs": [
    {
     "name": "stderr",
     "output_type": "stream",
     "text": [
      "C:\\Users\\syeda\\miniconda3\\Lib\\site-packages\\torch\\nn\\modules\\rnn.py:123: UserWarning: dropout option adds dropout after all but last recurrent layer, so non-zero dropout expects num_layers greater than 1, but got dropout=0.3 and num_layers=1\n",
      "  warnings.warn(\n",
      "Epoch 1 Training: 100%|███████████████████████████████████████████████████████████| 1491/1491 [00:06<00:00, 219.34it/s]\n",
      "Epoch 1 Validation: 100%|██████████████████████████████████████████████████████| 11921/11921 [00:10<00:00, 1165.93it/s]\n"
     ]
    },
    {
     "name": "stdout",
     "output_type": "stream",
     "text": [
      "\n",
      "Epoch 1/20\n",
      "Train Loss: 1.0004 | Val Loss: 0.5395\n",
      "Train Acc: 61.45% | Val Acc: 81.29%\n",
      "Train F1: 61.79% | Val F1: 81.14%\n",
      "Train F1: 61.45% | Val F1: 81.29%\n",
      "Train F1: 61.33% | Val F1: 80.93%\n",
      "New best model saved with Val F1: 80.93%\n"
     ]
    },
    {
     "name": "stderr",
     "output_type": "stream",
     "text": [
      "Epoch 2 Training: 100%|███████████████████████████████████████████████████████████| 1491/1491 [00:06<00:00, 223.90it/s]\n",
      "Epoch 2 Validation: 100%|██████████████████████████████████████████████████████| 11921/11921 [00:08<00:00, 1425.34it/s]\n"
     ]
    },
    {
     "name": "stdout",
     "output_type": "stream",
     "text": [
      "\n",
      "Epoch 2/20\n",
      "Train Loss: 0.5250 | Val Loss: 0.4143\n",
      "Train Acc: 82.10% | Val Acc: 84.38%\n",
      "Train F1: 82.14% | Val F1: 84.62%\n",
      "Train F1: 82.10% | Val F1: 84.38%\n",
      "Train F1: 81.83% | Val F1: 84.08%\n",
      "New best model saved with Val F1: 84.08%\n"
     ]
    },
    {
     "name": "stderr",
     "output_type": "stream",
     "text": [
      "Epoch 3 Training: 100%|███████████████████████████████████████████████████████████| 1491/1491 [00:06<00:00, 217.35it/s]\n",
      "Epoch 3 Validation: 100%|██████████████████████████████████████████████████████| 11921/11921 [00:08<00:00, 1468.44it/s]\n"
     ]
    },
    {
     "name": "stdout",
     "output_type": "stream",
     "text": [
      "\n",
      "Epoch 3/20\n",
      "Train Loss: 0.4312 | Val Loss: 0.3756\n",
      "Train Acc: 84.83% | Val Acc: 85.88%\n",
      "Train F1: 84.76% | Val F1: 86.35%\n",
      "Train F1: 84.83% | Val F1: 85.88%\n",
      "Train F1: 84.67% | Val F1: 85.95%\n",
      "New best model saved with Val F1: 85.95%\n"
     ]
    },
    {
     "name": "stderr",
     "output_type": "stream",
     "text": [
      "Epoch 4 Training: 100%|███████████████████████████████████████████████████████████| 1491/1491 [00:07<00:00, 188.62it/s]\n",
      "Epoch 4 Validation: 100%|██████████████████████████████████████████████████████| 11921/11921 [00:08<00:00, 1437.52it/s]\n"
     ]
    },
    {
     "name": "stdout",
     "output_type": "stream",
     "text": [
      "\n",
      "Epoch 4/20\n",
      "Train Loss: 0.3799 | Val Loss: 0.3402\n",
      "Train Acc: 86.57% | Val Acc: 86.86%\n",
      "Train F1: 86.54% | Val F1: 87.11%\n",
      "Train F1: 86.57% | Val F1: 86.86%\n",
      "Train F1: 86.49% | Val F1: 86.90%\n",
      "New best model saved with Val F1: 86.90%\n"
     ]
    },
    {
     "name": "stderr",
     "output_type": "stream",
     "text": [
      "Epoch 5 Training: 100%|███████████████████████████████████████████████████████████| 1491/1491 [00:06<00:00, 218.54it/s]\n",
      "Epoch 5 Validation: 100%|██████████████████████████████████████████████████████| 11921/11921 [00:08<00:00, 1410.45it/s]\n"
     ]
    },
    {
     "name": "stdout",
     "output_type": "stream",
     "text": [
      "\n",
      "Epoch 5/20\n",
      "Train Loss: 0.3484 | Val Loss: 0.3241\n",
      "Train Acc: 87.60% | Val Acc: 87.48%\n",
      "Train F1: 87.62% | Val F1: 87.55%\n",
      "Train F1: 87.60% | Val F1: 87.48%\n",
      "Train F1: 87.57% | Val F1: 87.42%\n",
      "New best model saved with Val F1: 87.42%\n"
     ]
    },
    {
     "name": "stderr",
     "output_type": "stream",
     "text": [
      "Epoch 6 Training: 100%|███████████████████████████████████████████████████████████| 1491/1491 [00:06<00:00, 223.81it/s]\n",
      "Epoch 6 Validation: 100%|██████████████████████████████████████████████████████| 11921/11921 [00:08<00:00, 1376.90it/s]\n"
     ]
    },
    {
     "name": "stdout",
     "output_type": "stream",
     "text": [
      "\n",
      "Epoch 6/20\n",
      "Train Loss: 0.3285 | Val Loss: 0.3078\n",
      "Train Acc: 88.05% | Val Acc: 87.96%\n",
      "Train F1: 88.09% | Val F1: 88.07%\n",
      "Train F1: 88.05% | Val F1: 87.96%\n",
      "Train F1: 88.04% | Val F1: 87.95%\n",
      "New best model saved with Val F1: 87.95%\n"
     ]
    },
    {
     "name": "stderr",
     "output_type": "stream",
     "text": [
      "Epoch 7 Training: 100%|███████████████████████████████████████████████████████████| 1491/1491 [00:06<00:00, 213.78it/s]\n",
      "Epoch 7 Validation: 100%|██████████████████████████████████████████████████████| 11921/11921 [00:09<00:00, 1317.95it/s]\n"
     ]
    },
    {
     "name": "stdout",
     "output_type": "stream",
     "text": [
      "\n",
      "Epoch 7/20\n",
      "Train Loss: 0.3092 | Val Loss: 0.3008\n",
      "Train Acc: 88.75% | Val Acc: 88.08%\n",
      "Train F1: 88.80% | Val F1: 88.12%\n",
      "Train F1: 88.75% | Val F1: 88.08%\n",
      "Train F1: 88.75% | Val F1: 88.02%\n",
      "New best model saved with Val F1: 88.02%\n"
     ]
    },
    {
     "name": "stderr",
     "output_type": "stream",
     "text": [
      "Epoch 8 Training: 100%|███████████████████████████████████████████████████████████| 1491/1491 [00:06<00:00, 223.77it/s]\n",
      "Epoch 8 Validation: 100%|██████████████████████████████████████████████████████| 11921/11921 [00:09<00:00, 1216.34it/s]\n"
     ]
    },
    {
     "name": "stdout",
     "output_type": "stream",
     "text": [
      "\n",
      "Epoch 8/20\n",
      "Train Loss: 0.2958 | Val Loss: 0.2958\n",
      "Train Acc: 89.27% | Val Acc: 88.37%\n",
      "Train F1: 89.31% | Val F1: 88.45%\n",
      "Train F1: 89.27% | Val F1: 88.37%\n",
      "Train F1: 89.26% | Val F1: 88.40%\n",
      "New best model saved with Val F1: 88.40%\n"
     ]
    },
    {
     "name": "stderr",
     "output_type": "stream",
     "text": [
      "Epoch 9 Training: 100%|███████████████████████████████████████████████████████████| 1491/1491 [00:07<00:00, 198.27it/s]\n",
      "Epoch 9 Validation: 100%|██████████████████████████████████████████████████████| 11921/11921 [00:09<00:00, 1319.21it/s]\n"
     ]
    },
    {
     "name": "stdout",
     "output_type": "stream",
     "text": [
      "\n",
      "Epoch 9/20\n",
      "Train Loss: 0.2806 | Val Loss: 0.2905\n",
      "Train Acc: 89.76% | Val Acc: 88.88%\n",
      "Train F1: 89.81% | Val F1: 89.07%\n",
      "Train F1: 89.76% | Val F1: 88.88%\n",
      "Train F1: 89.77% | Val F1: 88.89%\n",
      "New best model saved with Val F1: 88.89%\n"
     ]
    },
    {
     "name": "stderr",
     "output_type": "stream",
     "text": [
      "Epoch 10 Training: 100%|██████████████████████████████████████████████████████████| 1491/1491 [00:06<00:00, 229.53it/s]\n",
      "Epoch 10 Validation: 100%|█████████████████████████████████████████████████████| 11921/11921 [00:11<00:00, 1049.35it/s]\n"
     ]
    },
    {
     "name": "stdout",
     "output_type": "stream",
     "text": [
      "\n",
      "Epoch 10/20\n",
      "Train Loss: 0.2654 | Val Loss: 0.2754\n",
      "Train Acc: 90.35% | Val Acc: 89.41%\n",
      "Train F1: 90.42% | Val F1: 89.52%\n",
      "Train F1: 90.35% | Val F1: 89.41%\n",
      "Train F1: 90.37% | Val F1: 89.44%\n",
      "New best model saved with Val F1: 89.44%\n"
     ]
    },
    {
     "name": "stderr",
     "output_type": "stream",
     "text": [
      "Epoch 11 Training: 100%|██████████████████████████████████████████████████████████| 1491/1491 [00:06<00:00, 219.18it/s]\n",
      "Epoch 11 Validation: 100%|█████████████████████████████████████████████████████| 11921/11921 [00:11<00:00, 1072.90it/s]\n"
     ]
    },
    {
     "name": "stdout",
     "output_type": "stream",
     "text": [
      "\n",
      "Epoch 11/20\n",
      "Train Loss: 0.2552 | Val Loss: 0.2699\n",
      "Train Acc: 90.77% | Val Acc: 89.51%\n",
      "Train F1: 90.85% | Val F1: 89.60%\n",
      "Train F1: 90.77% | Val F1: 89.51%\n",
      "Train F1: 90.79% | Val F1: 89.54%\n",
      "New best model saved with Val F1: 89.54%\n"
     ]
    },
    {
     "name": "stderr",
     "output_type": "stream",
     "text": [
      "Epoch 12 Training: 100%|██████████████████████████████████████████████████████████| 1491/1491 [00:07<00:00, 206.45it/s]\n",
      "Epoch 12 Validation: 100%|█████████████████████████████████████████████████████| 11921/11921 [00:10<00:00, 1175.50it/s]\n"
     ]
    },
    {
     "name": "stdout",
     "output_type": "stream",
     "text": [
      "\n",
      "Epoch 12/20\n",
      "Train Loss: 0.2435 | Val Loss: 0.2826\n",
      "Train Acc: 91.19% | Val Acc: 88.63%\n",
      "Train F1: 91.25% | Val F1: 89.10%\n",
      "Train F1: 91.19% | Val F1: 88.63%\n",
      "Train F1: 91.20% | Val F1: 88.78%\n"
     ]
    },
    {
     "name": "stderr",
     "output_type": "stream",
     "text": [
      "Epoch 13 Training: 100%|██████████████████████████████████████████████████████████| 1491/1491 [00:07<00:00, 197.13it/s]\n",
      "Epoch 13 Validation: 100%|█████████████████████████████████████████████████████| 11921/11921 [00:09<00:00, 1251.13it/s]\n"
     ]
    },
    {
     "name": "stdout",
     "output_type": "stream",
     "text": [
      "\n",
      "Epoch 13/20\n",
      "Train Loss: 0.2340 | Val Loss: 0.2675\n",
      "Train Acc: 91.66% | Val Acc: 89.71%\n",
      "Train F1: 91.73% | Val F1: 89.66%\n",
      "Train F1: 91.66% | Val F1: 89.71%\n",
      "Train F1: 91.68% | Val F1: 89.64%\n",
      "New best model saved with Val F1: 89.64%\n"
     ]
    },
    {
     "name": "stderr",
     "output_type": "stream",
     "text": [
      "Epoch 14 Training: 100%|██████████████████████████████████████████████████████████| 1491/1491 [00:06<00:00, 218.72it/s]\n",
      "Epoch 14 Validation: 100%|█████████████████████████████████████████████████████| 11921/11921 [00:11<00:00, 1007.30it/s]\n"
     ]
    },
    {
     "name": "stdout",
     "output_type": "stream",
     "text": [
      "\n",
      "Epoch 14/20\n",
      "Train Loss: 0.2232 | Val Loss: 0.2673\n",
      "Train Acc: 92.05% | Val Acc: 89.57%\n",
      "Train F1: 92.11% | Val F1: 89.73%\n",
      "Train F1: 92.05% | Val F1: 89.57%\n",
      "Train F1: 92.06% | Val F1: 89.60%\n"
     ]
    },
    {
     "name": "stderr",
     "output_type": "stream",
     "text": [
      "Epoch 15 Training: 100%|██████████████████████████████████████████████████████████| 1491/1491 [00:06<00:00, 213.15it/s]\n",
      "Epoch 15 Validation: 100%|██████████████████████████████████████████████████████| 11921/11921 [00:11<00:00, 996.73it/s]\n"
     ]
    },
    {
     "name": "stdout",
     "output_type": "stream",
     "text": [
      "\n",
      "Epoch 15/20\n",
      "Train Loss: 0.2121 | Val Loss: 0.2719\n",
      "Train Acc: 92.33% | Val Acc: 89.61%\n",
      "Train F1: 92.39% | Val F1: 90.06%\n",
      "Train F1: 92.33% | Val F1: 89.61%\n",
      "Train F1: 92.34% | Val F1: 89.67%\n",
      "New best model saved with Val F1: 89.67%\n"
     ]
    },
    {
     "name": "stderr",
     "output_type": "stream",
     "text": [
      "Epoch 16 Training: 100%|██████████████████████████████████████████████████████████| 1491/1491 [00:07<00:00, 192.38it/s]\n",
      "Epoch 16 Validation: 100%|█████████████████████████████████████████████████████| 11921/11921 [00:08<00:00, 1404.10it/s]\n"
     ]
    },
    {
     "name": "stdout",
     "output_type": "stream",
     "text": [
      "\n",
      "Epoch 16/20\n",
      "Train Loss: 0.2028 | Val Loss: 0.2559\n",
      "Train Acc: 92.71% | Val Acc: 90.33%\n",
      "Train F1: 92.77% | Val F1: 90.37%\n",
      "Train F1: 92.71% | Val F1: 90.33%\n",
      "Train F1: 92.73% | Val F1: 90.33%\n",
      "New best model saved with Val F1: 90.33%\n"
     ]
    },
    {
     "name": "stderr",
     "output_type": "stream",
     "text": [
      "Epoch 17 Training: 100%|██████████████████████████████████████████████████████████| 1491/1491 [00:07<00:00, 206.26it/s]\n",
      "Epoch 17 Validation: 100%|██████████████████████████████████████████████████████| 11921/11921 [00:16<00:00, 742.07it/s]\n"
     ]
    },
    {
     "name": "stdout",
     "output_type": "stream",
     "text": [
      "\n",
      "Epoch 17/20\n",
      "Train Loss: 0.1926 | Val Loss: 0.2631\n",
      "Train Acc: 93.02% | Val Acc: 90.13%\n",
      "Train F1: 93.09% | Val F1: 90.27%\n",
      "Train F1: 93.02% | Val F1: 90.13%\n",
      "Train F1: 93.04% | Val F1: 90.14%\n"
     ]
    },
    {
     "name": "stderr",
     "output_type": "stream",
     "text": [
      "Epoch 18 Training: 100%|███████████████████████████████████████████████████████████| 1491/1491 [00:15<00:00, 95.80it/s]\n",
      "Epoch 18 Validation: 100%|██████████████████████████████████████████████████████| 11921/11921 [00:39<00:00, 302.98it/s]\n"
     ]
    },
    {
     "name": "stdout",
     "output_type": "stream",
     "text": [
      "\n",
      "Epoch 18/20\n",
      "Train Loss: 0.1847 | Val Loss: 0.2615\n",
      "Train Acc: 93.27% | Val Acc: 90.32%\n",
      "Train F1: 93.33% | Val F1: 90.37%\n",
      "Train F1: 93.27% | Val F1: 90.32%\n",
      "Train F1: 93.29% | Val F1: 90.31%\n"
     ]
    },
    {
     "name": "stderr",
     "output_type": "stream",
     "text": [
      "Epoch 19 Training: 100%|███████████████████████████████████████████████████████████| 1491/1491 [00:15<00:00, 95.74it/s]\n",
      "Epoch 19 Validation: 100%|██████████████████████████████████████████████████████| 11921/11921 [00:39<00:00, 302.85it/s]\n"
     ]
    },
    {
     "name": "stdout",
     "output_type": "stream",
     "text": [
      "\n",
      "Epoch 19/20\n",
      "Train Loss: 0.1767 | Val Loss: 0.2659\n",
      "Train Acc: 93.70% | Val Acc: 90.11%\n",
      "Train F1: 93.76% | Val F1: 90.47%\n",
      "Train F1: 93.70% | Val F1: 90.11%\n",
      "Train F1: 93.72% | Val F1: 90.25%\n"
     ]
    },
    {
     "name": "stderr",
     "output_type": "stream",
     "text": [
      "Epoch 20 Training: 100%|███████████████████████████████████████████████████████████| 1491/1491 [00:15<00:00, 95.60it/s]\n",
      "Epoch 20 Validation: 100%|██████████████████████████████████████████████████████| 11921/11921 [00:39<00:00, 302.93it/s]"
     ]
    },
    {
     "name": "stdout",
     "output_type": "stream",
     "text": [
      "\n",
      "Epoch 20/20\n",
      "Train Loss: 0.1664 | Val Loss: 0.2808\n",
      "Train Acc: 94.05% | Val Acc: 89.68%\n",
      "Train F1: 94.11% | Val F1: 90.08%\n",
      "Train F1: 94.05% | Val F1: 89.68%\n",
      "Train F1: 94.07% | Val F1: 89.80%\n",
      "\n",
      "Training completed. Best Validation F1: 90.33%\n"
     ]
    },
    {
     "name": "stderr",
     "output_type": "stream",
     "text": [
      "\n"
     ]
    }
   ],
   "source": [
    "lstm_model = URLClassifierLSTM(len(vocab), len(numerical_columns), num_classes)\n",
    "optimizer = torch.optim.Adam(lstm_model.parameters(), lr=0.0001)\n",
    "criterion = torch.nn.CrossEntropyLoss()\n",
    "\n",
    "lstm_model.to(DEVICE)\n",
    "\n",
    "# Train the model\n",
    "metrics = train_model(\n",
    "    model=lstm_model,\n",
    "    train_loader=train_loader,\n",
    "    val_loader=test_dataset,\n",
    "    optimizer=optimizer,\n",
    "    criterion=criterion,\n",
    "    device=DEVICE,\n",
    "    epochs=20,\n",
    "    early_stop_patience=5,\n",
    "    best_checkpoint_path=\"./Models/best_lstm.pth\",\n",
    ")"
   ]
  },
  {
   "cell_type": "code",
   "execution_count": 18,
   "id": "91a44330-d649-48e6-80ed-c9babba2a3a5",
   "metadata": {},
   "outputs": [
    {
     "data": {
      "image/png": "[encoded data removed]",
      "text/plain": [
       "<Figure size 640x480 with 1 Axes>"
      ]
     },
     "metadata": {},
     "output_type": "display_data"
    },
    {
     "data": {
      "image/png": "[encoded data removed]",
      "text/plain": [
       "<Figure size 640x480 with 1 Axes>"
      ]
     },
     "metadata": {},
     "output_type": "display_data"
    }
   ],
   "source": [
    "plt.plot(metrics['train_loss'], label='Train Loss')\n",
    "plt.plot(metrics['val_loss'], label='Val Loss')\n",
    "plt.xlabel('Epochs')\n",
    "plt.ylabel('Loss')\n",
    "plt.legend()\n",
    "plt.show()\n",
    "\n",
    "plt.plot(metrics['train_acc'], label='Train Accuracy')\n",
    "plt.plot(metrics['val_acc'], label='Val Accuracy')\n",
    "plt.xlabel('Epochs')\n",
    "plt.ylabel('Loss')\n",
    "plt.legend()\n",
    "plt.show()"
   ]
  },
  {
   "cell_type": "markdown",
   "id": "dbce0da9-ee86-4776-a83f-1400df5a7f74",
   "metadata": {},
   "source": [
    "# With word2vec"
   ]
  },
  {
   "cell_type": "code",
   "execution_count": 21,
   "id": "becf073a-b18d-4d0a-8040-70de760ac276",
   "metadata": {},
   "outputs": [],
   "source": [
    "# Train Word2Vec embeddings\n",
    "def train_word2vec(text_columns, vector_size=100, window=5, min_count=1):\n",
    "    # Create training corpus\n",
    "    sentences = []\n",
    "    for col in text_columns:\n",
    "        sentences += [str(text).split() for text in df[col]]\n",
    "    \n",
    "    # Train Word2Vec model\n",
    "    model = Word2Vec(sentences=sentences,\n",
    "                     vector_size=vector_size,\n",
    "                     window=window,\n",
    "                     min_count=min_count,\n",
    "                     workers=4)\n",
    "    return model\n",
    "\n",
    "# Create embedding matrix\n",
    "def create_embedding_matrix(word2vec_model, vocab):\n",
    "    embedding_dim = word2vec_model.vector_size\n",
    "    embedding_matrix = np.zeros((len(vocab), embedding_dim))\n",
    "    \n",
    "    for word, idx in vocab.items():\n",
    "        if word in word2vec_model.wv:\n",
    "            embedding_matrix[idx] = word2vec_model.wv[word]\n",
    "        else:\n",
    "            # Handle unknown words (random initialization with scaling)\n",
    "            embedding_matrix[idx] = np.random.normal(scale=0.6, size=(embedding_dim,))\n",
    "    \n",
    "    return torch.FloatTensor(embedding_matrix)"
   ]
  },
  {
   "cell_type": "code",
   "execution_count": 22,
   "id": "e0788e13-14d0-45ca-b78b-e1c95498998d",
   "metadata": {},
   "outputs": [],
   "source": [
    "class URLClassifierW2V(nn.Module):\n",
    "    def __init__(self, embedding_matrix, num_numerical_features, num_classes):\n",
    "        super().__init__()\n",
    "        self.embedding = nn.Embedding.from_pretrained(embedding_matrix, freeze=False)\n",
    "        self.fc = nn.Sequential(\n",
    "            nn.Linear(embedding_matrix.size(1) + num_numerical_features, 128),\n",
    "            nn.BatchNorm1d(128), \n",
    "            nn.ReLU(),\n",
    "            nn.Dropout(0.5),\n",
    "            nn.Linear(128, num_classes)\n",
    "        )\n",
    "\n",
    "    def forward(self, text, numerical):\n",
    "        embedded = self.embedding(text).mean(dim=1)\n",
    "        combined = torch.cat([embedded, numerical], dim=1)\n",
    "        return self.fc(combined)"
   ]
  },
  {
   "cell_type": "code",
   "execution_count": 24,
   "id": "7ee40135-c6c1-435e-b8ca-0ebb4d590653",
   "metadata": {},
   "outputs": [],
   "source": [
    "# Train Word2Vec\n",
    "w2v_model = train_word2vec(text_columns)\n",
    "\n",
    "# Create embedding matrix\n",
    "embedding_matrix = create_embedding_matrix(w2v_model, vocab)"
   ]
  },
  {
   "cell_type": "code",
   "execution_count": 23,
   "id": "bcc449e7-ed8e-412c-909c-3bd66a90dd95",
   "metadata": {
    "scrolled": true
   },
   "outputs": [
    {
     "name": "stderr",
     "output_type": "stream",
     "text": [
      "Epoch 1 Training: 100%|███████████████████████████████████████████████████████████| 1491/1491 [00:09<00:00, 163.99it/s]\n",
      "Epoch 1 Validation: 100%|███████████████████████████████████████████████████████| 11921/11921 [00:14<00:00, 797.79it/s]\n"
     ]
    },
    {
     "name": "stdout",
     "output_type": "stream",
     "text": [
      "\n",
      "Epoch 1/20\n",
      "Train Loss: 0.4476 | Val Loss: 0.6993\n",
      "Train Acc: 83.28% | Val Acc: 75.30%\n",
      "Train F1: 83.28% | Val F1: 80.65%\n",
      "Train F1: 83.28% | Val F1: 75.30%\n",
      "Train F1: 83.25% | Val F1: 75.19%\n",
      "New best model saved with Val F1: 75.19%\n"
     ]
    },
    {
     "name": "stderr",
     "output_type": "stream",
     "text": [
      "Epoch 2 Training: 100%|███████████████████████████████████████████████████████████| 1491/1491 [00:08<00:00, 171.29it/s]\n",
      "Epoch 2 Validation: 100%|███████████████████████████████████████████████████████| 11921/11921 [00:14<00:00, 796.22it/s]\n"
     ]
    },
    {
     "name": "stdout",
     "output_type": "stream",
     "text": [
      "\n",
      "Epoch 2/20\n",
      "Train Loss: 0.1141 | Val Loss: 0.3289\n",
      "Train Acc: 96.17% | Val Acc: 88.93%\n",
      "Train F1: 96.17% | Val F1: 91.31%\n",
      "Train F1: 96.17% | Val F1: 88.93%\n",
      "Train F1: 96.17% | Val F1: 88.69%\n",
      "New best model saved with Val F1: 88.69%\n"
     ]
    },
    {
     "name": "stderr",
     "output_type": "stream",
     "text": [
      "Epoch 3 Training: 100%|███████████████████████████████████████████████████████████| 1491/1491 [00:10<00:00, 143.42it/s]\n",
      "Epoch 3 Validation: 100%|███████████████████████████████████████████████████████| 11921/11921 [00:28<00:00, 420.66it/s]\n"
     ]
    },
    {
     "name": "stdout",
     "output_type": "stream",
     "text": [
      "\n",
      "Epoch 3/20\n",
      "Train Loss: 0.0394 | Val Loss: 0.1939\n",
      "Train Acc: 98.82% | Val Acc: 93.51%\n",
      "Train F1: 98.82% | Val F1: 93.56%\n",
      "Train F1: 98.82% | Val F1: 93.51%\n",
      "Train F1: 98.82% | Val F1: 93.52%\n",
      "New best model saved with Val F1: 93.52%\n"
     ]
    },
    {
     "name": "stderr",
     "output_type": "stream",
     "text": [
      "Epoch 4 Training: 100%|███████████████████████████████████████████████████████████| 1491/1491 [00:11<00:00, 132.65it/s]\n",
      "Epoch 4 Validation: 100%|███████████████████████████████████████████████████████| 11921/11921 [00:28<00:00, 420.08it/s]\n"
     ]
    },
    {
     "name": "stdout",
     "output_type": "stream",
     "text": [
      "\n",
      "Epoch 4/20\n",
      "Train Loss: 0.0214 | Val Loss: 0.2544\n",
      "Train Acc: 99.35% | Val Acc: 92.53%\n",
      "Train F1: 99.35% | Val F1: 93.11%\n",
      "Train F1: 99.35% | Val F1: 92.53%\n",
      "Train F1: 99.35% | Val F1: 92.40%\n"
     ]
    },
    {
     "name": "stderr",
     "output_type": "stream",
     "text": [
      "Epoch 5 Training: 100%|███████████████████████████████████████████████████████████| 1491/1491 [00:11<00:00, 132.43it/s]\n",
      "Epoch 5 Validation: 100%|███████████████████████████████████████████████████████| 11921/11921 [00:28<00:00, 417.71it/s]\n"
     ]
    },
    {
     "name": "stdout",
     "output_type": "stream",
     "text": [
      "\n",
      "Epoch 5/20\n",
      "Train Loss: 0.0144 | Val Loss: 0.2328\n",
      "Train Acc: 99.58% | Val Acc: 93.55%\n",
      "Train F1: 99.58% | Val F1: 93.75%\n",
      "Train F1: 99.58% | Val F1: 93.55%\n",
      "Train F1: 99.58% | Val F1: 93.59%\n",
      "New best model saved with Val F1: 93.59%\n"
     ]
    },
    {
     "name": "stderr",
     "output_type": "stream",
     "text": [
      "Epoch 6 Training: 100%|███████████████████████████████████████████████████████████| 1491/1491 [00:11<00:00, 132.58it/s]\n",
      "Epoch 6 Validation: 100%|███████████████████████████████████████████████████████| 11921/11921 [00:28<00:00, 419.56it/s]\n"
     ]
    },
    {
     "name": "stdout",
     "output_type": "stream",
     "text": [
      "\n",
      "Epoch 6/20\n",
      "Train Loss: 0.0130 | Val Loss: 0.2725\n",
      "Train Acc: 99.59% | Val Acc: 93.60%\n",
      "Train F1: 99.59% | Val F1: 93.63%\n",
      "Train F1: 99.59% | Val F1: 93.60%\n",
      "Train F1: 99.59% | Val F1: 93.61%\n",
      "New best model saved with Val F1: 93.61%\n"
     ]
    },
    {
     "name": "stderr",
     "output_type": "stream",
     "text": [
      "Epoch 7 Training: 100%|███████████████████████████████████████████████████████████| 1491/1491 [00:11<00:00, 133.00it/s]\n",
      "Epoch 7 Validation: 100%|███████████████████████████████████████████████████████| 11921/11921 [00:19<00:00, 615.81it/s]\n"
     ]
    },
    {
     "name": "stdout",
     "output_type": "stream",
     "text": [
      "\n",
      "Epoch 7/20\n",
      "Train Loss: 0.0134 | Val Loss: 0.2923\n",
      "Train Acc: 99.61% | Val Acc: 93.60%\n",
      "Train F1: 99.61% | Val F1: 93.71%\n",
      "Train F1: 99.61% | Val F1: 93.60%\n",
      "Train F1: 99.61% | Val F1: 93.63%\n",
      "New best model saved with Val F1: 93.63%\n"
     ]
    },
    {
     "name": "stderr",
     "output_type": "stream",
     "text": [
      "Epoch 8 Training: 100%|███████████████████████████████████████████████████████████| 1491/1491 [00:08<00:00, 170.61it/s]\n",
      "Epoch 8 Validation: 100%|███████████████████████████████████████████████████████| 11921/11921 [00:15<00:00, 793.86it/s]\n"
     ]
    },
    {
     "name": "stdout",
     "output_type": "stream",
     "text": [
      "\n",
      "Epoch 8/20\n",
      "Train Loss: 0.0123 | Val Loss: 0.2923\n",
      "Train Acc: 99.59% | Val Acc: 92.30%\n",
      "Train F1: 99.59% | Val F1: 92.61%\n",
      "Train F1: 99.59% | Val F1: 92.30%\n",
      "Train F1: 99.59% | Val F1: 92.17%\n"
     ]
    },
    {
     "name": "stderr",
     "output_type": "stream",
     "text": [
      "Epoch 9 Training: 100%|███████████████████████████████████████████████████████████| 1491/1491 [00:08<00:00, 169.36it/s]\n",
      "Epoch 9 Validation: 100%|███████████████████████████████████████████████████████| 11921/11921 [00:18<00:00, 655.72it/s]\n"
     ]
    },
    {
     "name": "stdout",
     "output_type": "stream",
     "text": [
      "\n",
      "Epoch 9/20\n",
      "Train Loss: 0.0118 | Val Loss: 0.2835\n",
      "Train Acc: 99.68% | Val Acc: 93.10%\n",
      "Train F1: 99.68% | Val F1: 93.29%\n",
      "Train F1: 99.68% | Val F1: 93.10%\n",
      "Train F1: 99.68% | Val F1: 93.07%\n"
     ]
    },
    {
     "name": "stderr",
     "output_type": "stream",
     "text": [
      "Epoch 10 Training: 100%|██████████████████████████████████████████████████████████| 1491/1491 [00:11<00:00, 132.38it/s]\n",
      "Epoch 10 Validation: 100%|██████████████████████████████████████████████████████| 11921/11921 [00:28<00:00, 421.10it/s]\n"
     ]
    },
    {
     "name": "stdout",
     "output_type": "stream",
     "text": [
      "\n",
      "Epoch 10/20\n",
      "Train Loss: 0.0100 | Val Loss: 0.3389\n",
      "Train Acc: 99.73% | Val Acc: 92.60%\n",
      "Train F1: 99.73% | Val F1: 92.88%\n",
      "Train F1: 99.73% | Val F1: 92.60%\n",
      "Train F1: 99.73% | Val F1: 92.60%\n"
     ]
    },
    {
     "name": "stderr",
     "output_type": "stream",
     "text": [
      "Epoch 11 Training: 100%|██████████████████████████████████████████████████████████| 1491/1491 [00:11<00:00, 133.08it/s]\n",
      "Epoch 11 Validation: 100%|██████████████████████████████████████████████████████| 11921/11921 [00:28<00:00, 424.57it/s]\n"
     ]
    },
    {
     "name": "stdout",
     "output_type": "stream",
     "text": [
      "\n",
      "Epoch 11/20\n",
      "Train Loss: 0.0079 | Val Loss: 0.3810\n",
      "Train Acc: 99.74% | Val Acc: 93.00%\n",
      "Train F1: 99.74% | Val F1: 92.95%\n",
      "Train F1: 99.74% | Val F1: 93.00%\n",
      "Train F1: 99.74% | Val F1: 92.97%\n"
     ]
    },
    {
     "name": "stderr",
     "output_type": "stream",
     "text": [
      "Epoch 12 Training: 100%|██████████████████████████████████████████████████████████| 1491/1491 [00:11<00:00, 133.08it/s]\n",
      "Epoch 12 Validation: 100%|██████████████████████████████████████████████████████| 11921/11921 [00:28<00:00, 425.06it/s]"
     ]
    },
    {
     "name": "stdout",
     "output_type": "stream",
     "text": [
      "\n",
      "Epoch 12/20\n",
      "Train Loss: 0.0079 | Val Loss: 0.3647\n",
      "Train Acc: 99.78% | Val Acc: 92.63%\n",
      "Train F1: 99.78% | Val F1: 92.82%\n",
      "Train F1: 99.78% | Val F1: 92.63%\n",
      "Train F1: 99.78% | Val F1: 92.54%\n",
      "\n",
      "Early stopping triggered after 12 epochs!\n",
      "\n",
      "Training completed. Best Validation F1: 93.63%\n"
     ]
    },
    {
     "name": "stderr",
     "output_type": "stream",
     "text": [
      "\n"
     ]
    }
   ],
   "source": [
    "# Initialize models with Word2Vec embeddings\n",
    "w2v_ann_model = URLClassifierW2V(embedding_matrix, len(numerical_columns), num_classes)\n",
    "\n",
    "optimizer = torch.optim.Adam(w2v_ann_model.parameters())\n",
    "criterion = torch.nn.CrossEntropyLoss()\n",
    "\n",
    "w2v_ann_model.to(DEVICE)\n",
    "\n",
    "metrics = train_model(\n",
    "    model=w2v_ann_model,\n",
    "    train_loader=train_loader,\n",
    "    val_loader=test_dataset,\n",
    "    optimizer=optimizer,\n",
    "    criterion=criterion,\n",
    "    device=DEVICE,\n",
    "    epochs=20,\n",
    "    early_stop_patience=5,\n",
    "    best_checkpoint_path=\"./Models/best_w2v_ann.pth\",\n",
    ")"
   ]
  },
  {
   "cell_type": "code",
   "execution_count": 24,
   "id": "6861500e-e55c-453f-800d-5d40f310a942",
   "metadata": {},
   "outputs": [
    {
     "data": {
      "image/png": "[encoded data removed]",
      "text/plain": [
       "<Figure size 640x480 with 1 Axes>"
      ]
     },
     "metadata": {},
     "output_type": "display_data"
    },
    {
     "data": {
      "image/png": "[encoded data removed]",
      "text/plain": [
       "<Figure size 640x480 with 1 Axes>"
      ]
     },
     "metadata": {},
     "output_type": "display_data"
    }
   ],
   "source": [
    "plt.plot(metrics['train_loss'], label='Train Loss')\n",
    "plt.plot(metrics['val_loss'], label='Val Loss')\n",
    "plt.xlabel('Epochs')\n",
    "plt.ylabel('Loss')\n",
    "plt.legend()\n",
    "plt.show()\n",
    "\n",
    "plt.plot(metrics['train_acc'], label='Train Accuracy')\n",
    "plt.plot(metrics['val_acc'], label='Val Accuracy')\n",
    "plt.xlabel('Epochs')\n",
    "plt.ylabel('Loss')\n",
    "plt.legend()\n",
    "plt.show()"
   ]
  },
  {
   "cell_type": "code",
   "execution_count": 14,
   "id": "678ba02f-3cca-4e52-bffb-df0dffa6ba68",
   "metadata": {},
   "outputs": [],
   "source": [
    "class URLClassifierW2VCNN(nn.Module):\n",
    "    def __init__(self, vocab_size, num_numerical_features, num_classes):\n",
    "        super().__init__()\n",
    "        self.embedding = nn.Embedding.from_pretrained(embedding_matrix, freeze=False)\n",
    "\n",
    "        self.conv = nn.Sequential(\n",
    "            nn.Conv1d(EMBEDDING_DIM, 64, kernel_size=3),\n",
    "            nn.BatchNorm1d(64),  # Normalize conv outputs\n",
    "            nn.ReLU(),\n",
    "            nn.MaxPool1d(2),\n",
    "            nn.Dropout(0.3)  # Regularization\n",
    "        )\n",
    "\n",
    "        self.fc = nn.Sequential(\n",
    "            nn.Linear(64 * ((MAX_SEQ_LENGTH - 2) // 2) + num_numerical_features, 32),  # Dynamic size\n",
    "            nn.BatchNorm1d(32),\n",
    "            nn.ReLU(),\n",
    "            nn.Dropout(0.5),\n",
    "            nn.Linear(32, num_classes)\n",
    "        )\n",
    "\n",
    "    def forward(self, text, numerical):\n",
    "        embedded = self.embedding(text).permute(0, 2, 1)  # (batch, channels, seq_len)\n",
    "        conv_out = self.conv(embedded).flatten(start_dim=1)\n",
    "        combined = torch.cat([conv_out, numerical], dim=1)\n",
    "        return self.fc(combined)"
   ]
  },
  {
   "cell_type": "code",
   "execution_count": 26,
   "id": "d31c7dea-851c-457e-a591-c908817e6f15",
   "metadata": {
    "scrolled": true
   },
   "outputs": [
    {
     "name": "stderr",
     "output_type": "stream",
     "text": [
      "Epoch 1 Training: 100%|███████████████████████████████████████████████████████████| 1491/1491 [00:07<00:00, 191.01it/s]\n",
      "Epoch 1 Validation: 100%|███████████████████████████████████████████████████████| 11921/11921 [00:28<00:00, 417.12it/s]\n"
     ]
    },
    {
     "name": "stdout",
     "output_type": "stream",
     "text": [
      "\n",
      "Epoch 1/20\n",
      "Train Loss: 0.0049 | Val Loss: 0.3792\n",
      "Train Acc: 99.86% | Val Acc: 92.97%\n",
      "Train F1: 99.86% | Val F1: 92.95%\n",
      "Train F1: 99.86% | Val F1: 92.97%\n",
      "Train F1: 99.86% | Val F1: 92.94%\n",
      "New best model saved with Val F1: 92.94%\n"
     ]
    },
    {
     "name": "stderr",
     "output_type": "stream",
     "text": [
      "Epoch 2 Training: 100%|███████████████████████████████████████████████████████████| 1491/1491 [00:07<00:00, 189.25it/s]\n",
      "Epoch 2 Validation: 100%|███████████████████████████████████████████████████████| 11921/11921 [00:17<00:00, 693.10it/s]\n"
     ]
    },
    {
     "name": "stdout",
     "output_type": "stream",
     "text": [
      "\n",
      "Epoch 2/20\n",
      "Train Loss: 0.0049 | Val Loss: 0.3643\n",
      "Train Acc: 99.84% | Val Acc: 93.41%\n",
      "Train F1: 99.84% | Val F1: 93.46%\n",
      "Train F1: 99.84% | Val F1: 93.41%\n",
      "Train F1: 99.84% | Val F1: 93.42%\n",
      "New best model saved with Val F1: 93.42%\n"
     ]
    },
    {
     "name": "stderr",
     "output_type": "stream",
     "text": [
      "Epoch 3 Training: 100%|███████████████████████████████████████████████████████████| 1491/1491 [00:06<00:00, 228.51it/s]\n",
      "Epoch 3 Validation: 100%|███████████████████████████████████████████████████████| 11921/11921 [00:15<00:00, 768.01it/s]\n"
     ]
    },
    {
     "name": "stdout",
     "output_type": "stream",
     "text": [
      "\n",
      "Epoch 3/20\n",
      "Train Loss: 0.0059 | Val Loss: 0.3573\n",
      "Train Acc: 99.83% | Val Acc: 92.63%\n",
      "Train F1: 99.83% | Val F1: 92.81%\n",
      "Train F1: 99.83% | Val F1: 92.63%\n",
      "Train F1: 99.83% | Val F1: 92.53%\n"
     ]
    },
    {
     "name": "stderr",
     "output_type": "stream",
     "text": [
      "Epoch 4 Training: 100%|███████████████████████████████████████████████████████████| 1491/1491 [00:06<00:00, 236.94it/s]\n",
      "Epoch 4 Validation: 100%|███████████████████████████████████████████████████████| 11921/11921 [00:19<00:00, 613.81it/s]\n"
     ]
    },
    {
     "name": "stdout",
     "output_type": "stream",
     "text": [
      "\n",
      "Epoch 4/20\n",
      "Train Loss: 0.0071 | Val Loss: 0.3650\n",
      "Train Acc: 99.85% | Val Acc: 92.22%\n",
      "Train F1: 99.85% | Val F1: 92.40%\n",
      "Train F1: 99.85% | Val F1: 92.22%\n",
      "Train F1: 99.85% | Val F1: 92.07%\n"
     ]
    },
    {
     "name": "stderr",
     "output_type": "stream",
     "text": [
      "Epoch 5 Training: 100%|███████████████████████████████████████████████████████████| 1491/1491 [00:07<00:00, 189.47it/s]\n",
      "Epoch 5 Validation: 100%|███████████████████████████████████████████████████████| 11921/11921 [00:28<00:00, 418.52it/s]\n"
     ]
    },
    {
     "name": "stdout",
     "output_type": "stream",
     "text": [
      "\n",
      "Epoch 5/20\n",
      "Train Loss: 0.0052 | Val Loss: 0.3556\n",
      "Train Acc: 99.83% | Val Acc: 93.38%\n",
      "Train F1: 99.83% | Val F1: 93.44%\n",
      "Train F1: 99.83% | Val F1: 93.38%\n",
      "Train F1: 99.83% | Val F1: 93.39%\n"
     ]
    },
    {
     "name": "stderr",
     "output_type": "stream",
     "text": [
      "Epoch 6 Training: 100%|███████████████████████████████████████████████████████████| 1491/1491 [00:07<00:00, 189.46it/s]\n",
      "Epoch 6 Validation: 100%|███████████████████████████████████████████████████████| 11921/11921 [00:28<00:00, 416.93it/s]\n"
     ]
    },
    {
     "name": "stdout",
     "output_type": "stream",
     "text": [
      "\n",
      "Epoch 6/20\n",
      "Train Loss: 0.0054 | Val Loss: 0.3633\n",
      "Train Acc: 99.82% | Val Acc: 92.71%\n",
      "Train F1: 99.82% | Val F1: 92.93%\n",
      "Train F1: 99.82% | Val F1: 92.71%\n",
      "Train F1: 99.82% | Val F1: 92.63%\n"
     ]
    },
    {
     "name": "stderr",
     "output_type": "stream",
     "text": [
      "Epoch 7 Training: 100%|███████████████████████████████████████████████████████████| 1491/1491 [00:07<00:00, 189.47it/s]\n",
      "Epoch 7 Validation: 100%|███████████████████████████████████████████████████████| 11921/11921 [00:28<00:00, 421.42it/s]"
     ]
    },
    {
     "name": "stdout",
     "output_type": "stream",
     "text": [
      "\n",
      "Epoch 7/20\n",
      "Train Loss: 0.0042 | Val Loss: 0.3574\n",
      "Train Acc: 99.86% | Val Acc: 93.08%\n",
      "Train F1: 99.86% | Val F1: 93.06%\n",
      "Train F1: 99.86% | Val F1: 93.08%\n",
      "Train F1: 99.86% | Val F1: 93.05%\n",
      "\n",
      "Early stopping triggered after 7 epochs!\n",
      "\n",
      "Training completed. Best Validation F1: 93.42%\n"
     ]
    },
    {
     "name": "stderr",
     "output_type": "stream",
     "text": [
      "\n"
     ]
    }
   ],
   "source": [
    "w2v_cnn_model = URLClassifierW2VCNN(embedding_matrix, len(numerical_columns), num_classes)\n",
    "\n",
    "optimizer = torch.optim.Adam(w2v_cnn_model.parameters())\n",
    "criterion = torch.nn.CrossEntropyLoss()\n",
    "\n",
    "w2v_cnn_model.to(DEVICE)\n",
    "\n",
    "metrics = train_model(\n",
    "    model=w2v_ann_model,\n",
    "    train_loader=train_loader,\n",
    "    val_loader=test_dataset,\n",
    "    optimizer=optimizer,\n",
    "    criterion=criterion,\n",
    "    device=DEVICE,\n",
    "    epochs=20,\n",
    "    early_stop_patience=5,\n",
    "    best_checkpoint_path=\"./Models/best_w2v_cnn.pth\",\n",
    ")"
   ]
  },
  {
   "cell_type": "code",
   "execution_count": 27,
   "id": "7e4de887-4cce-4621-9f8a-25acb716b0e4",
   "metadata": {},
   "outputs": [
    {
     "data": {
      "image/png": "[encoded data removed]",
      "text/plain": [
       "<Figure size 640x480 with 1 Axes>"
      ]
     },
     "metadata": {},
     "output_type": "display_data"
    },
    {
     "data": {
      "image/png": "[encoded data removed]",
      "text/plain": [
       "<Figure size 640x480 with 1 Axes>"
      ]
     },
     "metadata": {},
     "output_type": "display_data"
    }
   ],
   "source": [
    "plt.plot(metrics['train_loss'], label='Train Loss')\n",
    "plt.plot(metrics['val_loss'], label='Val Loss')\n",
    "plt.xlabel('Epochs')\n",
    "plt.ylabel('Loss')\n",
    "plt.legend()\n",
    "plt.show()\n",
    "\n",
    "plt.plot(metrics['train_acc'], label='Train Accuracy')\n",
    "plt.plot(metrics['val_acc'], label='Val Accuracy')\n",
    "plt.xlabel('Epochs')\n",
    "plt.ylabel('Loss')\n",
    "plt.legend()\n",
    "plt.show()"
   ]
  },
  {
   "cell_type": "code",
   "execution_count": 19,
   "id": "4eee8009-928a-4801-89ab-21c465af8b84",
   "metadata": {},
   "outputs": [],
   "source": [
    "import torch\n",
    "import seaborn as sns\n",
    "import matplotlib.pyplot as plt\n",
    "from sklearn.metrics import confusion_matrix, accuracy_score, f1_score, precision_score, recall_score\n",
    "from tqdm import tqdm\n",
    "\n",
    "def evaluate_model(model, test_dataset, vocab, numerical_columns, num_classes):\n",
    "    device = 'cuda' if torch.cuda.is_available() else 'cpu'\n",
    "    criterion = torch.nn.CrossEntropyLoss()\n",
    "\n",
    "    epoch_val_loss = 0.0\n",
    "    val_preds, val_labels = [], []\n",
    "\n",
    "    # Evaluate on validation set\n",
    "    with torch.no_grad():\n",
    "        for batch in tqdm(test_dataset, desc='Validation'):\n",
    "            outputs = model(batch['text'].unsqueeze(0).to(device), batch['numerical'].unsqueeze(0).to(device))\n",
    "            loss = criterion(outputs, batch['label'].to(device))\n",
    "\n",
    "            epoch_val_loss += loss.item()\n",
    "            preds = torch.argmax(torch.softmax(outputs, dim=-1), dim=-1)\n",
    "\n",
    "            val_preds.extend(preds.cpu().numpy())\n",
    "            val_labels.extend(batch['label'].cpu().numpy())\n",
    "\n",
    "    # Compute validation metrics\n",
    "    val_loss = epoch_val_loss / len(test_dataset)\n",
    "    val_acc = accuracy_score(val_labels, val_preds) * 100\n",
    "    val_f1 = f1_score(val_labels, val_preds, average='weighted') * 100\n",
    "    val_precision = precision_score(val_labels, val_preds, average='weighted') * 100\n",
    "    val_recall = recall_score(val_labels, val_preds, average='weighted') * 100\n",
    "\n",
    "    # Generate Confusion Matrix\n",
    "    cm = confusion_matrix(val_labels, val_preds)\n",
    "\n",
    "    # Plot Confusion Matrix\n",
    "    plt.figure(figsize=(8, 6))\n",
    "    sns.heatmap(cm, annot=True, fmt=\"d\", cmap=\"Blues\", xticklabels=range(num_classes), yticklabels=range(num_classes))\n",
    "    plt.xlabel(\"Predicted Labels\")\n",
    "    plt.ylabel(\"True Labels\")\n",
    "    plt.title(\"Confusion Matrix\")\n",
    "    plt.show()\n",
    "\n",
    "    return {\n",
    "        \"val_loss\": val_loss,\n",
    "        \"val_accuracy\": val_acc,\n",
    "        \"val_f1\": val_f1,\n",
    "        \"val_precision\": val_precision,\n",
    "        \"val_recall\": val_recall\n",
    "    }"
   ]
  },
  {
   "cell_type": "code",
   "execution_count": 20,
   "id": "69de6a12-4a4b-41d6-8ede-19c7c5c2bad5",
   "metadata": {},
   "outputs": [
    {
     "name": "stderr",
     "output_type": "stream",
     "text": [
      "C:\\Users\\Areeba\\AppData\\Local\\Temp\\ipykernel_17528\\1786099483.py:2: FutureWarning: You are using `torch.load` with `weights_only=False` (the current default value), which uses the default pickle module implicitly. It is possible to construct malicious pickle data which will execute arbitrary code during unpickling (See https://github.com/pytorch/pytorch/blob/main/SECURITY.md#untrusted-models for more details). In a future release, the default value for `weights_only` will be flipped to `True`. This limits the functions that could be executed during unpickling. Arbitrary objects will no longer be allowed to be loaded via this mode unless they are explicitly allowlisted by the user via `torch.serialization.add_safe_globals`. We recommend you start setting `weights_only=True` for any use case where you don't have full control of the loaded file. Please open an issue on GitHub for any issues related to this experimental feature.\n",
      "  model.load_state_dict(torch.load('./Models/best_cnn.pth', map_location=device))\n",
      "Validation: 100%|███████████████████████████████████████████████████████████████| 11921/11921 [00:13<00:00, 893.36it/s]\n"
     ]
    },
    {
     "data": {
      "image/png": "[encoded data removed]",
      "text/plain": [
       "<Figure size 800x600 with 2 Axes>"
      ]
     },
     "metadata": {},
     "output_type": "display_data"
    },
    {
     "name": "stdout",
     "output_type": "stream",
     "text": [
      "{'val_loss': 0.23612037778343647, 'val_accuracy': 90.83969465648855, 'val_f1': 90.88872210308425, 'val_precision': 91.00724574392662, 'val_recall': 90.83969465648855}\n"
     ]
    }
   ],
   "source": [
    "model = URLClassifierCNN(len(vocab), len(numerical_columns), num_classes)\n",
    "model.load_state_dict(torch.load('./Models/best_cnn.pth', map_location=device))\n",
    "model.to(device)\n",
    "model.eval()\n",
    "\n",
    "results = evaluate_model(model, test_dataset, vocab, numerical_columns, num_classes)\n",
    "print(results)"
   ]
  },
  {
   "cell_type": "code",
   "execution_count": 25,
   "id": "3d988f05-483a-448f-9b03-59d6d4be6814",
   "metadata": {},
   "outputs": [
    {
     "name": "stderr",
     "output_type": "stream",
     "text": [
      "C:\\Users\\Areeba\\AppData\\Local\\Temp\\ipykernel_17528\\3791265341.py:2: FutureWarning: You are using `torch.load` with `weights_only=False` (the current default value), which uses the default pickle module implicitly. It is possible to construct malicious pickle data which will execute arbitrary code during unpickling (See https://github.com/pytorch/pytorch/blob/main/SECURITY.md#untrusted-models for more details). In a future release, the default value for `weights_only` will be flipped to `True`. This limits the functions that could be executed during unpickling. Arbitrary objects will no longer be allowed to be loaded via this mode unless they are explicitly allowlisted by the user via `torch.serialization.add_safe_globals`. We recommend you start setting `weights_only=True` for any use case where you don't have full control of the loaded file. Please open an issue on GitHub for any issues related to this experimental feature.\n",
      "  model.load_state_dict(torch.load('./Models/best_w2v_ann.pth', map_location=device))\n",
      "Validation: 100%|██████████████████████████████████████████████████████████████| 11921/11921 [00:07<00:00, 1629.76it/s]\n"
     ]
    },
    {
     "data": {
      "image/png": "[encoded data removed]",
      "text/plain": [
       "<Figure size 800x600 with 2 Axes>"
      ]
     },
     "metadata": {},
     "output_type": "display_data"
    },
    {
     "name": "stdout",
     "output_type": "stream",
     "text": [
      "{'val_loss': 0.29234314101769415, 'val_accuracy': 93.59953024075162, 'val_f1': 93.63210799151224, 'val_precision': 93.71237210515339, 'val_recall': 93.59953024075162}\n"
     ]
    }
   ],
   "source": [
    "model = URLClassifierW2V(embedding_matrix, len(numerical_columns), num_classes)\n",
    "model.load_state_dict(torch.load('./Models/best_w2v_ann.pth', map_location=device))\n",
    "model.to(device)\n",
    "model.eval()\n",
    "\n",
    "results = evaluate_model(model, test_dataset, vocab, numerical_columns, num_classes)\n",
    "print(results)"
   ]
  },
  {
   "cell_type": "code",
   "execution_count": null,
   "id": "17e75841-f408-49d2-8802-2bb77c1de353",
   "metadata": {},
   "outputs": [],
   "source": []
  }
 ],
 "metadata": {
  "kernelspec": {
   "display_name": "Python 3 (ipykernel)",
   "language": "python",
   "name": "python3"
  },
  "language_info": {
   "codemirror_mode": {
    "name": "ipython",
    "version": 3
   },
   "file_extension": ".py",
   "mimetype": "text/x-python",
   "name": "python",
   "nbconvert_exporter": "python",
   "pygments_lexer": "ipython3",
   "version": "3.12.4"
  }
 },
 "nbformat": 4,
 "nbformat_minor": 5
}

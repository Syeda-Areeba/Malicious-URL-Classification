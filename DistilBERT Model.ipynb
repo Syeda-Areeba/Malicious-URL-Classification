{
 "cells": [
  {
   "cell_type": "code",
   "execution_count": 1,
   "id": "846c986d-016e-4a60-bf6f-79a8e84c1c10",
   "metadata": {},
   "outputs": [
    {
     "name": "stderr",
     "output_type": "stream",
     "text": [
      "C:\\Users\\syeda\\miniconda3\\Lib\\site-packages\\tqdm\\auto.py:21: TqdmWarning: IProgress not found. Please update jupyter and ipywidgets. See https://ipywidgets.readthedocs.io/en/stable/user_install.html\n",
      "  from .autonotebook import tqdm as notebook_tqdm\n"
     ]
    }
   ],
   "source": [
    "from transformers import AutoModelForSequenceClassification\n",
    "from transformers import AutoTokenizer, AutoConfig\n",
    "from sklearn.metrics import accuracy_score, f1_score\n",
    "import numpy as np\n",
    "import pandas as pd\n",
    "import torch\n",
    "from torch.utils.data import Dataset, DataLoader\n",
    "from sklearn.preprocessing import StandardScaler, LabelEncoder\n",
    "from sklearn.metrics import accuracy_score, precision_score, recall_score, f1_score\n",
    "from sklearn.model_selection import train_test_split\n",
    "from tqdm import tqdm"
   ]
  },
  {
   "cell_type": "code",
   "execution_count": null,
   "id": "d686695e-a3ac-4897-a198-29610e39e8a3",
   "metadata": {},
   "outputs": [],
   "source": [
    "# Configuration\n",
    "MODEL_NAME = \"distilbert-base-uncased\"\n",
    "TEXT_COLS = ['url', 'domain', 'path', 'subdomain', 'top_level_domain']\n",
    "NUMERICAL_COLS = ['path_length', 'num_path_segments', 'query_params', \n",
    "                'num_query_params', 'has_https', 'has_fragment',\n",
    "                'has_special_chars_in_path', 'has_port', 'port_number', 'is_ip_address']\n",
    "MAX_LENGTH = 128\n",
    "BATCH_SIZE = 16"
   ]
  },
  {
   "cell_type": "code",
   "execution_count": 3,
   "id": "fc446fc9-88d8-4efb-bc4f-d0ece22e5940",
   "metadata": {},
   "outputs": [],
   "source": [
    "class UrlDataset(Dataset):\n",
    "    def __init__(self, texts, numericals, labels, tokenizer, max_length):\n",
    "        # Process text features\n",
    "        self.texts = [\" \".join([str(t) for t in text_tuple]) \n",
    "                     for text_tuple in zip(*[texts[col] for col in TEXT_COLS])]\n",
    "        \n",
    "        # Process numerical features\n",
    "        self.numericals = numericals\n",
    "        self.labels = labels\n",
    "        self.tokenizer = tokenizer\n",
    "        self.max_length = max_length\n",
    "\n",
    "    def __len__(self):\n",
    "        return len(self.texts)\n",
    "\n",
    "    def __getitem__(self, idx):\n",
    "        text = self.texts[idx]\n",
    "        numerical = self.numericals[idx]\n",
    "        label = self.labels[idx]\n",
    "\n",
    "        encoding = self.tokenizer(\n",
    "            text,\n",
    "            max_length=self.max_length,\n",
    "            padding=\"max_length\",\n",
    "            truncation=True,\n",
    "            return_tensors=\"pt\"\n",
    "        )\n",
    "\n",
    "        return {\n",
    "            **{k: v.squeeze(0) for k, v in encoding.items()},\n",
    "            \"numerical_features\": torch.tensor(numerical, dtype=torch.float),\n",
    "            \"labels\": torch.tensor(label, dtype=torch.long)\n",
    "        }"
   ]
  },
  {
   "cell_type": "code",
   "execution_count": 4,
   "id": "ad0d6440-8345-47d7-906f-5e98f5303857",
   "metadata": {},
   "outputs": [],
   "source": [
    "class CustomModel(torch.nn.Module):\n",
    "    def __init__(self, model_name, num_numerical, num_labels):\n",
    "        super().__init__()\n",
    "        self.transformer = AutoModelForSequenceClassification.from_pretrained(model_name)\n",
    "        self.numerical_layer = torch.nn.Linear(num_numerical, 128)\n",
    "        self.combined_layer = torch.nn.Linear(\n",
    "            self.transformer.config.hidden_size + 128,\n",
    "            num_labels\n",
    "        )\n",
    "\n",
    "    def forward(self, input_ids, attention_mask, numerical_features, labels=None):\n",
    "        # Text features\n",
    "        outputs = self.transformer(\n",
    "            input_ids=input_ids,\n",
    "            attention_mask=attention_mask,\n",
    "            output_hidden_states=True\n",
    "        )\n",
    "        text_features = outputs.hidden_states[-1][:, 0, :]  # CLS token\n",
    "        \n",
    "        # Numerical features\n",
    "        numerical = torch.relu(self.numerical_layer(numerical_features))\n",
    "        \n",
    "        # Combine features\n",
    "        combined = torch.cat([text_features, numerical], dim=1)\n",
    "        logits = self.combined_layer(combined)\n",
    "\n",
    "        loss = None\n",
    "        if labels is not None:\n",
    "            loss_fct = torch.nn.CrossEntropyLoss()\n",
    "            loss = loss_fct(logits.view(-1, self.combined_layer.out_features), \n",
    "                           labels.view(-1))\n",
    "            \n",
    "        return {\"loss\": loss, \"logits\": logits}"
   ]
  },
  {
   "cell_type": "code",
   "execution_count": 5,
   "id": "1831ac6a-3898-4835-8e73-27711426bd97",
   "metadata": {},
   "outputs": [],
   "source": [
    "# Training function\n",
    "def train_custom(model, train_loader, val_loader, optimizer, num_epochs=5, device='cuda'):\n",
    "    criterion = torch.nn.CrossEntropyLoss()\n",
    "    model.to(device)\n",
    "    best_f1 = 0.0\n",
    "    best_model_state = None\n",
    "    \n",
    "    for epoch in range(num_epochs):\n",
    "        model.train()\n",
    "        total_loss, total_correct = 0, 0\n",
    "        for batch in tqdm(train_loader):\n",
    "            optimizer.zero_grad()\n",
    "            \n",
    "            input_ids = batch['input_ids'].to(device)\n",
    "            attention_mask = batch['attention_mask'].to(device)\n",
    "            numerical_features = batch['numerical_features'].to(device)\n",
    "            labels = batch['labels'].to(device)\n",
    "            \n",
    "            outputs = model(input_ids, attention_mask, numerical_features, labels)\n",
    "            loss = outputs['loss']\n",
    "            logits = outputs['logits']\n",
    "            \n",
    "            loss.backward()\n",
    "            optimizer.step()\n",
    "            \n",
    "            total_loss += loss.item()\n",
    "            total_correct += (logits.argmax(dim=1) == labels).sum().item()\n",
    "        \n",
    "        avg_loss = total_loss / len(train_loader)\n",
    "        accuracy = total_correct / len(train_loader.dataset)\n",
    "        print(f\"Epoch {epoch+1}/{num_epochs}, Loss: {avg_loss:.4f}, Accuracy: {accuracy:.4f}\")\n",
    "        \n",
    "        acc, f1, precision, recall = evaluate(model, val_loader, device)\n",
    "        if f1 > best_f1:\n",
    "            best_f1 = f1\n",
    "            best_model_state = model.state_dict()\n",
    "    \n",
    "    if best_model_state:\n",
    "        torch.save(best_model_state, \"./Models/best_distil_bert_model.pth\")\n",
    "        print(\"Best model saved with F1 score: {:.4f}\".format(best_f1))\n",
    "\n",
    "# Evaluation function\n",
    "def evaluate(model, test_loader, device):\n",
    "    model.eval()\n",
    "    total_correct, total_samples = 0, 0\n",
    "    all_preds, all_labels = [], []\n",
    "    \n",
    "    with torch.no_grad():\n",
    "        for batch in tqdm(test_loader):\n",
    "            input_ids = batch['input_ids'].unsqueeze(0).to(device)\n",
    "            attention_mask = batch['attention_mask'].unsqueeze(0).to(device)\n",
    "            numerical_features = batch['numerical_features'].unsqueeze(0).to(device)\n",
    "            labels = batch['labels'].unsqueeze(0).to(device)\n",
    "            \n",
    "            outputs = model(input_ids, attention_mask, numerical_features, labels)\n",
    "            logits = outputs['logits']\n",
    "            \n",
    "            preds = logits.argmax(dim=1).cpu().numpy()\n",
    "            labels = labels.cpu().numpy()\n",
    "            \n",
    "            all_preds.extend(preds)\n",
    "            all_labels.extend(labels)\n",
    "            \n",
    "            total_correct += (preds == labels).sum()\n",
    "            total_samples += labels.shape[0]\n",
    "    \n",
    "    accuracy = accuracy_score(all_labels, all_preds)\n",
    "    precision = precision_score(all_labels, all_preds, average='weighted')\n",
    "    recall = recall_score(all_labels, all_preds, average='weighted')\n",
    "    f1 = f1_score(all_labels, all_preds, average='weighted')\n",
    "    \n",
    "    print(f\"Test - Accuracy: {accuracy:.4f}, Precision: {precision:.4f}, Recall: {recall:.4f}, F1 Score: {f1:.4f}\")\n",
    "    return accuracy, f1, precision, recall\n",
    "\n",
    "# Main function\n",
    "def train_model(df):\n",
    "    le = LabelEncoder()\n",
    "    labels = le.fit_transform(df['type'])\n",
    "    num_labels = len(le.classes_)\n",
    "    \n",
    "    scaler = StandardScaler()\n",
    "    numericals = scaler.fit_transform(df[NUMERICAL_COLS])\n",
    "    \n",
    "    train_idx, val_idx, test_idx = np.split(\n",
    "        np.random.permutation(len(df)), [int(.7 * len(df)), int(.85 * len(df))]\n",
    "    )\n",
    "    \n",
    "    tokenizer = AutoTokenizer.from_pretrained(MODEL_NAME)\n",
    "    train_dataset = UrlDataset({col: df[col].iloc[train_idx] for col in TEXT_COLS}, numericals[train_idx], labels[train_idx], tokenizer, MAX_LENGTH)\n",
    "    val_dataset = UrlDataset({col: df[col].iloc[val_idx] for col in TEXT_COLS}, numericals[val_idx], labels[val_idx], tokenizer, MAX_LENGTH)\n",
    "    test_dataset = UrlDataset({col: df[col].iloc[test_idx] for col in TEXT_COLS}, numericals[test_idx], labels[test_idx], tokenizer, MAX_LENGTH)\n",
    "    \n",
    "    train_loader = DataLoader(train_dataset, batch_size=BATCH_SIZE, shuffle=True)\n",
    "    val_loader = DataLoader(val_dataset, batch_size=BATCH_SIZE)\n",
    "    test_loader = DataLoader(test_dataset, batch_size=BATCH_SIZE)\n",
    "    \n",
    "    model = CustomModel(MODEL_NAME, len(NUMERICAL_COLS), num_labels)\n",
    "    optimizer = torch.optim.AdamW(model.parameters(), lr=2e-5, weight_decay=0.01)\n",
    "    \n",
    "    train_custom(model, train_loader, test_dataset, optimizer, num_epochs=5, device='cuda' if torch.cuda.is_available() else 'cpu')\n",
    "    evaluate(model, test_dataset, device='cuda' if torch.cuda.is_available() else 'cpu')"
   ]
  },
  {
   "cell_type": "code",
   "execution_count": 6,
   "id": "e1e02d0d-9a9a-451c-8996-a377eaa636d2",
   "metadata": {},
   "outputs": [
    {
     "name": "stderr",
     "output_type": "stream",
     "text": [
      "Some weights of DistilBertForSequenceClassification were not initialized from the model checkpoint at distilbert-base-uncased and are newly initialized: ['classifier.bias', 'classifier.weight', 'pre_classifier.bias', 'pre_classifier.weight']\n",
      "You should probably TRAIN this model on a down-stream task to be able to use it for predictions and inference.\n",
      "100%|██████████████████████████████████████████████████████████████████████████████| 1304/1304 [03:24<00:00,  6.37it/s]\n"
     ]
    },
    {
     "name": "stdout",
     "output_type": "stream",
     "text": [
      "Epoch 1/5, Loss: 0.2272, Accuracy: 0.9197\n"
     ]
    },
    {
     "name": "stderr",
     "output_type": "stream",
     "text": [
      "100%|█████████████████████████████████████████████████████████████████████████████| 8941/8941 [01:11<00:00, 125.02it/s]\n"
     ]
    },
    {
     "name": "stdout",
     "output_type": "stream",
     "text": [
      "Test - Accuracy: 0.9576, Precision: 0.9581, Recall: 0.9576, F1 Score: 0.9577\n"
     ]
    },
    {
     "name": "stderr",
     "output_type": "stream",
     "text": [
      "100%|██████████████████████████████████████████████████████████████████████████████| 1304/1304 [03:01<00:00,  7.19it/s]\n"
     ]
    },
    {
     "name": "stdout",
     "output_type": "stream",
     "text": [
      "Epoch 2/5, Loss: 0.0980, Accuracy: 0.9650\n"
     ]
    },
    {
     "name": "stderr",
     "output_type": "stream",
     "text": [
      "100%|█████████████████████████████████████████████████████████████████████████████| 8941/8941 [01:12<00:00, 123.23it/s]\n"
     ]
    },
    {
     "name": "stdout",
     "output_type": "stream",
     "text": [
      "Test - Accuracy: 0.9616, Precision: 0.9627, Recall: 0.9616, F1 Score: 0.9618\n"
     ]
    },
    {
     "name": "stderr",
     "output_type": "stream",
     "text": [
      "100%|██████████████████████████████████████████████████████████████████████████████| 1304/1304 [03:23<00:00,  6.39it/s]\n"
     ]
    },
    {
     "name": "stdout",
     "output_type": "stream",
     "text": [
      "Epoch 3/5, Loss: 0.0539, Accuracy: 0.9815\n"
     ]
    },
    {
     "name": "stderr",
     "output_type": "stream",
     "text": [
      "100%|█████████████████████████████████████████████████████████████████████████████| 8941/8941 [01:07<00:00, 132.03it/s]\n"
     ]
    },
    {
     "name": "stdout",
     "output_type": "stream",
     "text": [
      "Test - Accuracy: 0.9635, Precision: 0.9641, Recall: 0.9635, F1 Score: 0.9635\n"
     ]
    },
    {
     "name": "stderr",
     "output_type": "stream",
     "text": [
      "100%|██████████████████████████████████████████████████████████████████████████████| 1304/1304 [03:30<00:00,  6.20it/s]\n"
     ]
    },
    {
     "name": "stdout",
     "output_type": "stream",
     "text": [
      "Epoch 4/5, Loss: 0.0316, Accuracy: 0.9897\n"
     ]
    },
    {
     "name": "stderr",
     "output_type": "stream",
     "text": [
      "100%|█████████████████████████████████████████████████████████████████████████████| 8941/8941 [01:05<00:00, 137.31it/s]\n"
     ]
    },
    {
     "name": "stdout",
     "output_type": "stream",
     "text": [
      "Test - Accuracy: 0.9672, Precision: 0.9673, Recall: 0.9672, F1 Score: 0.9672\n"
     ]
    },
    {
     "name": "stderr",
     "output_type": "stream",
     "text": [
      "100%|██████████████████████████████████████████████████████████████████████████████| 1304/1304 [03:33<00:00,  6.11it/s]\n"
     ]
    },
    {
     "name": "stdout",
     "output_type": "stream",
     "text": [
      "Epoch 5/5, Loss: 0.0167, Accuracy: 0.9942\n"
     ]
    },
    {
     "name": "stderr",
     "output_type": "stream",
     "text": [
      "100%|█████████████████████████████████████████████████████████████████████████████| 8941/8941 [01:01<00:00, 145.57it/s]\n"
     ]
    },
    {
     "name": "stdout",
     "output_type": "stream",
     "text": [
      "Test - Accuracy: 0.9669, Precision: 0.9677, Recall: 0.9669, F1 Score: 0.9670\n",
      "Best model saved with F1 score: 0.9672\n"
     ]
    },
    {
     "name": "stderr",
     "output_type": "stream",
     "text": [
      "100%|█████████████████████████████████████████████████████████████████████████████| 8941/8941 [01:07<00:00, 131.66it/s]"
     ]
    },
    {
     "name": "stdout",
     "output_type": "stream",
     "text": [
      "Test - Accuracy: 0.9669, Precision: 0.9677, Recall: 0.9669, F1 Score: 0.9670\n"
     ]
    },
    {
     "name": "stderr",
     "output_type": "stream",
     "text": [
      "\n"
     ]
    }
   ],
   "source": [
    "df = pd.read_csv('./Data/Balanced_dataset.csv')\n",
    "train_model(df)"
   ]
  },
  {
   "cell_type": "code",
   "execution_count": null,
   "id": "d810661b-bab6-4294-a61b-05217e63d98d",
   "metadata": {},
   "outputs": [],
   "source": []
  }
 ],
 "metadata": {
  "kernelspec": {
   "display_name": "Python 3 (ipykernel)",
   "language": "python",
   "name": "python3"
  },
  "language_info": {
   "codemirror_mode": {
    "name": "ipython",
    "version": 3
   },
   "file_extension": ".py",
   "mimetype": "text/x-python",
   "name": "python",
   "nbconvert_exporter": "python",
   "pygments_lexer": "ipython3",
   "version": "3.12.4"
  }
 },
 "nbformat": 4,
 "nbformat_minor": 5
}
